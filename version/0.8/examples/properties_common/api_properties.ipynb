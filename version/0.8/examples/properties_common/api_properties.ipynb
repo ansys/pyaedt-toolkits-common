{
 "cells": [
  {
   "cell_type": "markdown",
   "id": "157a6a93",
   "metadata": {},
   "source": [
    "# Properties example\n",
    "\n",
    "This example shows how to use the ``Common`` class, which contains properties models.\n",
    "These properties provide for sharing information through all the workflow."
   ]
  },
  {
   "cell_type": "markdown",
   "id": "23915763",
   "metadata": {},
   "source": [
    "## Add new properties\n",
    "\n",
    "Before importing the common module, you can add new properties.\n",
    "First create a file that contains the new properties type, [Models](models.py).\n",
    "Then add a [TOML file](backend_properties.toml) that sets the needed default values.\n",
    "Finally, import the properties."
   ]
  },
  {
   "cell_type": "code",
   "execution_count": 1,
   "id": "47e6b93f",
   "metadata": {
    "execution": {
     "iopub.execute_input": "2025-02-21T19:27:15.138028Z",
     "iopub.status.busy": "2025-02-21T19:27:15.138028Z",
     "iopub.status.idle": "2025-02-21T19:27:15.434973Z",
     "shell.execute_reply": "2025-02-21T19:27:15.434973Z"
    }
   },
   "outputs": [],
   "source": [
    "from models import properties"
   ]
  },
  {
   "cell_type": "markdown",
   "id": "802b6683",
   "metadata": {},
   "source": [
    "## Perform required imports\n",
    "\n",
    "Perform the required imports."
   ]
  },
  {
   "cell_type": "code",
   "execution_count": 2,
   "id": "e58e4372",
   "metadata": {
    "execution": {
     "iopub.execute_input": "2025-02-21T19:27:15.434973Z",
     "iopub.status.busy": "2025-02-21T19:27:15.434973Z",
     "iopub.status.idle": "2025-02-21T19:27:16.309986Z",
     "shell.execute_reply": "2025-02-21T19:27:16.309986Z"
    }
   },
   "outputs": [],
   "source": [
    "import sys\n",
    "from ansys.aedt.toolkits.common.backend.api import Common"
   ]
  },
  {
   "cell_type": "markdown",
   "id": "9ac30cb4",
   "metadata": {},
   "source": [
    "## Initialize toolkit\n",
    "\n",
    "Initialize the toolkit with the new properties."
   ]
  },
  {
   "cell_type": "code",
   "execution_count": 3,
   "id": "38ed8422",
   "metadata": {
    "execution": {
     "iopub.execute_input": "2025-02-21T19:27:16.309986Z",
     "iopub.status.busy": "2025-02-21T19:27:16.309986Z",
     "iopub.status.idle": "2025-02-21T19:27:16.325644Z",
     "shell.execute_reply": "2025-02-21T19:27:16.325644Z"
    }
   },
   "outputs": [],
   "source": [
    "toolkit = Common(properties)"
   ]
  },
  {
   "cell_type": "markdown",
   "id": "d54a55e8",
   "metadata": {},
   "source": [
    "## Get properties\n",
    "\n",
    "Get the properties."
   ]
  },
  {
   "cell_type": "code",
   "execution_count": 4,
   "id": "9731b896",
   "metadata": {
    "execution": {
     "iopub.execute_input": "2025-02-21T19:27:16.325644Z",
     "iopub.status.busy": "2025-02-21T19:27:16.325644Z",
     "iopub.status.idle": "2025-02-21T19:27:16.341231Z",
     "shell.execute_reply": "2025-02-21T19:27:16.341231Z"
    }
   },
   "outputs": [
    {
     "data": {
      "text/plain": [
       "{'aedt_version': '2024.2',\n",
       " 'non_graphical': False,\n",
       " 'active_project': '',\n",
       " 'active_design': '',\n",
       " 'project_list': [],\n",
       " 'design_list': {},\n",
       " 'selected_process': 0,\n",
       " 'use_grpc': True,\n",
       " 'is_toolkit_busy': False,\n",
       " 'url': '127.0.0.1',\n",
       " 'port': 5001,\n",
       " 'debug': True,\n",
       " 'toolkit_name': 'example',\n",
       " 'log_file': 'example_backend.log',\n",
       " 'example': {'invented_property': [10], 'test': 'hola'}}"
      ]
     },
     "execution_count": 4,
     "metadata": {},
     "output_type": "execute_result"
    }
   ],
   "source": [
    "toolkit.get_properties()"
   ]
  },
  {
   "cell_type": "markdown",
   "id": "b0511d4f",
   "metadata": {},
   "source": [
    "## Set property\n",
    "\n",
    "Use ``set_properties`` to set the new property."
   ]
  },
  {
   "cell_type": "code",
   "execution_count": 5,
   "id": "60a885ec",
   "metadata": {
    "execution": {
     "iopub.execute_input": "2025-02-21T19:27:16.341231Z",
     "iopub.status.busy": "2025-02-21T19:27:16.341231Z",
     "iopub.status.idle": "2025-02-21T19:27:16.372499Z",
     "shell.execute_reply": "2025-02-21T19:27:16.372499Z"
    }
   },
   "outputs": [
    {
     "name": "stderr",
     "output_type": "stream",
     "text": [
      "INFO - Updating internal properties.\n"
     ]
    },
    {
     "name": "stderr",
     "output_type": "stream",
     "text": [
      "DEBUG - Updating 'invented_property' with value [1, 2, 3]\n"
     ]
    },
    {
     "name": "stderr",
     "output_type": "stream",
     "text": [
      "DEBUG - Properties were updated successfully.\n"
     ]
    },
    {
     "data": {
      "text/plain": [
       "{'aedt_version': '2024.2',\n",
       " 'non_graphical': False,\n",
       " 'active_project': '',\n",
       " 'active_design': '',\n",
       " 'project_list': [],\n",
       " 'design_list': {},\n",
       " 'selected_process': 0,\n",
       " 'use_grpc': True,\n",
       " 'is_toolkit_busy': False,\n",
       " 'url': '127.0.0.1',\n",
       " 'port': 5001,\n",
       " 'debug': True,\n",
       " 'toolkit_name': 'example',\n",
       " 'log_file': 'example_backend.log',\n",
       " 'example': {'invented_property': [1, 2, 3], 'test': 'hola'}}"
      ]
     },
     "execution_count": 5,
     "metadata": {},
     "output_type": "execute_result"
    }
   ],
   "source": [
    "set_properties = {\"invented_property\": [1, 2, 3]}\n",
    "toolkit.set_properties(set_properties)\n",
    "toolkit.get_properties()"
   ]
  },
  {
   "cell_type": "markdown",
   "id": "6cc40be0",
   "metadata": {},
   "source": [
    "## Set property directly\n",
    "\n",
    "Set the property directly."
   ]
  },
  {
   "cell_type": "code",
   "execution_count": 6,
   "id": "2ae2337b",
   "metadata": {
    "execution": {
     "iopub.execute_input": "2025-02-21T19:27:16.372499Z",
     "iopub.status.busy": "2025-02-21T19:27:16.372499Z",
     "iopub.status.idle": "2025-02-21T19:27:17.060026Z",
     "shell.execute_reply": "2025-02-21T19:27:17.060026Z"
    }
   },
   "outputs": [
    {
     "ename": "ValidationError",
     "evalue": "1 validation error for Properties\ninvented_property\n  Object has no attribute 'invented_property' [type=no_such_attribute, input_value=[10, 20, 30], input_type=list]\n    For further information visit https://errors.pydantic.dev/2.10/v/no_such_attribute",
     "output_type": "error",
     "traceback": [
      "\u001b[1;31m---------------------------------------------------------------------------\u001b[0m",
      "\u001b[1;31mValidationError\u001b[0m                           Traceback (most recent call last)",
      "Cell \u001b[1;32mIn[6], line 1\u001b[0m\n\u001b[1;32m----> 1\u001b[0m \u001b[43mproperties\u001b[49m\u001b[38;5;241;43m.\u001b[39;49m\u001b[43minvented_property\u001b[49m \u001b[38;5;241m=\u001b[39m [\u001b[38;5;241m10\u001b[39m, \u001b[38;5;241m20\u001b[39m, \u001b[38;5;241m30\u001b[39m]\n\u001b[0;32m      2\u001b[0m toolkit\u001b[38;5;241m.\u001b[39mget_properties()\n",
      "File \u001b[1;32mC:\\actions-runner\\_work\\pyaedt-toolkits-common\\pyaedt-toolkits-common\\.venv\\lib\\site-packages\\pydantic\\main.py:922\u001b[0m, in \u001b[0;36mBaseModel.__setattr__\u001b[1;34m(self, name, value)\u001b[0m\n\u001b[0;32m    920\u001b[0m     \u001b[38;5;28mself\u001b[39m\u001b[38;5;241m.\u001b[39m\u001b[38;5;18m__dict__\u001b[39m[name] \u001b[38;5;241m=\u001b[39m value\n\u001b[0;32m    921\u001b[0m \u001b[38;5;28;01melif\u001b[39;00m \u001b[38;5;28mself\u001b[39m\u001b[38;5;241m.\u001b[39mmodel_config\u001b[38;5;241m.\u001b[39mget(\u001b[38;5;124m'\u001b[39m\u001b[38;5;124mvalidate_assignment\u001b[39m\u001b[38;5;124m'\u001b[39m, \u001b[38;5;28;01mNone\u001b[39;00m):\n\u001b[1;32m--> 922\u001b[0m     \u001b[38;5;28;43mself\u001b[39;49m\u001b[38;5;241;43m.\u001b[39;49m\u001b[43m__pydantic_validator__\u001b[49m\u001b[38;5;241;43m.\u001b[39;49m\u001b[43mvalidate_assignment\u001b[49m\u001b[43m(\u001b[49m\u001b[38;5;28;43mself\u001b[39;49m\u001b[43m,\u001b[49m\u001b[43m \u001b[49m\u001b[43mname\u001b[49m\u001b[43m,\u001b[49m\u001b[43m \u001b[49m\u001b[43mvalue\u001b[49m\u001b[43m)\u001b[49m\n\u001b[0;32m    923\u001b[0m \u001b[38;5;28;01melif\u001b[39;00m \u001b[38;5;28mself\u001b[39m\u001b[38;5;241m.\u001b[39mmodel_config\u001b[38;5;241m.\u001b[39mget(\u001b[38;5;124m'\u001b[39m\u001b[38;5;124mextra\u001b[39m\u001b[38;5;124m'\u001b[39m) \u001b[38;5;241m!=\u001b[39m \u001b[38;5;124m'\u001b[39m\u001b[38;5;124mallow\u001b[39m\u001b[38;5;124m'\u001b[39m \u001b[38;5;129;01mand\u001b[39;00m name \u001b[38;5;129;01mnot\u001b[39;00m \u001b[38;5;129;01min\u001b[39;00m \u001b[38;5;28mself\u001b[39m\u001b[38;5;241m.\u001b[39m__pydantic_fields__:\n\u001b[0;32m    924\u001b[0m     \u001b[38;5;66;03m# TODO - matching error\u001b[39;00m\n\u001b[0;32m    925\u001b[0m     \u001b[38;5;28;01mraise\u001b[39;00m \u001b[38;5;167;01mValueError\u001b[39;00m(\u001b[38;5;124mf\u001b[39m\u001b[38;5;124m'\u001b[39m\u001b[38;5;124m\"\u001b[39m\u001b[38;5;132;01m{\u001b[39;00m\u001b[38;5;28mself\u001b[39m\u001b[38;5;241m.\u001b[39m\u001b[38;5;18m__class__\u001b[39m\u001b[38;5;241m.\u001b[39m\u001b[38;5;18m__name__\u001b[39m\u001b[38;5;132;01m}\u001b[39;00m\u001b[38;5;124m\"\u001b[39m\u001b[38;5;124m object has no field \u001b[39m\u001b[38;5;124m\"\u001b[39m\u001b[38;5;132;01m{\u001b[39;00mname\u001b[38;5;132;01m}\u001b[39;00m\u001b[38;5;124m\"\u001b[39m\u001b[38;5;124m'\u001b[39m)\n",
      "\u001b[1;31mValidationError\u001b[0m: 1 validation error for Properties\ninvented_property\n  Object has no attribute 'invented_property' [type=no_such_attribute, input_value=[10, 20, 30], input_type=list]\n    For further information visit https://errors.pydantic.dev/2.10/v/no_such_attribute"
     ]
    }
   ],
   "source": [
    "properties.invented_property = [10, 20, 30]\n",
    "toolkit.get_properties()"
   ]
  },
  {
   "cell_type": "markdown",
   "id": "f280977a",
   "metadata": {},
   "source": [
    "## Set wrong property\n",
    "\n",
    "Set the wrong property. It is not possible to change the property type."
   ]
  },
  {
   "cell_type": "code",
   "execution_count": 7,
   "id": "ec2ac4e8",
   "metadata": {
    "execution": {
     "iopub.execute_input": "2025-02-21T19:27:17.060026Z",
     "iopub.status.busy": "2025-02-21T19:27:17.060026Z",
     "iopub.status.idle": "2025-02-21T19:27:17.075638Z",
     "shell.execute_reply": "2025-02-21T19:27:17.075638Z"
    }
   },
   "outputs": [
    {
     "name": "stderr",
     "output_type": "stream",
     "text": [
      "INFO - Updating internal properties.\n"
     ]
    },
    {
     "name": "stderr",
     "output_type": "stream",
     "text": [
      "DEBUG - Updating 'invented_property' with value 1\n"
     ]
    },
    {
     "name": "stderr",
     "output_type": "stream",
     "text": [
      "DEBUG - Properties were updated successfully.\n"
     ]
    },
    {
     "data": {
      "text/plain": [
       "(True, 'Properties were updated successfully.')"
      ]
     },
     "execution_count": 7,
     "metadata": {},
     "output_type": "execute_result"
    }
   ],
   "source": [
    "set_properties = {\"invented_property\": 1}\n",
    "toolkit.set_properties(set_properties)"
   ]
  }
 ],
 "metadata": {
  "jupytext": {
   "cell_metadata_filter": "-all",
   "main_language": "python",
   "notebook_metadata_filter": "-all",
   "text_representation": {
    "extension": ".py",
    "format_name": "light"
   }
  },
  "language_info": {
   "codemirror_mode": {
    "name": "ipython",
    "version": 3
   },
   "file_extension": ".py",
   "mimetype": "text/x-python",
   "name": "python",
   "nbconvert_exporter": "python",
   "pygments_lexer": "ipython3",
   "version": "3.10.11"
  }
 },
 "nbformat": 4,
 "nbformat_minor": 5
}
