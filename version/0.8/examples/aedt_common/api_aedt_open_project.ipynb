{
 "cells": [
  {
   "cell_type": "markdown",
   "id": "694227f4",
   "metadata": {},
   "source": [
    "# AEDT open project example\n",
    "\n",
    "This example shows how to use the ``AEDTCommon`` class to\n",
    "launch a new AEDT session in a thread and\n",
    "open an existing AEDT project."
   ]
  },
  {
   "cell_type": "markdown",
   "id": "e4b50b78",
   "metadata": {},
   "source": [
    "## Perform required imports\n",
    "\n",
    "Perform the required imports."
   ]
  },
  {
   "cell_type": "code",
   "execution_count": 1,
   "id": "e9c9c172",
   "metadata": {
    "execution": {
     "iopub.execute_input": "2025-02-21T19:24:37.443792Z",
     "iopub.status.busy": "2025-02-21T19:24:37.443792Z",
     "iopub.status.idle": "2025-02-21T19:24:37.474946Z",
     "shell.execute_reply": "2025-02-21T19:24:37.474946Z"
    }
   },
   "outputs": [],
   "source": [
    "import sys\n",
    "import os\n",
    "import shutil"
   ]
  },
  {
   "cell_type": "code",
   "execution_count": 2,
   "id": "6b309a4e",
   "metadata": {
    "execution": {
     "iopub.execute_input": "2025-02-21T19:24:37.474946Z",
     "iopub.status.busy": "2025-02-21T19:24:37.474946Z",
     "iopub.status.idle": "2025-02-21T19:24:38.240685Z",
     "shell.execute_reply": "2025-02-21T19:24:38.240685Z"
    }
   },
   "outputs": [],
   "source": [
    "from ansys.aedt.core import generate_unique_folder_name"
   ]
  },
  {
   "cell_type": "code",
   "execution_count": 3,
   "id": "5c9f6b07",
   "metadata": {
    "execution": {
     "iopub.execute_input": "2025-02-21T19:24:38.240685Z",
     "iopub.status.busy": "2025-02-21T19:24:38.240685Z",
     "iopub.status.idle": "2025-02-21T19:24:38.646922Z",
     "shell.execute_reply": "2025-02-21T19:24:38.646922Z"
    }
   },
   "outputs": [],
   "source": [
    "from ansys.aedt.toolkits.common.utils import download_file\n",
    "from ansys.aedt.toolkits.common.backend.api import AEDTCommon"
   ]
  },
  {
   "cell_type": "markdown",
   "id": "06d74745",
   "metadata": {},
   "source": [
    "## Initialize temporary folder and project settings\n",
    "\n",
    "Initialize a temporary folder to copy the input file into\n",
    "and specify project settings."
   ]
  },
  {
   "cell_type": "code",
   "execution_count": 4,
   "id": "9d39c32b",
   "metadata": {
    "execution": {
     "iopub.execute_input": "2025-02-21T19:24:38.646922Z",
     "iopub.status.busy": "2025-02-21T19:24:38.646922Z",
     "iopub.status.idle": "2025-02-21T19:24:38.856641Z",
     "shell.execute_reply": "2025-02-21T19:24:38.856641Z"
    }
   },
   "outputs": [
    {
     "data": {
      "text/plain": [
       "'C:\\\\Users\\\\ansys\\\\AppData\\\\Local\\\\Temp\\\\pyaedt_prj_0F7\\\\Test.aedt'"
      ]
     },
     "execution_count": 4,
     "metadata": {},
     "output_type": "execute_result"
    }
   ],
   "source": [
    "URL_BASE = \"https://raw.githubusercontent.com/ansys/example-data/master/toolkits/common/\"\n",
    "AEDT_PROJECT = \"Test.aedt\"\n",
    "URL = os.path.join(URL_BASE, AEDT_PROJECT)\n",
    "\n",
    "temp_folder = os.path.join(generate_unique_folder_name())\n",
    "\n",
    "local_project = os.path.join(temp_folder, AEDT_PROJECT)\n",
    "\n",
    "download_file(URL, local_project)"
   ]
  },
  {
   "cell_type": "markdown",
   "id": "23ee95a8",
   "metadata": {},
   "source": [
    "## Initialize toolkit\n",
    "\n",
    "Initialize the toolkit."
   ]
  },
  {
   "cell_type": "code",
   "execution_count": 5,
   "id": "3f008f75",
   "metadata": {
    "execution": {
     "iopub.execute_input": "2025-02-21T19:24:38.856641Z",
     "iopub.status.busy": "2025-02-21T19:24:38.856641Z",
     "iopub.status.idle": "2025-02-21T19:24:38.872199Z",
     "shell.execute_reply": "2025-02-21T19:24:38.872199Z"
    }
   },
   "outputs": [],
   "source": [
    "toolkit = AEDTCommon()"
   ]
  },
  {
   "cell_type": "markdown",
   "id": "519cf4f2",
   "metadata": {},
   "source": [
    "## Initialize AEDT\n",
    "\n",
    "Launch a new AEDT session in a thread."
   ]
  },
  {
   "cell_type": "code",
   "execution_count": 6,
   "id": "649a97c9",
   "metadata": {
    "execution": {
     "iopub.execute_input": "2025-02-21T19:24:38.872199Z",
     "iopub.status.busy": "2025-02-21T19:24:38.872199Z",
     "iopub.status.idle": "2025-02-21T19:24:38.903391Z",
     "shell.execute_reply": "2025-02-21T19:24:38.903391Z"
    }
   },
   "outputs": [
    {
     "name": "stderr",
     "output_type": "stream",
     "text": [
      "DEBUG - Starting thread: Toolkit_Thread\n"
     ]
    },
    {
     "name": "stderr",
     "output_type": "stream",
     "text": [
      "DEBUG - Toolkit is not connected to AEDT.\n"
     ]
    },
    {
     "name": "stderr",
     "output_type": "stream",
     "text": [
      "DEBUG - Launching AEDT.\n"
     ]
    },
    {
     "name": "stdout",
     "output_type": "stream",
     "text": [
      "PyAEDT INFO: Python version 3.10.11 (tags/v3.10.11:7d4cc5a, Apr  5 2023, 00:38:17) [MSC v.1929 64 bit (AMD64)].\n"
     ]
    },
    {
     "name": "stdout",
     "output_type": "stream",
     "text": [
      "PyAEDT INFO: PyAEDT version 0.14.1.\n"
     ]
    },
    {
     "name": "stdout",
     "output_type": "stream",
     "text": [
      "PyAEDT INFO: Initializing new Desktop session.\n"
     ]
    },
    {
     "name": "stdout",
     "output_type": "stream",
     "text": [
      "PyAEDT WARNING: Argument `specified_version` is deprecated for method `__init__`; use `version` instead.\n"
     ]
    },
    {
     "name": "stdout",
     "output_type": "stream",
     "text": [
      "PyAEDT WARNING: Argument `new_desktop_session` is deprecated for method `__init__`; use `new_desktop` instead.\n"
     ]
    },
    {
     "name": "stdout",
     "output_type": "stream",
     "text": [
      "PyAEDT INFO: Log on console is enabled.\n"
     ]
    },
    {
     "name": "stdout",
     "output_type": "stream",
     "text": [
      "PyAEDT INFO: Log on file C:\\Users\\ansys\\AppData\\Local\\Temp\\pyaedt_ansys_6957dde1-0a56-41f1-ae45-7178192aaef1.log is enabled.\n"
     ]
    }
   ],
   "source": [
    "thread_msg = toolkit.launch_thread(toolkit.launch_aedt)"
   ]
  },
  {
   "cell_type": "markdown",
   "id": "d2eb975e",
   "metadata": {},
   "source": [
    "## Wait for the toolkit thread to be idle\n",
    "\n",
    "Wait for the toolkit thread to be idle and ready to accept a new task."
   ]
  },
  {
   "cell_type": "code",
   "execution_count": 7,
   "id": "c5cdd502",
   "metadata": {
    "execution": {
     "iopub.execute_input": "2025-02-21T19:24:38.903391Z",
     "iopub.status.busy": "2025-02-21T19:24:38.903391Z",
     "iopub.status.idle": "2025-02-21T19:24:45.976867Z",
     "shell.execute_reply": "2025-02-21T19:24:45.976867Z"
    }
   },
   "outputs": [
    {
     "name": "stderr",
     "output_type": "stream",
     "text": [
      "DEBUG - Toolkit is busy and processing a task.\n"
     ]
    },
    {
     "name": "stderr",
     "output_type": "stream",
     "text": [
      "DEBUG - Toolkit is busy and processing a task.\n"
     ]
    },
    {
     "name": "stderr",
     "output_type": "stream",
     "text": [
      "DEBUG - Toolkit is busy and processing a task.\n"
     ]
    },
    {
     "name": "stderr",
     "output_type": "stream",
     "text": [
      "DEBUG - Toolkit is busy and processing a task.\n"
     ]
    },
    {
     "name": "stderr",
     "output_type": "stream",
     "text": [
      "DEBUG - Toolkit is busy and processing a task.\n"
     ]
    },
    {
     "name": "stderr",
     "output_type": "stream",
     "text": [
      "DEBUG - Toolkit is busy and processing a task.\n"
     ]
    },
    {
     "name": "stderr",
     "output_type": "stream",
     "text": [
      "DEBUG - Toolkit is idle and ready to accept a new task.\n"
     ]
    }
   ],
   "source": [
    "idle = toolkit.wait_to_be_idle()\n",
    "if not idle:\n",
    "    print(\"AEDT not initialized.\")\n",
    "    sys.exit()"
   ]
  },
  {
   "cell_type": "markdown",
   "id": "bb72966c",
   "metadata": {},
   "source": [
    "## Open project\n",
    "\n",
    "Open the project."
   ]
  },
  {
   "cell_type": "code",
   "execution_count": 8,
   "id": "90b6e6c2",
   "metadata": {
    "execution": {
     "iopub.execute_input": "2025-02-21T19:24:45.976867Z",
     "iopub.status.busy": "2025-02-21T19:24:45.976867Z",
     "iopub.status.idle": "2025-02-21T19:24:46.766899Z",
     "shell.execute_reply": "2025-02-21T19:24:46.766899Z"
    }
   },
   "outputs": [
    {
     "name": "stderr",
     "output_type": "stream",
     "text": [
      "DEBUG - Toolkit is not connected to AEDT.\n"
     ]
    },
    {
     "name": "stderr",
     "output_type": "stream",
     "text": [
      "DEBUG - Connecting AEDT.\n"
     ]
    },
    {
     "name": "stdout",
     "output_type": "stream",
     "text": [
      "PyAEDT INFO: Python version 3.10.11 (tags/v3.10.11:7d4cc5a, Apr  5 2023, 00:38:17) [MSC v.1929 64 bit (AMD64)].\n"
     ]
    },
    {
     "name": "stdout",
     "output_type": "stream",
     "text": [
      "PyAEDT INFO: PyAEDT version 0.14.1.\n"
     ]
    },
    {
     "name": "stdout",
     "output_type": "stream",
     "text": [
      "PyAEDT INFO: Initializing new Desktop session.\n"
     ]
    },
    {
     "name": "stdout",
     "output_type": "stream",
     "text": [
      "PyAEDT WARNING: Argument `specified_version` is deprecated for method `__init__`; use `version` instead.\n"
     ]
    },
    {
     "name": "stdout",
     "output_type": "stream",
     "text": [
      "PyAEDT WARNING: Argument `new_desktop_session` is deprecated for method `__init__`; use `new_desktop` instead.\n"
     ]
    },
    {
     "name": "stdout",
     "output_type": "stream",
     "text": [
      "PyAEDT INFO: Log on console is enabled.\n"
     ]
    },
    {
     "name": "stdout",
     "output_type": "stream",
     "text": [
      "PyAEDT INFO: Log on file C:\\Users\\ansys\\AppData\\Local\\Temp\\pyaedt_ansys_6957dde1-0a56-41f1-ae45-7178192aaef1.log is enabled.\n"
     ]
    },
    {
     "name": "stdout",
     "output_type": "stream",
     "text": [
      "PyAEDT INFO: Log on AEDT is disabled.\n"
     ]
    },
    {
     "name": "stdout",
     "output_type": "stream",
     "text": [
      "PyAEDT INFO: Debug logger is disabled. PyAEDT methods will not be logged.\n"
     ]
    },
    {
     "name": "stdout",
     "output_type": "stream",
     "text": [
      "PyAEDT INFO: Launching PyAEDT with gRPC plugin.\n"
     ]
    },
    {
     "name": "stdout",
     "output_type": "stream",
     "text": [
      "PyAEDT INFO: Connecting to AEDT session on gRPC port 62448.\n"
     ]
    },
    {
     "name": "stdout",
     "output_type": "stream",
     "text": [
      "PyAEDT INFO: AEDT installation Path C:\\Program Files\\AnsysEM\\v242\\Win64\n"
     ]
    },
    {
     "name": "stderr",
     "output_type": "stream",
     "text": [
      "DEBUG - Toolkit is connected to AEDT.\n"
     ]
    },
    {
     "name": "stderr",
     "output_type": "stream",
     "text": [
      "DEBUG - Project C:\\Users\\ansys\\AppData\\Local\\Temp\\pyaedt_prj_0F7\\Test.aedt is opened\n"
     ]
    },
    {
     "name": "stderr",
     "output_type": "stream",
     "text": [
      "DEBUG - Project name: Test\n"
     ]
    },
    {
     "name": "stderr",
     "output_type": "stream",
     "text": [
      "INFO - Updating internal properties.\n"
     ]
    },
    {
     "name": "stderr",
     "output_type": "stream",
     "text": [
      "DEBUG - Updating 'project_list' with value ['C:/Users/ansys/AppData/Local/Temp/pyaedt_prj_0F7/Test.aedt']\n"
     ]
    },
    {
     "name": "stderr",
     "output_type": "stream",
     "text": [
      "DEBUG - Updating 'active_project' with value C:/Users/ansys/AppData/Local/Temp/pyaedt_prj_0F7/Test.aedt\n"
     ]
    },
    {
     "name": "stderr",
     "output_type": "stream",
     "text": [
      "DEBUG - Updating 'design_list' with value {'Test': []}\n"
     ]
    },
    {
     "name": "stderr",
     "output_type": "stream",
     "text": [
      "DEBUG - Properties were updated successfully.\n"
     ]
    },
    {
     "name": "stdout",
     "output_type": "stream",
     "text": [
      "PyAEDT INFO: Desktop has been released.\n"
     ]
    },
    {
     "name": "stderr",
     "output_type": "stream",
     "text": [
      "INFO - AEDT is released.\n"
     ]
    }
   ],
   "source": [
    "open_msg = toolkit.open_project(local_project)"
   ]
  },
  {
   "cell_type": "markdown",
   "id": "57310fa2",
   "metadata": {},
   "source": [
    "## Get toolkit properties\n",
    "\n",
    "Get the toolkit properties, which contain the project information."
   ]
  },
  {
   "cell_type": "code",
   "execution_count": 9,
   "id": "0e6fd802",
   "metadata": {
    "execution": {
     "iopub.execute_input": "2025-02-21T19:24:46.766899Z",
     "iopub.status.busy": "2025-02-21T19:24:46.766899Z",
     "iopub.status.idle": "2025-02-21T19:24:46.782523Z",
     "shell.execute_reply": "2025-02-21T19:24:46.782523Z"
    }
   },
   "outputs": [],
   "source": [
    "new_properties = toolkit.get_properties()"
   ]
  },
  {
   "cell_type": "markdown",
   "id": "31bdc092",
   "metadata": {},
   "source": [
    "## Connect design\n",
    "\n",
    "Connect or create a new design."
   ]
  },
  {
   "cell_type": "code",
   "execution_count": 10,
   "id": "0d40307b",
   "metadata": {
    "execution": {
     "iopub.execute_input": "2025-02-21T19:24:46.782523Z",
     "iopub.status.busy": "2025-02-21T19:24:46.782523Z",
     "iopub.status.idle": "2025-02-21T19:25:20.879004Z",
     "shell.execute_reply": "2025-02-21T19:25:20.879004Z"
    }
   },
   "outputs": [
    {
     "name": "stderr",
     "output_type": "stream",
     "text": [
      "DEBUG - Toolkit is not connected to AEDT.\n"
     ]
    },
    {
     "name": "stderr",
     "output_type": "stream",
     "text": [
      "DEBUG - Connecting AEDT.\n"
     ]
    },
    {
     "name": "stdout",
     "output_type": "stream",
     "text": [
      "PyAEDT INFO: Python version 3.10.11 (tags/v3.10.11:7d4cc5a, Apr  5 2023, 00:38:17) [MSC v.1929 64 bit (AMD64)].\n"
     ]
    },
    {
     "name": "stdout",
     "output_type": "stream",
     "text": [
      "PyAEDT INFO: PyAEDT version 0.14.1.\n"
     ]
    },
    {
     "name": "stdout",
     "output_type": "stream",
     "text": [
      "PyAEDT INFO: Initializing new Desktop session.\n"
     ]
    },
    {
     "name": "stdout",
     "output_type": "stream",
     "text": [
      "PyAEDT WARNING: Argument `specified_version` is deprecated for method `__init__`; use `version` instead.\n"
     ]
    },
    {
     "name": "stdout",
     "output_type": "stream",
     "text": [
      "PyAEDT WARNING: Argument `new_desktop_session` is deprecated for method `__init__`; use `new_desktop` instead.\n"
     ]
    },
    {
     "name": "stdout",
     "output_type": "stream",
     "text": [
      "PyAEDT INFO: Log on console is enabled.\n"
     ]
    },
    {
     "name": "stdout",
     "output_type": "stream",
     "text": [
      "PyAEDT INFO: Log on file C:\\Users\\ansys\\AppData\\Local\\Temp\\pyaedt_ansys_6957dde1-0a56-41f1-ae45-7178192aaef1.log is enabled.\n"
     ]
    },
    {
     "name": "stdout",
     "output_type": "stream",
     "text": [
      "PyAEDT INFO: Log on AEDT is disabled.\n"
     ]
    },
    {
     "name": "stdout",
     "output_type": "stream",
     "text": [
      "PyAEDT INFO: Debug logger is disabled. PyAEDT methods will not be logged.\n"
     ]
    },
    {
     "name": "stdout",
     "output_type": "stream",
     "text": [
      "PyAEDT INFO: Launching PyAEDT with gRPC plugin.\n"
     ]
    },
    {
     "name": "stdout",
     "output_type": "stream",
     "text": [
      "PyAEDT INFO: Connecting to AEDT session on gRPC port 62448.\n"
     ]
    },
    {
     "name": "stdout",
     "output_type": "stream",
     "text": [
      "PyAEDT INFO: AEDT installation Path C:\\Program Files\\AnsysEM\\v242\\Win64\n"
     ]
    },
    {
     "name": "stderr",
     "output_type": "stream",
     "text": [
      "DEBUG - Toolkit is connected to AEDT.\n"
     ]
    },
    {
     "name": "stdout",
     "output_type": "stream",
     "text": [
      "PyAEDT WARNING: Argument `designname` is deprecated for method `__init__`; use `design` instead.\n"
     ]
    },
    {
     "name": "stdout",
     "output_type": "stream",
     "text": [
      "PyAEDT WARNING: Argument `projectname` is deprecated for method `__init__`; use `project` instead.\n"
     ]
    },
    {
     "name": "stdout",
     "output_type": "stream",
     "text": [
      "PyAEDT WARNING: Argument `specified_version` is deprecated for method `__init__`; use `version` instead.\n"
     ]
    },
    {
     "name": "stdout",
     "output_type": "stream",
     "text": [
      "PyAEDT WARNING: Argument `new_desktop_session` is deprecated for method `__init__`; use `new_desktop` instead.\n"
     ]
    },
    {
     "name": "stdout",
     "output_type": "stream",
     "text": [
      "PyAEDT INFO: Parsing C:/Users/ansys/AppData/Local/Temp/pyaedt_prj_0F7/Test.aedt.\n"
     ]
    },
    {
     "name": "stdout",
     "output_type": "stream",
     "text": [
      "PyAEDT INFO: Python version 3.10.11 (tags/v3.10.11:7d4cc5a, Apr  5 2023, 00:38:17) [MSC v.1929 64 bit (AMD64)].\n"
     ]
    },
    {
     "name": "stdout",
     "output_type": "stream",
     "text": [
      "PyAEDT INFO: PyAEDT version 0.14.1.\n"
     ]
    },
    {
     "name": "stdout",
     "output_type": "stream",
     "text": [
      "PyAEDT INFO: File C:/Users/ansys/AppData/Local/Temp/pyaedt_prj_0F7/Test.aedt correctly loaded. Elapsed time: 0m 0sec\n"
     ]
    },
    {
     "name": "stdout",
     "output_type": "stream",
     "text": [
      "PyAEDT INFO: Returning found Desktop session with PID 4892!\n"
     ]
    },
    {
     "name": "stdout",
     "output_type": "stream",
     "text": [
      "PyAEDT INFO: Project Test set to active.\n"
     ]
    },
    {
     "name": "stdout",
     "output_type": "stream",
     "text": [
      "PyAEDT INFO: Added design 'HFSS_HC2LM0' of type HFSS.\n"
     ]
    },
    {
     "name": "stdout",
     "output_type": "stream",
     "text": [
      "PyAEDT INFO: Aedt Objects correctly read\n"
     ]
    },
    {
     "name": "stdout",
     "output_type": "stream",
     "text": [
      "PyAEDT INFO: Project Test Saved correctly\n"
     ]
    },
    {
     "name": "stderr",
     "output_type": "stream",
     "text": [
      "DEBUG - Project name: Test\n"
     ]
    },
    {
     "name": "stderr",
     "output_type": "stream",
     "text": [
      "INFO - Updating internal properties.\n"
     ]
    },
    {
     "name": "stderr",
     "output_type": "stream",
     "text": [
      "DEBUG - Updating 'project_list' with value ['C:/Users/ansys/AppData/Local/Temp/pyaedt_prj_0F7/Test.aedt']\n"
     ]
    },
    {
     "name": "stderr",
     "output_type": "stream",
     "text": [
      "DEBUG - Updating 'active_design' with value HFSS_HC2LM0\n"
     ]
    },
    {
     "name": "stderr",
     "output_type": "stream",
     "text": [
      "DEBUG - Updating 'active_project' with value C:/Users/ansys/AppData/Local/Temp/pyaedt_prj_0F7/Test.aedt\n"
     ]
    },
    {
     "name": "stderr",
     "output_type": "stream",
     "text": [
      "DEBUG - Updating 'design_list' with value {'Test': ['HFSS_HC2LM0']}\n"
     ]
    },
    {
     "name": "stderr",
     "output_type": "stream",
     "text": [
      "DEBUG - Properties were updated successfully.\n"
     ]
    },
    {
     "name": "stderr",
     "output_type": "stream",
     "text": [
      "INFO - Toolkit is connected to AEDT design.\n"
     ]
    },
    {
     "data": {
      "text/plain": [
       "True"
      ]
     },
     "execution_count": 10,
     "metadata": {},
     "output_type": "execute_result"
    }
   ],
   "source": [
    "toolkit.connect_design()"
   ]
  },
  {
   "cell_type": "markdown",
   "id": "46d2648d",
   "metadata": {},
   "source": [
    "## Create a box\n",
    "\n",
    "Create a box in the design."
   ]
  },
  {
   "cell_type": "code",
   "execution_count": 11,
   "id": "41c471a0",
   "metadata": {
    "execution": {
     "iopub.execute_input": "2025-02-21T19:25:20.879004Z",
     "iopub.status.busy": "2025-02-21T19:25:20.879004Z",
     "iopub.status.idle": "2025-02-21T19:25:24.458517Z",
     "shell.execute_reply": "2025-02-21T19:25:24.458517Z"
    }
   },
   "outputs": [
    {
     "name": "stderr",
     "output_type": "stream",
     "text": [
      "INFO - Create Box\n"
     ]
    },
    {
     "name": "stdout",
     "output_type": "stream",
     "text": [
      "PyAEDT INFO: Modeler class has been initialized! Elapsed time: 0m 1sec\n"
     ]
    },
    {
     "name": "stdout",
     "output_type": "stream",
     "text": [
      "PyAEDT INFO: Materials class has been initialized! Elapsed time: 0m 0sec\n"
     ]
    },
    {
     "name": "stdout",
     "output_type": "stream",
     "text": [
      "PyAEDT ERROR: **************************************************************\n"
     ]
    },
    {
     "name": "stdout",
     "output_type": "stream",
     "text": [
      "PyAEDT ERROR:   File \"C:\\Python\\Python310\\Lib\\runpy.py\", line 196, in _run_module_as_main\n"
     ]
    },
    {
     "name": "stdout",
     "output_type": "stream",
     "text": [
      "PyAEDT ERROR:     return _run_code(code, main_globals, None,\n"
     ]
    },
    {
     "name": "stdout",
     "output_type": "stream",
     "text": [
      "PyAEDT ERROR:   File \"C:\\Python\\Python310\\Lib\\runpy.py\", line 86, in _run_code\n"
     ]
    },
    {
     "name": "stdout",
     "output_type": "stream",
     "text": [
      "PyAEDT ERROR:     exec(code, run_globals)\n"
     ]
    },
    {
     "name": "stdout",
     "output_type": "stream",
     "text": [
      "PyAEDT ERROR:   File \"C:\\actions-runner\\_work\\pyaedt-toolkits-common\\pyaedt-toolkits-common\\.venv\\lib\\site-packages\\ipykernel_launcher.py\", line 18, in <module>\n"
     ]
    },
    {
     "name": "stdout",
     "output_type": "stream",
     "text": [
      "PyAEDT ERROR:     app.launch_new_instance()\n"
     ]
    },
    {
     "name": "stdout",
     "output_type": "stream",
     "text": [
      "PyAEDT ERROR:   File \"C:\\actions-runner\\_work\\pyaedt-toolkits-common\\pyaedt-toolkits-common\\.venv\\lib\\site-packages\\traitlets\\config\\application.py\", line 1075, in launch_instance\n"
     ]
    },
    {
     "name": "stdout",
     "output_type": "stream",
     "text": [
      "PyAEDT ERROR:     app.start()\n"
     ]
    },
    {
     "name": "stdout",
     "output_type": "stream",
     "text": [
      "PyAEDT ERROR:   File \"C:\\actions-runner\\_work\\pyaedt-toolkits-common\\pyaedt-toolkits-common\\.venv\\lib\\site-packages\\ipykernel\\kernelapp.py\", line 739, in start\n"
     ]
    },
    {
     "name": "stdout",
     "output_type": "stream",
     "text": [
      "PyAEDT ERROR:     self.io_loop.start()\n"
     ]
    },
    {
     "name": "stdout",
     "output_type": "stream",
     "text": [
      "PyAEDT ERROR:   File \"C:\\actions-runner\\_work\\pyaedt-toolkits-common\\pyaedt-toolkits-common\\.venv\\lib\\site-packages\\tornado\\platform\\asyncio.py\", line 205, in start\n"
     ]
    },
    {
     "name": "stdout",
     "output_type": "stream",
     "text": [
      "PyAEDT ERROR:     self.asyncio_loop.run_forever()\n"
     ]
    },
    {
     "name": "stdout",
     "output_type": "stream",
     "text": [
      "PyAEDT ERROR:   File \"C:\\Python\\Python310\\Lib\\asyncio\\base_events.py\", line 603, in run_forever\n"
     ]
    },
    {
     "name": "stdout",
     "output_type": "stream",
     "text": [
      "PyAEDT ERROR:     self._run_once()\n"
     ]
    },
    {
     "name": "stdout",
     "output_type": "stream",
     "text": [
      "PyAEDT ERROR:   File \"C:\\Python\\Python310\\Lib\\asyncio\\base_events.py\", line 1909, in _run_once\n"
     ]
    },
    {
     "name": "stdout",
     "output_type": "stream",
     "text": [
      "PyAEDT ERROR:     handle._run()\n"
     ]
    },
    {
     "name": "stdout",
     "output_type": "stream",
     "text": [
      "PyAEDT ERROR:   File \"C:\\Python\\Python310\\Lib\\asyncio\\events.py\", line 80, in _run\n"
     ]
    },
    {
     "name": "stdout",
     "output_type": "stream",
     "text": [
      "PyAEDT ERROR:     self._context.run(self._callback, *self._args)\n"
     ]
    },
    {
     "name": "stdout",
     "output_type": "stream",
     "text": [
      "PyAEDT ERROR:   File \"C:\\actions-runner\\_work\\pyaedt-toolkits-common\\pyaedt-toolkits-common\\.venv\\lib\\site-packages\\ipykernel\\kernelbase.py\", line 545, in dispatch_queue\n"
     ]
    },
    {
     "name": "stdout",
     "output_type": "stream",
     "text": [
      "PyAEDT ERROR:     await self.process_one()\n"
     ]
    },
    {
     "name": "stdout",
     "output_type": "stream",
     "text": [
      "PyAEDT ERROR:   File \"C:\\actions-runner\\_work\\pyaedt-toolkits-common\\pyaedt-toolkits-common\\.venv\\lib\\site-packages\\ipykernel\\kernelbase.py\", line 534, in process_one\n"
     ]
    },
    {
     "name": "stdout",
     "output_type": "stream",
     "text": [
      "PyAEDT ERROR:     await dispatch(*args)\n"
     ]
    },
    {
     "name": "stdout",
     "output_type": "stream",
     "text": [
      "PyAEDT ERROR:   File \"C:\\actions-runner\\_work\\pyaedt-toolkits-common\\pyaedt-toolkits-common\\.venv\\lib\\site-packages\\ipykernel\\kernelbase.py\", line 437, in dispatch_shell\n"
     ]
    },
    {
     "name": "stdout",
     "output_type": "stream",
     "text": [
      "PyAEDT ERROR:     await result\n"
     ]
    },
    {
     "name": "stdout",
     "output_type": "stream",
     "text": [
      "PyAEDT ERROR:   File \"C:\\actions-runner\\_work\\pyaedt-toolkits-common\\pyaedt-toolkits-common\\.venv\\lib\\site-packages\\ipykernel\\ipkernel.py\", line 362, in execute_request\n"
     ]
    },
    {
     "name": "stdout",
     "output_type": "stream",
     "text": [
      "PyAEDT ERROR:     await super().execute_request(stream, ident, parent)\n"
     ]
    },
    {
     "name": "stdout",
     "output_type": "stream",
     "text": [
      "PyAEDT ERROR:   File \"C:\\actions-runner\\_work\\pyaedt-toolkits-common\\pyaedt-toolkits-common\\.venv\\lib\\site-packages\\ipykernel\\kernelbase.py\", line 778, in execute_request\n"
     ]
    },
    {
     "name": "stdout",
     "output_type": "stream",
     "text": [
      "PyAEDT ERROR:     reply_content = await reply_content\n"
     ]
    },
    {
     "name": "stdout",
     "output_type": "stream",
     "text": [
      "PyAEDT ERROR:   File \"C:\\actions-runner\\_work\\pyaedt-toolkits-common\\pyaedt-toolkits-common\\.venv\\lib\\site-packages\\ipykernel\\ipkernel.py\", line 449, in do_execute\n"
     ]
    },
    {
     "name": "stdout",
     "output_type": "stream",
     "text": [
      "PyAEDT ERROR:     res = shell.run_cell(\n"
     ]
    },
    {
     "name": "stdout",
     "output_type": "stream",
     "text": [
      "PyAEDT ERROR:   File \"C:\\actions-runner\\_work\\pyaedt-toolkits-common\\pyaedt-toolkits-common\\.venv\\lib\\site-packages\\ipykernel\\zmqshell.py\", line 549, in run_cell\n"
     ]
    },
    {
     "name": "stdout",
     "output_type": "stream",
     "text": [
      "PyAEDT ERROR:     return super().run_cell(*args, **kwargs)\n"
     ]
    },
    {
     "name": "stdout",
     "output_type": "stream",
     "text": [
      "PyAEDT ERROR:   File \"C:\\Users\\ansys\\AppData\\Local\\Temp\\ipykernel_6572\\396100405.py\", line 3, in <module>\n"
     ]
    },
    {
     "name": "stdout",
     "output_type": "stream",
     "text": [
      "PyAEDT ERROR:     model = box.plot(show=False)\n"
     ]
    },
    {
     "name": "stdout",
     "output_type": "stream",
     "text": [
      "PyAEDT ERROR:   File \"C:\\actions-runner\\_work\\pyaedt-toolkits-common\\pyaedt-toolkits-common\\.venv\\lib\\site-packages\\ansys\\aedt\\core\\generic\\checks.py\", line 76, in wrapper\n"
     ]
    },
    {
     "name": "stdout",
     "output_type": "stream",
     "text": [
      "PyAEDT ERROR:     raise AEDTRuntimeError(\"The AEDT desktop object is not available.\")\n"
     ]
    },
    {
     "name": "stdout",
     "output_type": "stream",
     "text": [
      "PyAEDT ERROR: The aedt desktop object is not available. on wrapper\n"
     ]
    },
    {
     "name": "stdout",
     "output_type": "stream",
     "text": [
      "PyAEDT ERROR: **************************************************************\n"
     ]
    },
    {
     "ename": "AttributeError",
     "evalue": "'bool' object has no attribute 'show_grid'",
     "output_type": "error",
     "traceback": [
      "\u001b[1;31m---------------------------------------------------------------------------\u001b[0m",
      "\u001b[1;31mAttributeError\u001b[0m                            Traceback (most recent call last)",
      "Cell \u001b[1;32mIn[11], line 4\u001b[0m\n\u001b[0;32m      2\u001b[0m box \u001b[38;5;241m=\u001b[39m toolkit\u001b[38;5;241m.\u001b[39maedtapp\u001b[38;5;241m.\u001b[39mmodeler\u001b[38;5;241m.\u001b[39mcreate_box([\u001b[38;5;241m10\u001b[39m, \u001b[38;5;241m10\u001b[39m, \u001b[38;5;241m10\u001b[39m], [\u001b[38;5;241m20\u001b[39m, \u001b[38;5;241m20\u001b[39m, \u001b[38;5;241m20\u001b[39m])\n\u001b[0;32m      3\u001b[0m model \u001b[38;5;241m=\u001b[39m box\u001b[38;5;241m.\u001b[39mplot(show\u001b[38;5;241m=\u001b[39m\u001b[38;5;28;01mFalse\u001b[39;00m)\n\u001b[1;32m----> 4\u001b[0m \u001b[43mmodel\u001b[49m\u001b[38;5;241;43m.\u001b[39;49m\u001b[43mshow_grid\u001b[49m \u001b[38;5;241m=\u001b[39m \u001b[38;5;28;01mFalse\u001b[39;00m\n\u001b[0;32m      5\u001b[0m model\u001b[38;5;241m.\u001b[39mplot(os\u001b[38;5;241m.\u001b[39mpath\u001b[38;5;241m.\u001b[39mjoin(toolkit\u001b[38;5;241m.\u001b[39maedtapp\u001b[38;5;241m.\u001b[39mworking_directory, \u001b[38;5;124m\"\u001b[39m\u001b[38;5;124mImage.jpg\u001b[39m\u001b[38;5;124m\"\u001b[39m))\n",
      "\u001b[1;31mAttributeError\u001b[0m: 'bool' object has no attribute 'show_grid'"
     ]
    }
   ],
   "source": [
    "toolkit.logger.info(\"Create Box\")\n",
    "box = toolkit.aedtapp.modeler.create_box([10, 10, 10], [20, 20, 20])\n",
    "model = box.plot(show=False)\n",
    "model.show_grid = False\n",
    "model.plot(os.path.join(toolkit.aedtapp.working_directory, \"Image.jpg\"))"
   ]
  },
  {
   "cell_type": "markdown",
   "id": "de2af174",
   "metadata": {},
   "source": [
    "## Save and release AEDT\n",
    "\n",
    "Save and release AEDT."
   ]
  },
  {
   "cell_type": "code",
   "execution_count": 12,
   "id": "559dbb45",
   "metadata": {
    "execution": {
     "iopub.execute_input": "2025-02-21T19:25:24.458517Z",
     "iopub.status.busy": "2025-02-21T19:25:24.458517Z",
     "iopub.status.idle": "2025-02-21T19:25:34.829521Z",
     "shell.execute_reply": "2025-02-21T19:25:34.829521Z"
    }
   },
   "outputs": [
    {
     "name": "stdout",
     "output_type": "stream",
     "text": [
      "PyAEDT INFO: Desktop has been released and closed.\n"
     ]
    },
    {
     "name": "stderr",
     "output_type": "stream",
     "text": [
      "INFO - AEDT is released.\n"
     ]
    },
    {
     "data": {
      "text/plain": [
       "True"
      ]
     },
     "execution_count": 12,
     "metadata": {},
     "output_type": "execute_result"
    }
   ],
   "source": [
    "toolkit.release_aedt(True, True)"
   ]
  },
  {
   "cell_type": "markdown",
   "id": "c8305a98",
   "metadata": {},
   "source": [
    "## Remove temporary folder\n",
    "\n",
    "Remove the temporary folder."
   ]
  },
  {
   "cell_type": "code",
   "execution_count": 13,
   "id": "b5917805",
   "metadata": {
    "execution": {
     "iopub.execute_input": "2025-02-21T19:25:34.829521Z",
     "iopub.status.busy": "2025-02-21T19:25:34.829521Z",
     "iopub.status.idle": "2025-02-21T19:25:34.860772Z",
     "shell.execute_reply": "2025-02-21T19:25:34.860772Z"
    }
   },
   "outputs": [],
   "source": [
    "shutil.rmtree(temp_folder, ignore_errors=True)"
   ]
  }
 ],
 "metadata": {
  "jupytext": {
   "cell_metadata_filter": "-all",
   "main_language": "python",
   "notebook_metadata_filter": "-all",
   "text_representation": {
    "extension": ".py",
    "format_name": "light"
   }
  },
  "language_info": {
   "codemirror_mode": {
    "name": "ipython",
    "version": 3
   },
   "file_extension": ".py",
   "mimetype": "text/x-python",
   "name": "python",
   "nbconvert_exporter": "python",
   "pygments_lexer": "ipython3",
   "version": "3.10.11"
  }
 },
 "nbformat": 4,
 "nbformat_minor": 5
}
