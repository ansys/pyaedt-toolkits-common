{
 "cells": [
  {
   "cell_type": "markdown",
   "id": "8559f028",
   "metadata": {},
   "source": [
    "# AEDT connect session example\n",
    "\n",
    "This example shows how to use the Common AEDT API to\n",
    "connect to an existing  AEDT session,\n",
    "create a HFSS design and create a waveguide."
   ]
  },
  {
   "cell_type": "markdown",
   "id": "5c4ef3c9",
   "metadata": {},
   "source": [
    "## Perform required imports\n",
    "\n",
    "Perform the required imports."
   ]
  },
  {
   "cell_type": "code",
   "execution_count": 1,
   "id": "f37e1fd4",
   "metadata": {
    "execution": {
     "iopub.execute_input": "2025-02-21T19:23:27.855464Z",
     "iopub.status.busy": "2025-02-21T19:23:27.855464Z",
     "iopub.status.idle": "2025-02-21T19:23:28.933541Z",
     "shell.execute_reply": "2025-02-21T19:23:28.933541Z"
    },
    "lines_to_next_cell": 2
   },
   "outputs": [],
   "source": [
    "import os\n",
    "import sys\n",
    "from ansys.aedt.toolkits.common.backend.api import AEDTCommon\n",
    "import ansys.aedt.core"
   ]
  },
  {
   "cell_type": "markdown",
   "id": "1641c2b6",
   "metadata": {},
   "source": [
    "## Initialize toolkit\n",
    "\n",
    "Initialize the toolkit."
   ]
  },
  {
   "cell_type": "code",
   "execution_count": 2,
   "id": "e6b255b1",
   "metadata": {
    "execution": {
     "iopub.execute_input": "2025-02-21T19:23:28.933541Z",
     "iopub.status.busy": "2025-02-21T19:23:28.933541Z",
     "iopub.status.idle": "2025-02-21T19:23:28.949168Z",
     "shell.execute_reply": "2025-02-21T19:23:28.949168Z"
    }
   },
   "outputs": [],
   "source": [
    "toolkit = AEDTCommon()"
   ]
  },
  {
   "cell_type": "markdown",
   "id": "c1616a7d",
   "metadata": {},
   "source": [
    "## Get toolkit properties\n",
    "\n",
    "Get the toolkit properties, which contain the project information."
   ]
  },
  {
   "cell_type": "code",
   "execution_count": 3,
   "id": "914cf19f",
   "metadata": {
    "execution": {
     "iopub.execute_input": "2025-02-21T19:23:28.949168Z",
     "iopub.status.busy": "2025-02-21T19:23:28.949168Z",
     "iopub.status.idle": "2025-02-21T19:23:28.964796Z",
     "shell.execute_reply": "2025-02-21T19:23:28.964796Z"
    }
   },
   "outputs": [],
   "source": [
    "properties_from_backend = toolkit.get_properties()"
   ]
  },
  {
   "cell_type": "code",
   "execution_count": 4,
   "id": "fa470083",
   "metadata": {
    "execution": {
     "iopub.execute_input": "2025-02-21T19:23:28.964796Z",
     "iopub.status.busy": "2025-02-21T19:23:28.964796Z",
     "iopub.status.idle": "2025-02-21T19:23:36.053792Z",
     "shell.execute_reply": "2025-02-21T19:23:36.052787Z"
    }
   },
   "outputs": [
    {
     "data": {
      "text/plain": [
       "True"
      ]
     },
     "execution_count": 4,
     "metadata": {},
     "output_type": "execute_result"
    }
   ],
   "source": [
    "# ## Initialize AEDT\n",
    "#\n",
    "# Initialize AEDT using PyAEDT and then release it.\n",
    "ansys.aedt.core.settings.enable_logger = False\n",
    "app = ansys.aedt.core.Desktop(specified_version=properties_from_backend[\"aedt_version\"],\n",
    "                     non_graphical=properties_from_backend[\"non_graphical\"])\n",
    "app.release_desktop(close_projects=False, close_on_exit=False)"
   ]
  },
  {
   "cell_type": "markdown",
   "id": "543a7ce1",
   "metadata": {},
   "source": [
    "## Get AEDT sessions\n",
    "\n",
    "Get AEDT sessions and select the first one."
   ]
  },
  {
   "cell_type": "code",
   "execution_count": 5,
   "id": "1725866b",
   "metadata": {
    "execution": {
     "iopub.execute_input": "2025-02-21T19:23:36.054938Z",
     "iopub.status.busy": "2025-02-21T19:23:36.054938Z",
     "iopub.status.idle": "2025-02-21T19:23:36.086207Z",
     "shell.execute_reply": "2025-02-21T19:23:36.086207Z"
    }
   },
   "outputs": [
    {
     "name": "stderr",
     "output_type": "stream",
     "text": [
      "DEBUG - Active AEDT sessions: {6032: 62261}.\n"
     ]
    }
   ],
   "source": [
    "sessions = toolkit.aedt_sessions()\n",
    "first_key, first_value = next(iter(sessions.items()))\n",
    "if first_value == -1:\n",
    "    use_grpc = False\n",
    "    selected_process = first_key\n",
    "else:\n",
    "    use_grpc = True\n",
    "    selected_process = first_value"
   ]
  },
  {
   "cell_type": "markdown",
   "id": "5576fda4",
   "metadata": {},
   "source": [
    "## Set properties\n",
    "\n",
    "Specify the AEDT session selection."
   ]
  },
  {
   "cell_type": "code",
   "execution_count": 6,
   "id": "12b52a96",
   "metadata": {
    "execution": {
     "iopub.execute_input": "2025-02-21T19:23:36.086207Z",
     "iopub.status.busy": "2025-02-21T19:23:36.086207Z",
     "iopub.status.idle": "2025-02-21T19:23:36.101930Z",
     "shell.execute_reply": "2025-02-21T19:23:36.101930Z"
    }
   },
   "outputs": [
    {
     "name": "stderr",
     "output_type": "stream",
     "text": [
      "INFO - Updating internal properties.\n"
     ]
    },
    {
     "name": "stderr",
     "output_type": "stream",
     "text": [
      "DEBUG - Updating 'selected_process' with value 62261\n"
     ]
    },
    {
     "name": "stderr",
     "output_type": "stream",
     "text": [
      "DEBUG - Updating 'use_grpc' with value True\n"
     ]
    },
    {
     "name": "stderr",
     "output_type": "stream",
     "text": [
      "DEBUG - Properties were updated successfully.\n"
     ]
    }
   ],
   "source": [
    "new_properties = {\"selected_process\": selected_process, \"use_grpc\": use_grpc}\n",
    "flag, msg = toolkit.set_properties(new_properties)"
   ]
  },
  {
   "cell_type": "markdown",
   "id": "d865740e",
   "metadata": {},
   "source": [
    "## Initialize AEDT\n",
    "\n",
    "Launch a new AEDT session in a thread."
   ]
  },
  {
   "cell_type": "code",
   "execution_count": 7,
   "id": "30de5ef8",
   "metadata": {
    "execution": {
     "iopub.execute_input": "2025-02-21T19:23:36.101930Z",
     "iopub.status.busy": "2025-02-21T19:23:36.101930Z",
     "iopub.status.idle": "2025-02-21T19:23:36.117450Z",
     "shell.execute_reply": "2025-02-21T19:23:36.117450Z"
    }
   },
   "outputs": [
    {
     "name": "stderr",
     "output_type": "stream",
     "text": [
      "DEBUG - Starting thread: Toolkit_Thread\n"
     ]
    },
    {
     "name": "stderr",
     "output_type": "stream",
     "text": [
      "DEBUG - Toolkit is not connected to AEDT.\n"
     ]
    },
    {
     "name": "stderr",
     "output_type": "stream",
     "text": [
      "DEBUG - Launching AEDT.\n"
     ]
    },
    {
     "name": "stdout",
     "output_type": "stream",
     "text": [
      "PyAEDT INFO: Python version 3.10.11 (tags/v3.10.11:7d4cc5a, Apr  5 2023, 00:38:17) [MSC v.1929 64 bit (AMD64)].\n"
     ]
    }
   ],
   "source": [
    "thread_msg = toolkit.launch_thread(toolkit.launch_aedt)"
   ]
  },
  {
   "cell_type": "markdown",
   "id": "4f6f3681",
   "metadata": {},
   "source": [
    "## Wait for the toolkit thread to be idle\n",
    "\n",
    "Wait for the toolkit thread to be idle and ready to accept a new task."
   ]
  },
  {
   "cell_type": "code",
   "execution_count": 8,
   "id": "d672ee47",
   "metadata": {
    "execution": {
     "iopub.execute_input": "2025-02-21T19:23:36.117450Z",
     "iopub.status.busy": "2025-02-21T19:23:36.117450Z",
     "iopub.status.idle": "2025-02-21T19:23:37.147774Z",
     "shell.execute_reply": "2025-02-21T19:23:37.147774Z"
    }
   },
   "outputs": [
    {
     "name": "stderr",
     "output_type": "stream",
     "text": [
      "DEBUG - Toolkit is idle and ready to accept a new task.\n"
     ]
    }
   ],
   "source": [
    "idle = toolkit.wait_to_be_idle()\n",
    "if not idle:\n",
    "    print(\"AEDT not initialized.\")\n",
    "    sys.exit()"
   ]
  },
  {
   "cell_type": "markdown",
   "id": "2ed41fe9",
   "metadata": {},
   "source": [
    "## Connect design\n",
    "\n",
    "Connect or create a new design."
   ]
  },
  {
   "cell_type": "code",
   "execution_count": 9,
   "id": "62225cfb",
   "metadata": {
    "execution": {
     "iopub.execute_input": "2025-02-21T19:23:37.147774Z",
     "iopub.status.busy": "2025-02-21T19:23:37.147774Z",
     "iopub.status.idle": "2025-02-21T19:24:12.656369Z",
     "shell.execute_reply": "2025-02-21T19:24:12.656369Z"
    }
   },
   "outputs": [
    {
     "name": "stderr",
     "output_type": "stream",
     "text": [
      "DEBUG - Toolkit is not connected to AEDT.\n"
     ]
    },
    {
     "name": "stderr",
     "output_type": "stream",
     "text": [
      "DEBUG - Connecting AEDT.\n"
     ]
    },
    {
     "name": "stdout",
     "output_type": "stream",
     "text": [
      "PyAEDT INFO: Python version 3.10.11 (tags/v3.10.11:7d4cc5a, Apr  5 2023, 00:38:17) [MSC v.1929 64 bit (AMD64)].\n"
     ]
    },
    {
     "name": "stdout",
     "output_type": "stream",
     "text": [
      "PyAEDT INFO: PyAEDT version 0.14.1.\n"
     ]
    },
    {
     "name": "stdout",
     "output_type": "stream",
     "text": [
      "PyAEDT INFO: Initializing new Desktop session.\n"
     ]
    },
    {
     "name": "stdout",
     "output_type": "stream",
     "text": [
      "PyAEDT WARNING: Argument `specified_version` is deprecated for method `__init__`; use `version` instead.\n"
     ]
    },
    {
     "name": "stdout",
     "output_type": "stream",
     "text": [
      "PyAEDT WARNING: Argument `new_desktop_session` is deprecated for method `__init__`; use `new_desktop` instead.\n"
     ]
    },
    {
     "name": "stdout",
     "output_type": "stream",
     "text": [
      "PyAEDT INFO: Log on console is enabled.\n"
     ]
    },
    {
     "name": "stdout",
     "output_type": "stream",
     "text": [
      "PyAEDT INFO: Log on file C:\\Users\\ansys\\AppData\\Local\\Temp\\pyaedt_ansys_f37d37a7-ca35-4946-be3e-9f221230df5f.log is enabled.\n"
     ]
    },
    {
     "name": "stdout",
     "output_type": "stream",
     "text": [
      "PyAEDT INFO: Log on AEDT is disabled.\n"
     ]
    },
    {
     "name": "stdout",
     "output_type": "stream",
     "text": [
      "PyAEDT INFO: Debug logger is disabled. PyAEDT methods will not be logged.\n"
     ]
    },
    {
     "name": "stdout",
     "output_type": "stream",
     "text": [
      "PyAEDT INFO: Launching PyAEDT with gRPC plugin.\n"
     ]
    },
    {
     "name": "stdout",
     "output_type": "stream",
     "text": [
      "PyAEDT INFO: Connecting to AEDT session on gRPC port 62261.\n"
     ]
    },
    {
     "name": "stdout",
     "output_type": "stream",
     "text": [
      "PyAEDT INFO: AEDT installation Path C:\\Program Files\\AnsysEM\\v242\\Win64\n"
     ]
    },
    {
     "name": "stderr",
     "output_type": "stream",
     "text": [
      "DEBUG - Toolkit is connected to AEDT.\n"
     ]
    },
    {
     "name": "stdout",
     "output_type": "stream",
     "text": [
      "PyAEDT WARNING: Argument `designname` is deprecated for method `__init__`; use `design` instead.\n"
     ]
    },
    {
     "name": "stdout",
     "output_type": "stream",
     "text": [
      "PyAEDT WARNING: Argument `projectname` is deprecated for method `__init__`; use `project` instead.\n"
     ]
    },
    {
     "name": "stdout",
     "output_type": "stream",
     "text": [
      "PyAEDT WARNING: Argument `specified_version` is deprecated for method `__init__`; use `version` instead.\n"
     ]
    },
    {
     "name": "stdout",
     "output_type": "stream",
     "text": [
      "PyAEDT WARNING: Argument `new_desktop_session` is deprecated for method `__init__`; use `new_desktop` instead.\n"
     ]
    },
    {
     "name": "stdout",
     "output_type": "stream",
     "text": [
      "PyAEDT INFO: Python version 3.10.11 (tags/v3.10.11:7d4cc5a, Apr  5 2023, 00:38:17) [MSC v.1929 64 bit (AMD64)].\n"
     ]
    },
    {
     "name": "stdout",
     "output_type": "stream",
     "text": [
      "PyAEDT INFO: PyAEDT version 0.14.1.\n"
     ]
    },
    {
     "name": "stdout",
     "output_type": "stream",
     "text": [
      "PyAEDT INFO: Returning found Desktop session with PID 6032!\n"
     ]
    },
    {
     "name": "stdout",
     "output_type": "stream",
     "text": [
      "PyAEDT INFO: Project Project1296 has been created.\n"
     ]
    },
    {
     "name": "stdout",
     "output_type": "stream",
     "text": [
      "PyAEDT INFO: Added design 'HFSS_POXRNK' of type HFSS.\n"
     ]
    },
    {
     "name": "stdout",
     "output_type": "stream",
     "text": [
      "PyAEDT INFO: Aedt Objects correctly read\n"
     ]
    },
    {
     "name": "stdout",
     "output_type": "stream",
     "text": [
      "PyAEDT INFO: Project Project1296 Saved correctly\n"
     ]
    },
    {
     "name": "stderr",
     "output_type": "stream",
     "text": [
      "DEBUG - Project name: Project1296\n"
     ]
    },
    {
     "name": "stderr",
     "output_type": "stream",
     "text": [
      "INFO - Updating internal properties.\n"
     ]
    },
    {
     "name": "stderr",
     "output_type": "stream",
     "text": [
      "DEBUG - Updating 'project_list' with value ['C:/Users/ansys/Documents/Ansoft/Project1296.aedt']\n"
     ]
    },
    {
     "name": "stderr",
     "output_type": "stream",
     "text": [
      "DEBUG - Updating 'active_design' with value HFSS_POXRNK\n"
     ]
    },
    {
     "name": "stderr",
     "output_type": "stream",
     "text": [
      "DEBUG - Updating 'active_project' with value C:/Users/ansys/Documents/Ansoft/Project1296.aedt\n"
     ]
    },
    {
     "name": "stderr",
     "output_type": "stream",
     "text": [
      "DEBUG - Updating 'design_list' with value {'Project1296': ['HFSS_POXRNK']}\n"
     ]
    },
    {
     "name": "stderr",
     "output_type": "stream",
     "text": [
      "DEBUG - Properties were updated successfully.\n"
     ]
    },
    {
     "name": "stderr",
     "output_type": "stream",
     "text": [
      "INFO - Toolkit is connected to AEDT design.\n"
     ]
    },
    {
     "data": {
      "text/plain": [
       "True"
      ]
     },
     "execution_count": 9,
     "metadata": {},
     "output_type": "execute_result"
    }
   ],
   "source": [
    "toolkit.connect_design(\"HFSS\")"
   ]
  },
  {
   "cell_type": "markdown",
   "id": "7e4fd0d4",
   "metadata": {},
   "source": [
    "## Get toolkit properties\n",
    "\n",
    "Get the toolkit properties, which contain the project information."
   ]
  },
  {
   "cell_type": "code",
   "execution_count": 10,
   "id": "2e262114",
   "metadata": {
    "execution": {
     "iopub.execute_input": "2025-02-21T19:24:12.656369Z",
     "iopub.status.busy": "2025-02-21T19:24:12.656369Z",
     "iopub.status.idle": "2025-02-21T19:24:12.671994Z",
     "shell.execute_reply": "2025-02-21T19:24:12.671994Z"
    }
   },
   "outputs": [],
   "source": [
    "new_properties = toolkit.get_properties()"
   ]
  },
  {
   "cell_type": "markdown",
   "id": "82ab29ec",
   "metadata": {},
   "source": [
    "## Create a waveguide\n",
    "\n",
    "Create a waveguide in the design."
   ]
  },
  {
   "cell_type": "code",
   "execution_count": 11,
   "id": "708c649a",
   "metadata": {
    "execution": {
     "iopub.execute_input": "2025-02-21T19:24:12.671994Z",
     "iopub.status.busy": "2025-02-21T19:24:12.671994Z",
     "iopub.status.idle": "2025-02-21T19:24:27.315435Z",
     "shell.execute_reply": "2025-02-21T19:24:27.315435Z"
    },
    "lines_to_next_cell": 2
   },
   "outputs": [
    {
     "name": "stdout",
     "output_type": "stream",
     "text": [
      "PyAEDT INFO: Modeler class has been initialized! Elapsed time: 0m 6sec\n"
     ]
    },
    {
     "name": "stdout",
     "output_type": "stream",
     "text": [
      "PyAEDT INFO: Materials class has been initialized! Elapsed time: 0m 0sec\n"
     ]
    },
    {
     "name": "stdout",
     "output_type": "stream",
     "text": [
      "PyAEDT INFO: Parsing design objects. This operation can take time\n"
     ]
    },
    {
     "name": "stdout",
     "output_type": "stream",
     "text": [
      "PyAEDT INFO: Refreshing bodies from Object Info\n"
     ]
    },
    {
     "name": "stdout",
     "output_type": "stream",
     "text": [
      "PyAEDT INFO: Bodies Info Refreshed Elapsed time: 0m 0sec\n"
     ]
    },
    {
     "name": "stdout",
     "output_type": "stream",
     "text": [
      "PyAEDT INFO: 3D Modeler objects parsed. Elapsed time: 0m 0sec\n"
     ]
    },
    {
     "name": "stdout",
     "output_type": "stream",
     "text": [
      "PyAEDT INFO: Parsing C:/Users/ansys/Documents/Ansoft/Project1296.aedt.\n"
     ]
    },
    {
     "name": "stdout",
     "output_type": "stream",
     "text": [
      "PyAEDT INFO: File C:/Users/ansys/Documents/Ansoft/Project1296.aedt correctly loaded. Elapsed time: 0m 0sec\n"
     ]
    },
    {
     "name": "stdout",
     "output_type": "stream",
     "text": [
      "PyAEDT INFO: aedt file load time 0.015737295150756836\n"
     ]
    },
    {
     "name": "stdout",
     "output_type": "stream",
     "text": [
      "PyAEDT INFO: PostProcessor class has been initialized! Elapsed time: 0m 0sec\n"
     ]
    },
    {
     "name": "stdout",
     "output_type": "stream",
     "text": [
      "PyAEDT INFO: Post class has been initialized! Elapsed time: 0m 0sec\n"
     ]
    },
    {
     "name": "stderr",
     "output_type": "stream",
     "text": [
      "C:\\actions-runner\\_work\\pyaedt-toolkits-common\\pyaedt-toolkits-common\\.venv\\lib\\site-packages\\pyvista\\jupyter\\notebook.py:37: UserWarning: Failed to use notebook backend: \n",
      "\n",
      "Please install `ipywidgets`.\n",
      "\n",
      "Falling back to a static output.\n",
      "  warnings.warn(\n"
     ]
    },
    {
     "data": {
      "image/jpeg": "[encoded data removed]",
      "image/png": "[encoded data removed]",
      "text/plain": [
       "<PIL.Image.Image image mode=RGB size=600x600>"
      ]
     },
     "metadata": {},
     "output_type": "display_data"
    },
    {
     "data": {
      "text/plain": [
       "True"
      ]
     },
     "execution_count": 11,
     "metadata": {},
     "output_type": "execute_result"
    }
   ],
   "source": [
    "wg = toolkit.aedtapp.modeler.create_waveguide([0, 0, 0], 1)\n",
    "model = toolkit.aedtapp.plot(show=False)\n",
    "model.show_grid = False\n",
    "model.plot(os.path.join(toolkit.aedtapp.working_directory, \"Image.jpg\"))"
   ]
  },
  {
   "cell_type": "markdown",
   "id": "6c8cbfe7",
   "metadata": {},
   "source": [
    "## Save and release AEDT\n",
    "\n",
    "Save and release AEDT."
   ]
  },
  {
   "cell_type": "code",
   "execution_count": 12,
   "id": "426fc165",
   "metadata": {
    "execution": {
     "iopub.execute_input": "2025-02-21T19:24:27.315435Z",
     "iopub.status.busy": "2025-02-21T19:24:27.315435Z",
     "iopub.status.idle": "2025-02-21T19:24:31.912358Z",
     "shell.execute_reply": "2025-02-21T19:24:31.912358Z"
    }
   },
   "outputs": [
    {
     "name": "stdout",
     "output_type": "stream",
     "text": [
      "PyAEDT INFO: Desktop has been released and closed.\n"
     ]
    },
    {
     "name": "stderr",
     "output_type": "stream",
     "text": [
      "INFO - AEDT is released.\n"
     ]
    },
    {
     "data": {
      "text/plain": [
       "True"
      ]
     },
     "execution_count": 12,
     "metadata": {},
     "output_type": "execute_result"
    }
   ],
   "source": [
    "toolkit.release_aedt(True, True)"
   ]
  }
 ],
 "metadata": {
  "jupytext": {
   "cell_metadata_filter": "-all",
   "main_language": "python",
   "notebook_metadata_filter": "-all",
   "text_representation": {
    "extension": ".py",
    "format_name": "light"
   }
  },
  "language_info": {
   "codemirror_mode": {
    "name": "ipython",
    "version": 3
   },
   "file_extension": ".py",
   "mimetype": "text/x-python",
   "name": "python",
   "nbconvert_exporter": "python",
   "pygments_lexer": "ipython3",
   "version": "3.10.11"
  }
 },
 "nbformat": 4,
 "nbformat_minor": 5
}
