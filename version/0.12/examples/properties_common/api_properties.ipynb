{
 "cells": [
  {
   "cell_type": "markdown",
   "id": "cf534af8",
   "metadata": {},
   "source": [
    "# Properties example\n",
    "\n",
    "This example shows how to use the ``Common`` class, which contains properties models.\n",
    "These properties provide for sharing information through all the workflow."
   ]
  },
  {
   "cell_type": "markdown",
   "id": "a4d34655",
   "metadata": {},
   "source": [
    "## Add new properties\n",
    "\n",
    "Before importing the common module, you can add new properties.\n",
    "First create a file that contains the new properties type, [Models](models.py).\n",
    "Then add a [TOML file](backend_properties.toml) that sets the needed default values.\n",
    "Finally, import the properties."
   ]
  },
  {
   "cell_type": "code",
   "execution_count": 1,
   "id": "efc1a26a",
   "metadata": {
    "execution": {
     "iopub.execute_input": "2025-06-13T08:43:55.359911Z",
     "iopub.status.busy": "2025-06-13T08:43:55.359911Z",
     "iopub.status.idle": "2025-06-13T08:43:55.667740Z",
     "shell.execute_reply": "2025-06-13T08:43:55.667740Z"
    }
   },
   "outputs": [],
   "source": [
    "from models import properties"
   ]
  },
  {
   "cell_type": "markdown",
   "id": "e09cafbe",
   "metadata": {},
   "source": [
    "## Perform required imports\n",
    "\n",
    "Perform the required imports."
   ]
  },
  {
   "cell_type": "code",
   "execution_count": 2,
   "id": "4201f34e",
   "metadata": {
    "execution": {
     "iopub.execute_input": "2025-06-13T08:43:55.667740Z",
     "iopub.status.busy": "2025-06-13T08:43:55.667740Z",
     "iopub.status.idle": "2025-06-13T08:43:56.890233Z",
     "shell.execute_reply": "2025-06-13T08:43:56.890233Z"
    }
   },
   "outputs": [],
   "source": [
    "import sys\n",
    "from ansys.aedt.toolkits.common.backend.api import Common"
   ]
  },
  {
   "cell_type": "markdown",
   "id": "ee933586",
   "metadata": {},
   "source": [
    "## Initialize toolkit\n",
    "\n",
    "Initialize the toolkit with the new properties."
   ]
  },
  {
   "cell_type": "code",
   "execution_count": 3,
   "id": "86408f07",
   "metadata": {
    "execution": {
     "iopub.execute_input": "2025-06-13T08:43:56.890233Z",
     "iopub.status.busy": "2025-06-13T08:43:56.890233Z",
     "iopub.status.idle": "2025-06-13T08:43:56.899355Z",
     "shell.execute_reply": "2025-06-13T08:43:56.899355Z"
    }
   },
   "outputs": [],
   "source": [
    "toolkit = Common(properties)"
   ]
  },
  {
   "cell_type": "markdown",
   "id": "c9fe70c6",
   "metadata": {},
   "source": [
    "## Get properties\n",
    "\n",
    "Get the properties."
   ]
  },
  {
   "cell_type": "code",
   "execution_count": 4,
   "id": "952e2268",
   "metadata": {
    "execution": {
     "iopub.execute_input": "2025-06-13T08:43:56.899355Z",
     "iopub.status.busy": "2025-06-13T08:43:56.899355Z",
     "iopub.status.idle": "2025-06-13T08:43:56.910245Z",
     "shell.execute_reply": "2025-06-13T08:43:56.910245Z"
    }
   },
   "outputs": [
    {
     "data": {
      "text/plain": [
       "{'aedt_version': '2025.1',\n",
       " 'non_graphical': False,\n",
       " 'active_project': '',\n",
       " 'active_design': '',\n",
       " 'project_list': [],\n",
       " 'design_list': {},\n",
       " 'selected_process': 0,\n",
       " 'use_grpc': True,\n",
       " 'is_toolkit_busy': False,\n",
       " 'url': '127.0.0.1',\n",
       " 'port': 5001,\n",
       " 'debug': False,\n",
       " 'toolkit_name': 'example',\n",
       " 'log_file': 'example_backend.log',\n",
       " 'example': {'invented_property': [10], 'test': 'hola'}}"
      ]
     },
     "execution_count": 4,
     "metadata": {},
     "output_type": "execute_result"
    }
   ],
   "source": [
    "toolkit.get_properties()"
   ]
  },
  {
   "cell_type": "markdown",
   "id": "97f8171a",
   "metadata": {},
   "source": [
    "## Set property\n",
    "\n",
    "Use ``set_properties`` to set the new property."
   ]
  },
  {
   "cell_type": "code",
   "execution_count": 5,
   "id": "d77d7ef0",
   "metadata": {
    "execution": {
     "iopub.execute_input": "2025-06-13T08:43:56.910245Z",
     "iopub.status.busy": "2025-06-13T08:43:56.910245Z",
     "iopub.status.idle": "2025-06-13T08:43:56.923560Z",
     "shell.execute_reply": "2025-06-13T08:43:56.923560Z"
    }
   },
   "outputs": [
    {
     "name": "stderr",
     "output_type": "stream",
     "text": [
      "INFO - Updating internal properties.\n"
     ]
    },
    {
     "data": {
      "text/plain": [
       "{'aedt_version': '2025.1',\n",
       " 'non_graphical': False,\n",
       " 'active_project': '',\n",
       " 'active_design': '',\n",
       " 'project_list': [],\n",
       " 'design_list': {},\n",
       " 'selected_process': 0,\n",
       " 'use_grpc': True,\n",
       " 'is_toolkit_busy': False,\n",
       " 'url': '127.0.0.1',\n",
       " 'port': 5001,\n",
       " 'debug': False,\n",
       " 'toolkit_name': 'example',\n",
       " 'log_file': 'example_backend.log',\n",
       " 'example': {'invented_property': [1, 2, 3], 'test': 'hola'}}"
      ]
     },
     "execution_count": 5,
     "metadata": {},
     "output_type": "execute_result"
    }
   ],
   "source": [
    "set_properties = {\"invented_property\": [1, 2, 3]}\n",
    "toolkit.set_properties(set_properties)\n",
    "toolkit.get_properties()"
   ]
  },
  {
   "cell_type": "markdown",
   "id": "77c1cca5",
   "metadata": {},
   "source": [
    "## Set property directly\n",
    "\n",
    "Set the property directly."
   ]
  },
  {
   "cell_type": "code",
   "execution_count": 6,
   "id": "5f8a511c",
   "metadata": {
    "execution": {
     "iopub.execute_input": "2025-06-13T08:43:56.923560Z",
     "iopub.status.busy": "2025-06-13T08:43:56.923560Z",
     "iopub.status.idle": "2025-06-13T08:43:57.591460Z",
     "shell.execute_reply": "2025-06-13T08:43:57.591460Z"
    }
   },
   "outputs": [
    {
     "ename": "ValidationError",
     "evalue": "1 validation error for Properties\ninvented_property\n  Object has no attribute 'invented_property' [type=no_such_attribute, input_value=[10, 20, 30], input_type=list]\n    For further information visit https://errors.pydantic.dev/2.10/v/no_such_attribute",
     "output_type": "error",
     "traceback": [
      "\u001b[31m---------------------------------------------------------------------------\u001b[39m",
      "\u001b[31mValidationError\u001b[39m                           Traceback (most recent call last)",
      "\u001b[36mCell\u001b[39m\u001b[36m \u001b[39m\u001b[32mIn[6]\u001b[39m\u001b[32m, line 1\u001b[39m\n\u001b[32m----> \u001b[39m\u001b[32m1\u001b[39m \u001b[43mproperties\u001b[49m\u001b[43m.\u001b[49m\u001b[43minvented_property\u001b[49m = [\u001b[32m10\u001b[39m, \u001b[32m20\u001b[39m, \u001b[32m30\u001b[39m]\n\u001b[32m      2\u001b[39m toolkit.get_properties()\n",
      "\u001b[36mFile \u001b[39m\u001b[32mC:\\actions-runner\\_work\\pyaedt-toolkits-common\\pyaedt-toolkits-common\\.venv\\Lib\\site-packages\\pydantic\\main.py:922\u001b[39m, in \u001b[36mBaseModel.__setattr__\u001b[39m\u001b[34m(self, name, value)\u001b[39m\n\u001b[32m    920\u001b[39m     \u001b[38;5;28mself\u001b[39m.\u001b[34m__dict__\u001b[39m[name] = value\n\u001b[32m    921\u001b[39m \u001b[38;5;28;01melif\u001b[39;00m \u001b[38;5;28mself\u001b[39m.model_config.get(\u001b[33m'\u001b[39m\u001b[33mvalidate_assignment\u001b[39m\u001b[33m'\u001b[39m, \u001b[38;5;28;01mNone\u001b[39;00m):\n\u001b[32m--> \u001b[39m\u001b[32m922\u001b[39m     \u001b[38;5;28;43mself\u001b[39;49m\u001b[43m.\u001b[49m\u001b[43m__pydantic_validator__\u001b[49m\u001b[43m.\u001b[49m\u001b[43mvalidate_assignment\u001b[49m\u001b[43m(\u001b[49m\u001b[38;5;28;43mself\u001b[39;49m\u001b[43m,\u001b[49m\u001b[43m \u001b[49m\u001b[43mname\u001b[49m\u001b[43m,\u001b[49m\u001b[43m \u001b[49m\u001b[43mvalue\u001b[49m\u001b[43m)\u001b[49m\n\u001b[32m    923\u001b[39m \u001b[38;5;28;01melif\u001b[39;00m \u001b[38;5;28mself\u001b[39m.model_config.get(\u001b[33m'\u001b[39m\u001b[33mextra\u001b[39m\u001b[33m'\u001b[39m) != \u001b[33m'\u001b[39m\u001b[33mallow\u001b[39m\u001b[33m'\u001b[39m \u001b[38;5;129;01mand\u001b[39;00m name \u001b[38;5;129;01mnot\u001b[39;00m \u001b[38;5;129;01min\u001b[39;00m \u001b[38;5;28mself\u001b[39m.__pydantic_fields__:\n\u001b[32m    924\u001b[39m     \u001b[38;5;66;03m# TODO - matching error\u001b[39;00m\n\u001b[32m    925\u001b[39m     \u001b[38;5;28;01mraise\u001b[39;00m \u001b[38;5;167;01mValueError\u001b[39;00m(\u001b[33mf\u001b[39m\u001b[33m'\u001b[39m\u001b[33m\"\u001b[39m\u001b[38;5;132;01m{\u001b[39;00m\u001b[38;5;28mself\u001b[39m.\u001b[34m__class__\u001b[39m.\u001b[34m__name__\u001b[39m\u001b[38;5;132;01m}\u001b[39;00m\u001b[33m\"\u001b[39m\u001b[33m object has no field \u001b[39m\u001b[33m\"\u001b[39m\u001b[38;5;132;01m{\u001b[39;00mname\u001b[38;5;132;01m}\u001b[39;00m\u001b[33m\"\u001b[39m\u001b[33m'\u001b[39m)\n",
      "\u001b[31mValidationError\u001b[39m: 1 validation error for Properties\ninvented_property\n  Object has no attribute 'invented_property' [type=no_such_attribute, input_value=[10, 20, 30], input_type=list]\n    For further information visit https://errors.pydantic.dev/2.10/v/no_such_attribute"
     ]
    }
   ],
   "source": [
    "properties.invented_property = [10, 20, 30]\n",
    "toolkit.get_properties()"
   ]
  },
  {
   "cell_type": "markdown",
   "id": "8983bd7f",
   "metadata": {},
   "source": [
    "## Set wrong property\n",
    "\n",
    "Set the wrong property. It is not possible to change the property type."
   ]
  },
  {
   "cell_type": "code",
   "execution_count": 7,
   "id": "74386f95",
   "metadata": {
    "execution": {
     "iopub.execute_input": "2025-06-13T08:43:57.591460Z",
     "iopub.status.busy": "2025-06-13T08:43:57.591460Z",
     "iopub.status.idle": "2025-06-13T08:43:57.601669Z",
     "shell.execute_reply": "2025-06-13T08:43:57.601669Z"
    }
   },
   "outputs": [
    {
     "name": "stderr",
     "output_type": "stream",
     "text": [
      "INFO - Updating internal properties.\n"
     ]
    },
    {
     "data": {
      "text/plain": [
       "(True, 'Properties were updated successfully.')"
      ]
     },
     "execution_count": 7,
     "metadata": {},
     "output_type": "execute_result"
    }
   ],
   "source": [
    "set_properties = {\"invented_property\": 1}\n",
    "toolkit.set_properties(set_properties)"
   ]
  }
 ],
 "metadata": {
  "jupytext": {
   "cell_metadata_filter": "-all",
   "main_language": "python",
   "notebook_metadata_filter": "-all",
   "text_representation": {
    "extension": ".py",
    "format_name": "light"
   }
  },
  "language_info": {
   "codemirror_mode": {
    "name": "ipython",
    "version": 3
   },
   "file_extension": ".py",
   "mimetype": "text/x-python",
   "name": "python",
   "nbconvert_exporter": "python",
   "pygments_lexer": "ipython3",
   "version": "3.12.10"
  }
 },
 "nbformat": 4,
 "nbformat_minor": 5
}
