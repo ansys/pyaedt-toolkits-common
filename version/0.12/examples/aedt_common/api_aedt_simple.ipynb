{
 "cells": [
  {
   "cell_type": "markdown",
   "id": "4ba6977d",
   "metadata": {},
   "source": [
    "# AEDT simple example\n",
    "\n",
    "This example shows how to use the ``AEDTCommon`` class to\n",
    "launch a new AEDT session in a thread,\n",
    "create an HFSS design, and create a coaxial."
   ]
  },
  {
   "cell_type": "markdown",
   "id": "42d5f518",
   "metadata": {},
   "source": [
    "## Perform required imports\n",
    "\n",
    "Perform the required imports."
   ]
  },
  {
   "cell_type": "code",
   "execution_count": 1,
   "id": "0f3be485",
   "metadata": {
    "execution": {
     "iopub.execute_input": "2025-06-13T08:42:19.152043Z",
     "iopub.status.busy": "2025-06-13T08:42:19.152043Z",
     "iopub.status.idle": "2025-06-13T08:42:20.652647Z",
     "shell.execute_reply": "2025-06-13T08:42:20.652647Z"
    }
   },
   "outputs": [],
   "source": [
    "import sys\n",
    "from ansys.aedt.toolkits.common.backend.api import AEDTCommon"
   ]
  },
  {
   "cell_type": "markdown",
   "id": "8d4c8be7",
   "metadata": {},
   "source": [
    "## Initialize toolkit\n",
    "\n",
    "Initialize the toolkit."
   ]
  },
  {
   "cell_type": "code",
   "execution_count": 2,
   "id": "d0bfdad1",
   "metadata": {
    "execution": {
     "iopub.execute_input": "2025-06-13T08:42:20.652647Z",
     "iopub.status.busy": "2025-06-13T08:42:20.652647Z",
     "iopub.status.idle": "2025-06-13T08:42:20.664240Z",
     "shell.execute_reply": "2025-06-13T08:42:20.664240Z"
    }
   },
   "outputs": [],
   "source": [
    "toolkit = AEDTCommon()"
   ]
  },
  {
   "cell_type": "markdown",
   "id": "e52c88b7",
   "metadata": {},
   "source": [
    "## Get toolkit properties\n",
    "\n",
    "Get the toolkit properties."
   ]
  },
  {
   "cell_type": "code",
   "execution_count": 3,
   "id": "0e337881",
   "metadata": {
    "execution": {
     "iopub.execute_input": "2025-06-13T08:42:20.664240Z",
     "iopub.status.busy": "2025-06-13T08:42:20.664240Z",
     "iopub.status.idle": "2025-06-13T08:42:20.671288Z",
     "shell.execute_reply": "2025-06-13T08:42:20.671288Z"
    }
   },
   "outputs": [],
   "source": [
    "properties_from_backend = toolkit.get_properties()"
   ]
  },
  {
   "cell_type": "markdown",
   "id": "60d0b459",
   "metadata": {},
   "source": [
    "## Set properties\n",
    "\n",
    "Set non-graphical mode."
   ]
  },
  {
   "cell_type": "code",
   "execution_count": 4,
   "id": "f9740642",
   "metadata": {
    "execution": {
     "iopub.execute_input": "2025-06-13T08:42:20.671288Z",
     "iopub.status.busy": "2025-06-13T08:42:20.671288Z",
     "iopub.status.idle": "2025-06-13T08:42:20.681656Z",
     "shell.execute_reply": "2025-06-13T08:42:20.681656Z"
    }
   },
   "outputs": [
    {
     "name": "stderr",
     "output_type": "stream",
     "text": [
      "INFO - Updating internal properties.\n"
     ]
    }
   ],
   "source": [
    "set_properties = {\"non_graphical\": True}\n",
    "flag_set_properties, msg_set_properties = toolkit.set_properties(set_properties)"
   ]
  },
  {
   "cell_type": "markdown",
   "id": "e3c1ce25",
   "metadata": {},
   "source": [
    "## Initialize AEDT\n",
    "\n",
    "Launch a new AEDT session in a thread."
   ]
  },
  {
   "cell_type": "code",
   "execution_count": 5,
   "id": "4ae9ed3a",
   "metadata": {
    "execution": {
     "iopub.execute_input": "2025-06-13T08:42:20.681656Z",
     "iopub.status.busy": "2025-06-13T08:42:20.681656Z",
     "iopub.status.idle": "2025-06-13T08:42:20.695646Z",
     "shell.execute_reply": "2025-06-13T08:42:20.695646Z"
    }
   },
   "outputs": [],
   "source": [
    "thread_msg = toolkit.launch_thread(toolkit.launch_aedt)"
   ]
  },
  {
   "cell_type": "markdown",
   "id": "63e415fc",
   "metadata": {},
   "source": [
    "## Wait for the toolkit thread to be idle\n",
    "\n",
    "Wait for the toolkit thread to be idle and ready to accept a new task."
   ]
  },
  {
   "cell_type": "code",
   "execution_count": 6,
   "id": "e2ccef2c",
   "metadata": {
    "execution": {
     "iopub.execute_input": "2025-06-13T08:42:20.695646Z",
     "iopub.status.busy": "2025-06-13T08:42:20.695646Z",
     "iopub.status.idle": "2025-06-13T08:42:27.710542Z",
     "shell.execute_reply": "2025-06-13T08:42:27.710542Z"
    }
   },
   "outputs": [],
   "source": [
    "idle = toolkit.wait_to_be_idle()\n",
    "if not idle:\n",
    "    print(\"AEDT not initialized.\")\n",
    "    sys.exit()"
   ]
  },
  {
   "cell_type": "markdown",
   "id": "de76a582",
   "metadata": {},
   "source": [
    "## Connect design\n",
    "\n",
    "Connect or create a new design."
   ]
  },
  {
   "cell_type": "code",
   "execution_count": 7,
   "id": "d62ecf5e",
   "metadata": {
    "execution": {
     "iopub.execute_input": "2025-06-13T08:42:27.710542Z",
     "iopub.status.busy": "2025-06-13T08:42:27.710542Z",
     "iopub.status.idle": "2025-06-13T08:42:58.904623Z",
     "shell.execute_reply": "2025-06-13T08:42:58.904623Z"
    }
   },
   "outputs": [
    {
     "name": "stderr",
     "output_type": "stream",
     "text": [
      "INFO - Updating internal properties.\n"
     ]
    },
    {
     "name": "stderr",
     "output_type": "stream",
     "text": [
      "INFO - Toolkit is connected to AEDT design.\n"
     ]
    },
    {
     "data": {
      "text/plain": [
       "True"
      ]
     },
     "execution_count": 7,
     "metadata": {},
     "output_type": "execute_result"
    }
   ],
   "source": [
    "toolkit.connect_design(\"HFSS\")"
   ]
  },
  {
   "cell_type": "markdown",
   "id": "7bc86869",
   "metadata": {},
   "source": [
    "## Get toolkit properties\n",
    "\n",
    "Get the toolkit properties, which contain the project information."
   ]
  },
  {
   "cell_type": "code",
   "execution_count": 8,
   "id": "f6535c51",
   "metadata": {
    "execution": {
     "iopub.execute_input": "2025-06-13T08:42:58.904623Z",
     "iopub.status.busy": "2025-06-13T08:42:58.904623Z",
     "iopub.status.idle": "2025-06-13T08:42:58.912032Z",
     "shell.execute_reply": "2025-06-13T08:42:58.912032Z"
    }
   },
   "outputs": [],
   "source": [
    "new_properties = toolkit.get_properties()"
   ]
  },
  {
   "cell_type": "markdown",
   "id": "e55232a2",
   "metadata": {},
   "source": [
    "## Create a coaxial\n",
    "\n",
    "Create a coaxial in the design."
   ]
  },
  {
   "cell_type": "code",
   "execution_count": 9,
   "id": "38eb12e2",
   "metadata": {
    "execution": {
     "iopub.execute_input": "2025-06-13T08:42:58.912032Z",
     "iopub.status.busy": "2025-06-13T08:42:58.912032Z",
     "iopub.status.idle": "2025-06-13T08:43:01.113837Z",
     "shell.execute_reply": "2025-06-13T08:43:01.113837Z"
    }
   },
   "outputs": [],
   "source": [
    "coax = toolkit.aedtapp.modeler.create_coaxial([0, 0, 0], 1)"
   ]
  },
  {
   "cell_type": "markdown",
   "id": "365ed5ab",
   "metadata": {},
   "source": [
    "## Release AEDT\n",
    "\n",
    "Release AEDT."
   ]
  },
  {
   "cell_type": "code",
   "execution_count": 10,
   "id": "3155f556",
   "metadata": {
    "execution": {
     "iopub.execute_input": "2025-06-13T08:43:01.113837Z",
     "iopub.status.busy": "2025-06-13T08:43:01.113837Z",
     "iopub.status.idle": "2025-06-13T08:43:01.310767Z",
     "shell.execute_reply": "2025-06-13T08:43:01.310767Z"
    }
   },
   "outputs": [
    {
     "name": "stderr",
     "output_type": "stream",
     "text": [
      "INFO - AEDT is released.\n"
     ]
    },
    {
     "data": {
      "text/plain": [
       "True"
      ]
     },
     "execution_count": 10,
     "metadata": {},
     "output_type": "execute_result"
    }
   ],
   "source": [
    "toolkit.release_aedt(False, False)"
   ]
  },
  {
   "cell_type": "markdown",
   "id": "27709b31",
   "metadata": {},
   "source": [
    "## Export AEDT model\n",
    "\n",
    "Export the OBJ files."
   ]
  },
  {
   "cell_type": "code",
   "execution_count": 11,
   "id": "76a72f89",
   "metadata": {
    "execution": {
     "iopub.execute_input": "2025-06-13T08:43:01.310767Z",
     "iopub.status.busy": "2025-06-13T08:43:01.310767Z",
     "iopub.status.idle": "2025-06-13T08:43:02.949496Z",
     "shell.execute_reply": "2025-06-13T08:43:02.949496Z"
    }
   },
   "outputs": [
    {
     "name": "stderr",
     "output_type": "stream",
     "text": [
      "INFO - Toolkit is connected to AEDT design.\n"
     ]
    },
    {
     "name": "stderr",
     "output_type": "stream",
     "text": [
      "C:\\actions-runner\\_work\\pyaedt-toolkits-common\\pyaedt-toolkits-common\\.venv\\Lib\\site-packages\\ansys\\aedt\\core\\visualization\\plot\\pyvista.py:55: UserWarning: Graphics dependencies are required. Please install the ``graphics`` target to use this method. You can install it by running `pip install pyaedt[graphics]` or `pip install pyaedt[all]`.\n",
      "  warnings.warn(ERROR_GRAPHICS_REQUIRED)\n",
      "C:\\actions-runner\\_work\\pyaedt-toolkits-common\\pyaedt-toolkits-common\\.venv\\Lib\\site-packages\\ansys\\aedt\\core\\visualization\\plot\\matplotlib.py:53: UserWarning: Graphics dependencies are required. Please install the ``graphics`` target to use this method. You can install it by running `pip install pyaedt[graphics]` or `pip install pyaedt[all]`.\n",
      "  warnings.warn(ERROR_GRAPHICS_REQUIRED)\n"
     ]
    },
    {
     "name": "stderr",
     "output_type": "stream",
     "text": [
      "INFO - AEDT is released.\n"
     ]
    }
   ],
   "source": [
    "files = toolkit.export_aedt_model()"
   ]
  },
  {
   "cell_type": "markdown",
   "id": "3245d3b1",
   "metadata": {},
   "source": [
    "## Release and close AEDT\n",
    "\n",
    "Release and close AEDT."
   ]
  },
  {
   "cell_type": "code",
   "execution_count": 12,
   "id": "c0f7bd42",
   "metadata": {
    "execution": {
     "iopub.execute_input": "2025-06-13T08:43:02.949496Z",
     "iopub.status.busy": "2025-06-13T08:43:02.949496Z",
     "iopub.status.idle": "2025-06-13T08:43:15.320579Z",
     "shell.execute_reply": "2025-06-13T08:43:15.320579Z"
    }
   },
   "outputs": [
    {
     "name": "stderr",
     "output_type": "stream",
     "text": [
      "INFO - AEDT is released.\n"
     ]
    },
    {
     "data": {
      "text/plain": [
       "True"
      ]
     },
     "execution_count": 12,
     "metadata": {},
     "output_type": "execute_result"
    }
   ],
   "source": [
    "toolkit.release_aedt(True, True)"
   ]
  }
 ],
 "metadata": {
  "jupytext": {
   "cell_metadata_filter": "-all",
   "main_language": "python",
   "notebook_metadata_filter": "-all",
   "text_representation": {
    "extension": ".py",
    "format_name": "light"
   }
  },
  "language_info": {
   "codemirror_mode": {
    "name": "ipython",
    "version": 3
   },
   "file_extension": ".py",
   "mimetype": "text/x-python",
   "name": "python",
   "nbconvert_exporter": "python",
   "pygments_lexer": "ipython3",
   "version": "3.12.10"
  }
 },
 "nbformat": 4,
 "nbformat_minor": 5
}
