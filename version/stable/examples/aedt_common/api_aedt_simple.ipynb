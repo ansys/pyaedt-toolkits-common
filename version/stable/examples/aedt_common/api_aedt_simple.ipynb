{
 "cells": [
  {
   "cell_type": "markdown",
   "id": "c70fdd28",
   "metadata": {},
   "source": [
    "# AEDT simple example\n",
    "\n",
    "This example shows how to use the ``AEDTCommon`` class to\n",
    "launch a new AEDT session in a thread,\n",
    "create an HFSS design, and create a coaxial."
   ]
  },
  {
   "cell_type": "markdown",
   "id": "219b04ae",
   "metadata": {},
   "source": [
    "## Perform required imports\n",
    "\n",
    "Perform the required imports."
   ]
  },
  {
   "cell_type": "code",
   "execution_count": 1,
   "id": "26e18f9a",
   "metadata": {
    "execution": {
     "iopub.execute_input": "2025-09-26T14:21:17.380453Z",
     "iopub.status.busy": "2025-09-26T14:21:17.380453Z",
     "iopub.status.idle": "2025-09-26T14:21:21.297771Z",
     "shell.execute_reply": "2025-09-26T14:21:21.297771Z"
    }
   },
   "outputs": [],
   "source": [
    "import sys\n",
    "from ansys.aedt.toolkits.common.backend.api import AEDTCommon"
   ]
  },
  {
   "cell_type": "markdown",
   "id": "b403195c",
   "metadata": {},
   "source": [
    "## Initialize toolkit\n",
    "\n",
    "Initialize the toolkit."
   ]
  },
  {
   "cell_type": "code",
   "execution_count": 2,
   "id": "afe799e7",
   "metadata": {
    "execution": {
     "iopub.execute_input": "2025-09-26T14:21:21.297771Z",
     "iopub.status.busy": "2025-09-26T14:21:21.297771Z",
     "iopub.status.idle": "2025-09-26T14:21:21.306086Z",
     "shell.execute_reply": "2025-09-26T14:21:21.306086Z"
    }
   },
   "outputs": [],
   "source": [
    "toolkit = AEDTCommon()"
   ]
  },
  {
   "cell_type": "markdown",
   "id": "fc56d31e",
   "metadata": {},
   "source": [
    "## Get toolkit properties\n",
    "\n",
    "Get the toolkit properties."
   ]
  },
  {
   "cell_type": "code",
   "execution_count": 3,
   "id": "e4fdceb7",
   "metadata": {
    "execution": {
     "iopub.execute_input": "2025-09-26T14:21:21.306086Z",
     "iopub.status.busy": "2025-09-26T14:21:21.306086Z",
     "iopub.status.idle": "2025-09-26T14:21:21.313117Z",
     "shell.execute_reply": "2025-09-26T14:21:21.313117Z"
    }
   },
   "outputs": [],
   "source": [
    "properties_from_backend = toolkit.get_properties()"
   ]
  },
  {
   "cell_type": "markdown",
   "id": "c92aa853",
   "metadata": {},
   "source": [
    "## Set properties\n",
    "\n",
    "Set non-graphical mode."
   ]
  },
  {
   "cell_type": "code",
   "execution_count": 4,
   "id": "a4ea7459",
   "metadata": {
    "execution": {
     "iopub.execute_input": "2025-09-26T14:21:21.313117Z",
     "iopub.status.busy": "2025-09-26T14:21:21.313117Z",
     "iopub.status.idle": "2025-09-26T14:21:21.320996Z",
     "shell.execute_reply": "2025-09-26T14:21:21.320996Z"
    }
   },
   "outputs": [
    {
     "name": "stderr",
     "output_type": "stream",
     "text": [
      "INFO - Updating internal properties.\n"
     ]
    }
   ],
   "source": [
    "set_properties = {\"non_graphical\": True}\n",
    "flag_set_properties, msg_set_properties = toolkit.set_properties(set_properties)"
   ]
  },
  {
   "cell_type": "markdown",
   "id": "4c2c6f13",
   "metadata": {},
   "source": [
    "## Initialize AEDT\n",
    "\n",
    "Launch a new AEDT session in a thread."
   ]
  },
  {
   "cell_type": "code",
   "execution_count": 5,
   "id": "5cec6eb9",
   "metadata": {
    "execution": {
     "iopub.execute_input": "2025-09-26T14:21:21.320996Z",
     "iopub.status.busy": "2025-09-26T14:21:21.320996Z",
     "iopub.status.idle": "2025-09-26T14:21:21.374605Z",
     "shell.execute_reply": "2025-09-26T14:21:21.374605Z"
    }
   },
   "outputs": [],
   "source": [
    "thread_msg = toolkit.launch_thread(toolkit.launch_aedt)"
   ]
  },
  {
   "cell_type": "markdown",
   "id": "d6d38497",
   "metadata": {},
   "source": [
    "## Wait for the toolkit thread to be idle\n",
    "\n",
    "Wait for the toolkit thread to be idle and ready to accept a new task."
   ]
  },
  {
   "cell_type": "code",
   "execution_count": 6,
   "id": "bbe499ca",
   "metadata": {
    "execution": {
     "iopub.execute_input": "2025-09-26T14:21:21.378620Z",
     "iopub.status.busy": "2025-09-26T14:21:21.378620Z",
     "iopub.status.idle": "2025-09-26T14:21:33.391053Z",
     "shell.execute_reply": "2025-09-26T14:21:33.391053Z"
    }
   },
   "outputs": [],
   "source": [
    "idle = toolkit.wait_to_be_idle()\n",
    "if not idle:\n",
    "    print(\"AEDT not initialized.\")\n",
    "    sys.exit()"
   ]
  },
  {
   "cell_type": "markdown",
   "id": "aad147a6",
   "metadata": {},
   "source": [
    "## Connect design\n",
    "\n",
    "Connect or create a new design."
   ]
  },
  {
   "cell_type": "code",
   "execution_count": 7,
   "id": "f280e538",
   "metadata": {
    "execution": {
     "iopub.execute_input": "2025-09-26T14:21:33.391053Z",
     "iopub.status.busy": "2025-09-26T14:21:33.391053Z",
     "iopub.status.idle": "2025-09-26T14:21:58.465277Z",
     "shell.execute_reply": "2025-09-26T14:21:58.465277Z"
    }
   },
   "outputs": [
    {
     "name": "stderr",
     "output_type": "stream",
     "text": [
      "INFO - Updating internal properties.\n"
     ]
    },
    {
     "name": "stderr",
     "output_type": "stream",
     "text": [
      "INFO - Toolkit is connected to AEDT design.\n"
     ]
    },
    {
     "data": {
      "text/plain": [
       "True"
      ]
     },
     "execution_count": 7,
     "metadata": {},
     "output_type": "execute_result"
    }
   ],
   "source": [
    "toolkit.connect_design(\"HFSS\")"
   ]
  },
  {
   "cell_type": "markdown",
   "id": "699e60d6",
   "metadata": {},
   "source": [
    "## Get toolkit properties\n",
    "\n",
    "Get the toolkit properties, which contain the project information."
   ]
  },
  {
   "cell_type": "code",
   "execution_count": 8,
   "id": "334bf26e",
   "metadata": {
    "execution": {
     "iopub.execute_input": "2025-09-26T14:21:58.469295Z",
     "iopub.status.busy": "2025-09-26T14:21:58.467286Z",
     "iopub.status.idle": "2025-09-26T14:21:58.472670Z",
     "shell.execute_reply": "2025-09-26T14:21:58.472670Z"
    }
   },
   "outputs": [],
   "source": [
    "new_properties = toolkit.get_properties()"
   ]
  },
  {
   "cell_type": "markdown",
   "id": "398374d3",
   "metadata": {},
   "source": [
    "## Create a coaxial\n",
    "\n",
    "Create a coaxial in the design."
   ]
  },
  {
   "cell_type": "code",
   "execution_count": 9,
   "id": "eef315af",
   "metadata": {
    "execution": {
     "iopub.execute_input": "2025-09-26T14:21:58.476684Z",
     "iopub.status.busy": "2025-09-26T14:21:58.476684Z",
     "iopub.status.idle": "2025-09-26T14:22:00.496530Z",
     "shell.execute_reply": "2025-09-26T14:22:00.496530Z"
    }
   },
   "outputs": [],
   "source": [
    "coax = toolkit.aedtapp.modeler.create_coaxial([0, 0, 0], 1)"
   ]
  },
  {
   "cell_type": "markdown",
   "id": "d0fb7b02",
   "metadata": {},
   "source": [
    "## Release AEDT\n",
    "\n",
    "Release AEDT."
   ]
  },
  {
   "cell_type": "code",
   "execution_count": 10,
   "id": "72a235ee",
   "metadata": {
    "execution": {
     "iopub.execute_input": "2025-09-26T14:22:00.496530Z",
     "iopub.status.busy": "2025-09-26T14:22:00.496530Z",
     "iopub.status.idle": "2025-09-26T14:22:00.804052Z",
     "shell.execute_reply": "2025-09-26T14:22:00.804052Z"
    }
   },
   "outputs": [
    {
     "name": "stderr",
     "output_type": "stream",
     "text": [
      "INFO - AEDT is released.\n"
     ]
    },
    {
     "data": {
      "text/plain": [
       "True"
      ]
     },
     "execution_count": 10,
     "metadata": {},
     "output_type": "execute_result"
    }
   ],
   "source": [
    "toolkit.release_aedt(False, False)"
   ]
  },
  {
   "cell_type": "markdown",
   "id": "9fe7fc8f",
   "metadata": {},
   "source": [
    "## Export AEDT model\n",
    "\n",
    "Export the OBJ files."
   ]
  },
  {
   "cell_type": "code",
   "execution_count": 11,
   "id": "eb0f7da2",
   "metadata": {
    "execution": {
     "iopub.execute_input": "2025-09-26T14:22:00.804052Z",
     "iopub.status.busy": "2025-09-26T14:22:00.804052Z",
     "iopub.status.idle": "2025-09-26T14:22:01.672371Z",
     "shell.execute_reply": "2025-09-26T14:22:01.672371Z"
    }
   },
   "outputs": [
    {
     "name": "stderr",
     "output_type": "stream",
     "text": [
      "INFO - Toolkit is connected to AEDT design.\n"
     ]
    },
    {
     "name": "stderr",
     "output_type": "stream",
     "text": [
      "INFO - AEDT is released.\n"
     ]
    }
   ],
   "source": [
    "files = toolkit.export_aedt_model()"
   ]
  },
  {
   "cell_type": "markdown",
   "id": "aded1f42",
   "metadata": {},
   "source": [
    "## Release and close AEDT\n",
    "\n",
    "Release and close AEDT."
   ]
  },
  {
   "cell_type": "code",
   "execution_count": 12,
   "id": "d00174ae",
   "metadata": {
    "execution": {
     "iopub.execute_input": "2025-09-26T14:22:01.672371Z",
     "iopub.status.busy": "2025-09-26T14:22:01.672371Z",
     "iopub.status.idle": "2025-09-26T14:22:22.089422Z",
     "shell.execute_reply": "2025-09-26T14:22:22.089422Z"
    }
   },
   "outputs": [
    {
     "name": "stderr",
     "output_type": "stream",
     "text": [
      "INFO - AEDT is released.\n"
     ]
    },
    {
     "data": {
      "text/plain": [
       "True"
      ]
     },
     "execution_count": 12,
     "metadata": {},
     "output_type": "execute_result"
    }
   ],
   "source": [
    "toolkit.release_aedt(True, True)"
   ]
  }
 ],
 "metadata": {
  "jupytext": {
   "cell_metadata_filter": "-all",
   "main_language": "python",
   "notebook_metadata_filter": "-all",
   "text_representation": {
    "extension": ".py",
    "format_name": "light"
   }
  },
  "language_info": {
   "codemirror_mode": {
    "name": "ipython",
    "version": 3
   },
   "file_extension": ".py",
   "mimetype": "text/x-python",
   "name": "python",
   "nbconvert_exporter": "python",
   "pygments_lexer": "ipython3",
   "version": "3.12.10"
  }
 },
 "nbformat": 4,
 "nbformat_minor": 5
}
