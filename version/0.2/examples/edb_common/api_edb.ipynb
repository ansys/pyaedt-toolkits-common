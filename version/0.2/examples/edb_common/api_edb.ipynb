{
 "cells": [
  {
   "cell_type": "markdown",
   "id": "2ecf7f36",
   "metadata": {},
   "source": [
    "# EDB simple example\n",
    "\n",
    "This example shows how to use the ``EDBCommon`` class to\n",
    "open an existing EDB project."
   ]
  },
  {
   "cell_type": "markdown",
   "id": "69f82687",
   "metadata": {},
   "source": [
    "## Perform required imports\n",
    "\n",
    "Perform the required imports."
   ]
  },
  {
   "cell_type": "code",
   "execution_count": 1,
   "id": "c12f47a3",
   "metadata": {
    "execution": {
     "iopub.execute_input": "2024-03-12T08:07:28.474933Z",
     "iopub.status.busy": "2024-03-12T08:07:28.474933Z",
     "iopub.status.idle": "2024-03-12T08:07:28.506193Z",
     "shell.execute_reply": "2024-03-12T08:07:28.506193Z"
    }
   },
   "outputs": [],
   "source": [
    "import sys\n",
    "import os\n",
    "import shutil"
   ]
  },
  {
   "cell_type": "code",
   "execution_count": 2,
   "id": "04b39309",
   "metadata": {
    "execution": {
     "iopub.execute_input": "2024-03-12T08:07:28.506193Z",
     "iopub.status.busy": "2024-03-12T08:07:28.506193Z",
     "iopub.status.idle": "2024-03-12T08:07:28.553073Z",
     "shell.execute_reply": "2024-03-12T08:07:28.553073Z"
    }
   },
   "outputs": [],
   "source": [
    "from pyaedt import generate_unique_folder_name"
   ]
  },
  {
   "cell_type": "code",
   "execution_count": 3,
   "id": "e0ac9db9",
   "metadata": {
    "execution": {
     "iopub.execute_input": "2024-03-12T08:07:28.553073Z",
     "iopub.status.busy": "2024-03-12T08:07:28.553073Z",
     "iopub.status.idle": "2024-03-12T08:07:28.865499Z",
     "shell.execute_reply": "2024-03-12T08:07:28.865499Z"
    }
   },
   "outputs": [],
   "source": [
    "from ansys.aedt.toolkits.common.utils import download_file\n",
    "from ansys.aedt.toolkits.common.backend.api import EDBCommon"
   ]
  },
  {
   "cell_type": "markdown",
   "id": "867180d7",
   "metadata": {},
   "source": [
    "## Initialize temporary folder and project settings\n",
    "\n",
    "Initialize a temporary folder to copy the input file into\n",
    "and specify project settings."
   ]
  },
  {
   "cell_type": "code",
   "execution_count": 4,
   "id": "dd4345a7",
   "metadata": {
    "execution": {
     "iopub.execute_input": "2024-03-12T08:07:28.865499Z",
     "iopub.status.busy": "2024-03-12T08:07:28.865499Z",
     "iopub.status.idle": "2024-03-12T08:07:29.068629Z",
     "shell.execute_reply": "2024-03-12T08:07:29.068629Z"
    }
   },
   "outputs": [
    {
     "data": {
      "text/plain": [
       "'C:\\\\Users\\\\ansys\\\\AppData\\\\Local\\\\Temp\\\\pyaedt_prj_WS7\\\\edb_example.aedb\\\\edb.def'"
      ]
     },
     "execution_count": 4,
     "metadata": {},
     "output_type": "execute_result"
    }
   ],
   "source": [
    "URL_BASE = \"https://raw.githubusercontent.com/ansys/example-data/master/toolkits/common/\"\n",
    "EDB_PROJECT = \"edb_edge_ports.aedb/edb.def\"\n",
    "URL = os.path.join(URL_BASE, EDB_PROJECT)\n",
    "\n",
    "temp_folder = os.path.join(generate_unique_folder_name())\n",
    "\n",
    "edb_path = os.path.join(temp_folder, \"edb_example.aedb\")\n",
    "os.makedirs(edb_path, exist_ok=True)\n",
    "local_project = os.path.join(edb_path, \"edb.def\")\n",
    "\n",
    "download_file(URL, local_project)"
   ]
  },
  {
   "cell_type": "markdown",
   "id": "ef5858ba",
   "metadata": {},
   "source": [
    "## Initialize toolkit\n",
    "\n",
    "Initialize the toolkit."
   ]
  },
  {
   "cell_type": "code",
   "execution_count": 5,
   "id": "1588cfbf",
   "metadata": {
    "execution": {
     "iopub.execute_input": "2024-03-12T08:07:29.068629Z",
     "iopub.status.busy": "2024-03-12T08:07:29.068629Z",
     "iopub.status.idle": "2024-03-12T08:07:29.084320Z",
     "shell.execute_reply": "2024-03-12T08:07:29.084320Z"
    }
   },
   "outputs": [],
   "source": [
    "toolkit = EDBCommon()"
   ]
  },
  {
   "cell_type": "markdown",
   "id": "f94fd4a3",
   "metadata": {},
   "source": [
    "## Initialize EDB project\n",
    "\n",
    "Open the EDB project."
   ]
  },
  {
   "cell_type": "code",
   "execution_count": 6,
   "id": "a9c122bc",
   "metadata": {
    "execution": {
     "iopub.execute_input": "2024-03-12T08:07:29.084320Z",
     "iopub.status.busy": "2024-03-12T08:07:29.084320Z",
     "iopub.status.idle": "2024-03-12T08:07:44.350339Z",
     "shell.execute_reply": "2024-03-12T08:07:44.350339Z"
    }
   },
   "outputs": [
    {
     "name": "stdout",
     "output_type": "stream",
     "text": [
      "PyAEDT INFO: StdOut is enabled\n"
     ]
    },
    {
     "name": "stdout",
     "output_type": "stream",
     "text": [
      "PyEDB INFO: StdOut is enabled\n"
     ]
    },
    {
     "name": "stdout",
     "output_type": "stream",
     "text": [
      "PyAEDT INFO: Logger is initialized in EDB.\n"
     ]
    },
    {
     "name": "stdout",
     "output_type": "stream",
     "text": [
      "PyEDB INFO: Logger is initialized in EDB.\n"
     ]
    },
    {
     "name": "stdout",
     "output_type": "stream",
     "text": [
      "PyAEDT INFO: legacy v0.5.2\n"
     ]
    },
    {
     "name": "stdout",
     "output_type": "stream",
     "text": [
      "PyEDB INFO: legacy v0.5.2\n"
     ]
    },
    {
     "name": "stdout",
     "output_type": "stream",
     "text": [
      "PyAEDT INFO: Python version 3.10.11 (tags/v3.10.11:7d4cc5a, Apr  5 2023, 00:38:17) [MSC v.1929 64 bit (AMD64)]\n"
     ]
    },
    {
     "name": "stdout",
     "output_type": "stream",
     "text": [
      "PyEDB INFO: Python version 3.10.11 (tags/v3.10.11:7d4cc5a, Apr  5 2023, 00:38:17) [MSC v.1929 64 bit (AMD64)]\n"
     ]
    },
    {
     "name": "stdout",
     "output_type": "stream",
     "text": [
      "PyAEDT INFO: Database edb_example.aedb Opened in 2024.1\n"
     ]
    },
    {
     "name": "stdout",
     "output_type": "stream",
     "text": [
      "PyEDB INFO: Database edb_example.aedb Opened in 2024.1\n"
     ]
    },
    {
     "name": "stdout",
     "output_type": "stream",
     "text": [
      "PyAEDT INFO: Cell EMDesign1 Opened\n"
     ]
    },
    {
     "name": "stdout",
     "output_type": "stream",
     "text": [
      "PyEDB INFO: Cell EMDesign1 Opened\n"
     ]
    },
    {
     "name": "stdout",
     "output_type": "stream",
     "text": [
      "PyAEDT INFO: Builder was initialized.\n"
     ]
    },
    {
     "name": "stdout",
     "output_type": "stream",
     "text": [
      "PyEDB INFO: Builder was initialized.\n"
     ]
    },
    {
     "name": "stdout",
     "output_type": "stream",
     "text": [
      "PyAEDT INFO: EDB initialized.\n"
     ]
    },
    {
     "name": "stdout",
     "output_type": "stream",
     "text": [
      "PyEDB INFO: EDB initialized.\n"
     ]
    },
    {
     "name": "stderr",
     "output_type": "stream",
     "text": [
      "DEBUG - Project C:\\Users\\ansys\\AppData\\Local\\Temp\\pyaedt_prj_WS7\\edb_example.aedb is opened\n"
     ]
    }
   ],
   "source": [
    "load_edb_msg = toolkit.load_edb(edb_path)"
   ]
  },
  {
   "cell_type": "markdown",
   "id": "9daf3f05",
   "metadata": {},
   "source": [
    "## Get toolkit properties\n",
    "\n",
    "Get toolkit properties, which contain the project information."
   ]
  },
  {
   "cell_type": "code",
   "execution_count": 7,
   "id": "98d3beda",
   "metadata": {
    "execution": {
     "iopub.execute_input": "2024-03-12T08:07:44.350339Z",
     "iopub.status.busy": "2024-03-12T08:07:44.350339Z",
     "iopub.status.idle": "2024-03-12T08:07:44.365970Z",
     "shell.execute_reply": "2024-03-12T08:07:44.365970Z"
    }
   },
   "outputs": [],
   "source": [
    "new_properties = toolkit.get_properties()\n",
    "edb_project = new_properties[\"active_project\"]"
   ]
  },
  {
   "cell_type": "markdown",
   "id": "6e35cee2",
   "metadata": {},
   "source": [
    "## Save project\n",
    "\n",
    "Copy the current project in a new file."
   ]
  },
  {
   "cell_type": "code",
   "execution_count": 8,
   "id": "370d39bf",
   "metadata": {
    "execution": {
     "iopub.execute_input": "2024-03-12T08:07:44.365970Z",
     "iopub.status.busy": "2024-03-12T08:07:44.365970Z",
     "iopub.status.idle": "2024-03-12T08:07:44.397258Z",
     "shell.execute_reply": "2024-03-12T08:07:44.397258Z"
    }
   },
   "outputs": [
    {
     "name": "stderr",
     "output_type": "stream",
     "text": [
      "INFO - Project C:\\Users\\ansys\\AppData\\Local\\Temp\\pyaedt_prj_WS7\\new_edb.aedb saved\n"
     ]
    },
    {
     "data": {
      "text/plain": [
       "True"
      ]
     },
     "execution_count": 8,
     "metadata": {},
     "output_type": "execute_result"
    }
   ],
   "source": [
    "directory, old_file_name = os.path.split(edb_project)\n",
    "new_path = os.path.join(directory, \"new_edb.aedb\")\n",
    "toolkit.save_edb(new_path)"
   ]
  },
  {
   "cell_type": "markdown",
   "id": "e1e7de7c",
   "metadata": {},
   "source": [
    "## Get cell names\n",
    "\n",
    "Get cell names using PyEDB."
   ]
  },
  {
   "cell_type": "code",
   "execution_count": 9,
   "id": "8c678f6e",
   "metadata": {
    "execution": {
     "iopub.execute_input": "2024-03-12T08:07:44.397258Z",
     "iopub.status.busy": "2024-03-12T08:07:44.397258Z",
     "iopub.status.idle": "2024-03-12T08:07:45.381612Z",
     "shell.execute_reply": "2024-03-12T08:07:45.381612Z"
    }
   },
   "outputs": [
    {
     "name": "stderr",
     "output_type": "stream",
     "text": [
      "INFO - Play with EDB\n"
     ]
    },
    {
     "name": "stdout",
     "output_type": "stream",
     "text": [
      "PyAEDT INFO: Nets Point Generation time 0.125 seconds\n"
     ]
    },
    {
     "name": "stdout",
     "output_type": "stream",
     "text": [
      "PyEDB INFO: Nets Point Generation time 0.125 seconds\n"
     ]
    },
    {
     "data": {
      "image/png": "[encoded data removed]",
      "text/plain": [
       "<Figure size 2000x1000 with 1 Axes>"
      ]
     },
     "metadata": {},
     "output_type": "display_data"
    }
   ],
   "source": [
    "toolkit.logger.info(\"Play with EDB\")\n",
    "cell_names = toolkit.edb.cell_names\n",
    "toolkit.edb.nets.plot()"
   ]
  },
  {
   "cell_type": "markdown",
   "id": "a7ed0fe3",
   "metadata": {},
   "source": [
    "## Save and release EDB\n",
    "\n",
    "Save and release EDB."
   ]
  },
  {
   "cell_type": "code",
   "execution_count": 10,
   "id": "626f6542",
   "metadata": {
    "execution": {
     "iopub.execute_input": "2024-03-12T08:07:45.381612Z",
     "iopub.status.busy": "2024-03-12T08:07:45.381612Z",
     "iopub.status.idle": "2024-03-12T08:07:45.412889Z",
     "shell.execute_reply": "2024-03-12T08:07:45.412889Z"
    }
   },
   "outputs": [
    {
     "name": "stdout",
     "output_type": "stream",
     "text": [
      "PyAEDT INFO: EDB file release time: 0.00ms\n"
     ]
    },
    {
     "name": "stdout",
     "output_type": "stream",
     "text": [
      "PyEDB INFO: EDB file release time: 0.00ms\n"
     ]
    },
    {
     "name": "stderr",
     "output_type": "stream",
     "text": [
      "INFO - EDB is closed.\n"
     ]
    },
    {
     "data": {
      "text/plain": [
       "True"
      ]
     },
     "execution_count": 10,
     "metadata": {},
     "output_type": "execute_result"
    }
   ],
   "source": [
    "toolkit.close_edb()"
   ]
  },
  {
   "cell_type": "markdown",
   "id": "c893aad7",
   "metadata": {},
   "source": [
    "## Remove temporary folder\n",
    "\n",
    "Remove the temporary folder."
   ]
  },
  {
   "cell_type": "code",
   "execution_count": 11,
   "id": "f899d21c",
   "metadata": {
    "execution": {
     "iopub.execute_input": "2024-03-12T08:07:45.412889Z",
     "iopub.status.busy": "2024-03-12T08:07:45.412889Z",
     "iopub.status.idle": "2024-03-12T08:07:45.428487Z",
     "shell.execute_reply": "2024-03-12T08:07:45.428487Z"
    }
   },
   "outputs": [],
   "source": [
    "shutil.rmtree(temp_folder, ignore_errors=True)"
   ]
  }
 ],
 "metadata": {
  "jupytext": {
   "cell_metadata_filter": "-all",
   "main_language": "python",
   "notebook_metadata_filter": "-all",
   "text_representation": {
    "extension": ".py",
    "format_name": "light"
   }
  },
  "language_info": {
   "codemirror_mode": {
    "name": "ipython",
    "version": 3
   },
   "file_extension": ".py",
   "mimetype": "text/x-python",
   "name": "python",
   "nbconvert_exporter": "python",
   "pygments_lexer": "ipython3",
   "version": "3.10.11"
  }
 },
 "nbformat": 4,
 "nbformat_minor": 5
}
