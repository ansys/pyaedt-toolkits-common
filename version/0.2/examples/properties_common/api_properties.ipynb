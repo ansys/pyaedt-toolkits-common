{
 "cells": [
  {
   "cell_type": "markdown",
   "id": "149d002a",
   "metadata": {},
   "source": [
    "# Properties example\n",
    "\n",
    "This example shows how to use the ``Common`` class, which contains properties models.\n",
    "These properties provide for sharing information through all the workflow."
   ]
  },
  {
   "cell_type": "markdown",
   "id": "59701671",
   "metadata": {},
   "source": [
    "## Add new properties\n",
    "\n",
    "Before importing the common module, you can add new properties.\n",
    "First create a file that contains the new properties type, [Models](models.py).\n",
    "Then add a [JSON file](backend_properties.json) that sets the needed default values.\n",
    "Finally, import the properties."
   ]
  },
  {
   "cell_type": "code",
   "execution_count": 1,
   "id": "ea6d7b44",
   "metadata": {
    "execution": {
     "iopub.execute_input": "2024-03-12T08:07:51.259188Z",
     "iopub.status.busy": "2024-03-12T08:07:51.259188Z",
     "iopub.status.idle": "2024-03-12T08:07:51.478063Z",
     "shell.execute_reply": "2024-03-12T08:07:51.478063Z"
    }
   },
   "outputs": [],
   "source": [
    "from models import properties"
   ]
  },
  {
   "cell_type": "markdown",
   "id": "0b44aca8",
   "metadata": {},
   "source": [
    "## Perform required imports\n",
    "\n",
    "Perform the required imports."
   ]
  },
  {
   "cell_type": "code",
   "execution_count": 2,
   "id": "e2c5f05d",
   "metadata": {
    "execution": {
     "iopub.execute_input": "2024-03-12T08:07:51.478063Z",
     "iopub.status.busy": "2024-03-12T08:07:51.478063Z",
     "iopub.status.idle": "2024-03-12T08:07:51.524882Z",
     "shell.execute_reply": "2024-03-12T08:07:51.524882Z"
    }
   },
   "outputs": [],
   "source": [
    "import sys\n",
    "from ansys.aedt.toolkits.common.backend.api import Common"
   ]
  },
  {
   "cell_type": "markdown",
   "id": "7091cd25",
   "metadata": {},
   "source": [
    "## Initialize toolkit\n",
    "\n",
    "Initialize the toolkit with the new properties."
   ]
  },
  {
   "cell_type": "code",
   "execution_count": 3,
   "id": "601b54ce",
   "metadata": {
    "execution": {
     "iopub.execute_input": "2024-03-12T08:07:51.524882Z",
     "iopub.status.busy": "2024-03-12T08:07:51.524882Z",
     "iopub.status.idle": "2024-03-12T08:07:51.540495Z",
     "shell.execute_reply": "2024-03-12T08:07:51.540495Z"
    }
   },
   "outputs": [],
   "source": [
    "toolkit = Common(properties)"
   ]
  },
  {
   "cell_type": "markdown",
   "id": "783f7d40",
   "metadata": {},
   "source": [
    "## Get properties\n",
    "\n",
    "Get the properties."
   ]
  },
  {
   "cell_type": "code",
   "execution_count": 4,
   "id": "26ec84a2",
   "metadata": {
    "execution": {
     "iopub.execute_input": "2024-03-12T08:07:51.540495Z",
     "iopub.status.busy": "2024-03-12T08:07:51.540495Z",
     "iopub.status.idle": "2024-03-12T08:07:51.556068Z",
     "shell.execute_reply": "2024-03-12T08:07:51.556068Z"
    }
   },
   "outputs": [
    {
     "data": {
      "text/plain": [
       "{'aedt_version': '2024.1',\n",
       " 'non_graphical': False,\n",
       " 'active_project': '',\n",
       " 'active_design': '',\n",
       " 'project_list': [],\n",
       " 'design_list': {},\n",
       " 'selected_process': 0,\n",
       " 'use_grpc': True,\n",
       " 'is_toolkit_busy': False,\n",
       " 'url': '127.0.0.1',\n",
       " 'port': 5001,\n",
       " 'debug': True,\n",
       " 'toolkit_name': 'common',\n",
       " 'log_file': 'example_backend.log',\n",
       " 'invented_property': [10],\n",
       " 'test': 'hola'}"
      ]
     },
     "execution_count": 4,
     "metadata": {},
     "output_type": "execute_result"
    }
   ],
   "source": [
    "toolkit.get_properties()"
   ]
  },
  {
   "cell_type": "markdown",
   "id": "1e4ef857",
   "metadata": {},
   "source": [
    "## Set property\n",
    "\n",
    "Use ``set_properties`` to set the new property."
   ]
  },
  {
   "cell_type": "code",
   "execution_count": 5,
   "id": "ccfdebdf",
   "metadata": {
    "execution": {
     "iopub.execute_input": "2024-03-12T08:07:51.556068Z",
     "iopub.status.busy": "2024-03-12T08:07:51.556068Z",
     "iopub.status.idle": "2024-03-12T08:07:51.571695Z",
     "shell.execute_reply": "2024-03-12T08:07:51.571695Z"
    }
   },
   "outputs": [
    {
     "name": "stderr",
     "output_type": "stream",
     "text": [
      "INFO - Updating internal properties.\n"
     ]
    },
    {
     "name": "stderr",
     "output_type": "stream",
     "text": [
      "DEBUG - Updating 'invented_property' with value [1, 2, 3]\n"
     ]
    },
    {
     "name": "stderr",
     "output_type": "stream",
     "text": [
      "DEBUG - Properties were updated successfully.\n"
     ]
    },
    {
     "data": {
      "text/plain": [
       "{'aedt_version': '2024.1',\n",
       " 'non_graphical': False,\n",
       " 'active_project': '',\n",
       " 'active_design': '',\n",
       " 'project_list': [],\n",
       " 'design_list': {},\n",
       " 'selected_process': 0,\n",
       " 'use_grpc': True,\n",
       " 'is_toolkit_busy': False,\n",
       " 'url': '127.0.0.1',\n",
       " 'port': 5001,\n",
       " 'debug': True,\n",
       " 'toolkit_name': 'common',\n",
       " 'log_file': 'example_backend.log',\n",
       " 'invented_property': [1, 2, 3],\n",
       " 'test': 'hola'}"
      ]
     },
     "execution_count": 5,
     "metadata": {},
     "output_type": "execute_result"
    }
   ],
   "source": [
    "set_properties = {\"invented_property\": [1, 2, 3]}\n",
    "toolkit.set_properties(set_properties)\n",
    "toolkit.get_properties()"
   ]
  },
  {
   "cell_type": "markdown",
   "id": "d7b0205e",
   "metadata": {},
   "source": [
    "## Set property directly\n",
    "\n",
    "Set the property directly."
   ]
  },
  {
   "cell_type": "code",
   "execution_count": 6,
   "id": "4d96dcdd",
   "metadata": {
    "execution": {
     "iopub.execute_input": "2024-03-12T08:07:51.571695Z",
     "iopub.status.busy": "2024-03-12T08:07:51.571695Z",
     "iopub.status.idle": "2024-03-12T08:07:51.587371Z",
     "shell.execute_reply": "2024-03-12T08:07:51.587371Z"
    }
   },
   "outputs": [
    {
     "data": {
      "text/plain": [
       "{'aedt_version': '2024.1',\n",
       " 'non_graphical': False,\n",
       " 'active_project': '',\n",
       " 'active_design': '',\n",
       " 'project_list': [],\n",
       " 'design_list': {},\n",
       " 'selected_process': 0,\n",
       " 'use_grpc': True,\n",
       " 'is_toolkit_busy': False,\n",
       " 'url': '127.0.0.1',\n",
       " 'port': 5001,\n",
       " 'debug': True,\n",
       " 'toolkit_name': 'common',\n",
       " 'log_file': 'example_backend.log',\n",
       " 'invented_property': [10, 20, 30],\n",
       " 'test': 'hola'}"
      ]
     },
     "execution_count": 6,
     "metadata": {},
     "output_type": "execute_result"
    }
   ],
   "source": [
    "properties.invented_property = [10, 20, 30]\n",
    "toolkit.get_properties()"
   ]
  },
  {
   "cell_type": "markdown",
   "id": "678c905f",
   "metadata": {},
   "source": [
    "## Set wrong property\n",
    "\n",
    "Set the wrong property. It is not possible to change the property type."
   ]
  },
  {
   "cell_type": "code",
   "execution_count": 7,
   "id": "6ea7b5dc",
   "metadata": {
    "execution": {
     "iopub.execute_input": "2024-03-12T08:07:51.587371Z",
     "iopub.status.busy": "2024-03-12T08:07:51.587371Z",
     "iopub.status.idle": "2024-03-12T08:07:51.603004Z",
     "shell.execute_reply": "2024-03-12T08:07:51.603004Z"
    }
   },
   "outputs": [
    {
     "name": "stderr",
     "output_type": "stream",
     "text": [
      "INFO - Updating internal properties.\n"
     ]
    },
    {
     "name": "stderr",
     "output_type": "stream",
     "text": [
      "DEBUG - Updating 'invented_property' with value 1\n"
     ]
    },
    {
     "name": "stderr",
     "output_type": "stream",
     "text": [
      "ERROR - Error occurred during validation of properties field.\n"
     ]
    },
    {
     "name": "stderr",
     "output_type": "stream",
     "text": [
      "ERROR - key invented_property with value 1\n"
     ]
    },
    {
     "data": {
      "text/plain": [
       "(False, 'Error occurred during validation of properties field.')"
      ]
     },
     "execution_count": 7,
     "metadata": {},
     "output_type": "execute_result"
    }
   ],
   "source": [
    "set_properties = {\"invented_property\": 1}\n",
    "toolkit.set_properties(set_properties)"
   ]
  }
 ],
 "metadata": {
  "jupytext": {
   "cell_metadata_filter": "-all",
   "main_language": "python",
   "notebook_metadata_filter": "-all",
   "text_representation": {
    "extension": ".py",
    "format_name": "light"
   }
  },
  "language_info": {
   "codemirror_mode": {
    "name": "ipython",
    "version": 3
   },
   "file_extension": ".py",
   "mimetype": "text/x-python",
   "name": "python",
   "nbconvert_exporter": "python",
   "pygments_lexer": "ipython3",
   "version": "3.10.11"
  }
 },
 "nbformat": 4,
 "nbformat_minor": 5
}
