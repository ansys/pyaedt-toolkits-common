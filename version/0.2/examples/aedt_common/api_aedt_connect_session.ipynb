{
 "cells": [
  {
   "cell_type": "markdown",
   "id": "60716455",
   "metadata": {},
   "source": [
    "# AEDT connect session example\n",
    "\n",
    "This example shows how to use the Common AEDT API to\n",
    "connect to an existing  AEDT session,\n",
    "create a HFSS design and create a waveguide."
   ]
  },
  {
   "cell_type": "markdown",
   "id": "8f2d7bfe",
   "metadata": {},
   "source": [
    "## Perform required imports\n",
    "\n",
    "Perform the required imports."
   ]
  },
  {
   "cell_type": "code",
   "execution_count": 1,
   "id": "5db56790",
   "metadata": {
    "execution": {
     "iopub.execute_input": "2024-03-12T08:04:42.528056Z",
     "iopub.status.busy": "2024-03-12T08:04:42.528056Z",
     "iopub.status.idle": "2024-03-12T08:04:42.762426Z",
     "shell.execute_reply": "2024-03-12T08:04:42.762426Z"
    },
    "lines_to_next_cell": 2
   },
   "outputs": [],
   "source": [
    "import sys\n",
    "from ansys.aedt.toolkits.common.backend.api import AEDTCommon\n",
    "import pyaedt"
   ]
  },
  {
   "cell_type": "markdown",
   "id": "de66cafe",
   "metadata": {},
   "source": [
    "## Initialize toolkit\n",
    "\n",
    "Initialize the toolkit."
   ]
  },
  {
   "cell_type": "code",
   "execution_count": 2,
   "id": "78f47f14",
   "metadata": {
    "execution": {
     "iopub.execute_input": "2024-03-12T08:04:42.762426Z",
     "iopub.status.busy": "2024-03-12T08:04:42.762426Z",
     "iopub.status.idle": "2024-03-12T08:04:42.778052Z",
     "shell.execute_reply": "2024-03-12T08:04:42.778052Z"
    }
   },
   "outputs": [],
   "source": [
    "toolkit = AEDTCommon()"
   ]
  },
  {
   "cell_type": "markdown",
   "id": "d20bf32d",
   "metadata": {},
   "source": [
    "## Get toolkit properties\n",
    "\n",
    "Get the toolkit properties, which contain the project information."
   ]
  },
  {
   "cell_type": "code",
   "execution_count": 3,
   "id": "bf4d0912",
   "metadata": {
    "execution": {
     "iopub.execute_input": "2024-03-12T08:04:42.778052Z",
     "iopub.status.busy": "2024-03-12T08:04:42.778052Z",
     "iopub.status.idle": "2024-03-12T08:04:42.793726Z",
     "shell.execute_reply": "2024-03-12T08:04:42.793726Z"
    }
   },
   "outputs": [],
   "source": [
    "properties_from_backend = toolkit.get_properties()"
   ]
  },
  {
   "cell_type": "code",
   "execution_count": 4,
   "id": "0c46e74a",
   "metadata": {
    "execution": {
     "iopub.execute_input": "2024-03-12T08:04:42.793726Z",
     "iopub.status.busy": "2024-03-12T08:04:42.793726Z",
     "iopub.status.idle": "2024-03-12T08:04:48.065472Z",
     "shell.execute_reply": "2024-03-12T08:04:48.065472Z"
    }
   },
   "outputs": [
    {
     "name": "stdout",
     "output_type": "stream",
     "text": [
      "Initializing new desktop!\n"
     ]
    },
    {
     "data": {
      "text/plain": [
       "True"
      ]
     },
     "execution_count": 4,
     "metadata": {},
     "output_type": "execute_result"
    }
   ],
   "source": [
    "# ## Initialize AEDT\n",
    "#\n",
    "# Initialize AEDT using PyAEDT and then release it.\n",
    "pyaedt.settings.enable_logger = False\n",
    "app = pyaedt.Desktop(specified_version=properties_from_backend[\"aedt_version\"],\n",
    "                     non_graphical=properties_from_backend[\"non_graphical\"])\n",
    "app.release_desktop(close_projects=False, close_on_exit=False)"
   ]
  },
  {
   "cell_type": "markdown",
   "id": "40f3730c",
   "metadata": {},
   "source": [
    "## Get AEDT sessions\n",
    "\n",
    "Get AEDT sessions and select the first one."
   ]
  },
  {
   "cell_type": "code",
   "execution_count": 5,
   "id": "57ef63b6",
   "metadata": {
    "execution": {
     "iopub.execute_input": "2024-03-12T08:04:48.065472Z",
     "iopub.status.busy": "2024-03-12T08:04:48.065472Z",
     "iopub.status.idle": "2024-03-12T08:04:48.096725Z",
     "shell.execute_reply": "2024-03-12T08:04:48.096725Z"
    }
   },
   "outputs": [
    {
     "name": "stderr",
     "output_type": "stream",
     "text": [
      "DEBUG - Active AEDT sessions: {5100: 62003}.\n"
     ]
    }
   ],
   "source": [
    "sessions = toolkit.aedt_sessions()\n",
    "first_key, first_value = next(iter(sessions.items()))\n",
    "if first_value == -1:\n",
    "    use_grpc = False\n",
    "    selected_process = first_key\n",
    "else:\n",
    "    use_grpc = True\n",
    "    selected_process = first_value"
   ]
  },
  {
   "cell_type": "markdown",
   "id": "e8bd5876",
   "metadata": {},
   "source": [
    "## Set properties\n",
    "\n",
    "Specify the AEDT session selection."
   ]
  },
  {
   "cell_type": "code",
   "execution_count": 6,
   "id": "32c9346b",
   "metadata": {
    "execution": {
     "iopub.execute_input": "2024-03-12T08:04:48.096725Z",
     "iopub.status.busy": "2024-03-12T08:04:48.096725Z",
     "iopub.status.idle": "2024-03-12T08:04:48.112376Z",
     "shell.execute_reply": "2024-03-12T08:04:48.112376Z"
    }
   },
   "outputs": [
    {
     "name": "stderr",
     "output_type": "stream",
     "text": [
      "INFO - Updating internal properties.\n"
     ]
    },
    {
     "name": "stderr",
     "output_type": "stream",
     "text": [
      "DEBUG - Updating 'selected_process' with value 62003\n"
     ]
    },
    {
     "name": "stderr",
     "output_type": "stream",
     "text": [
      "DEBUG - Updating 'use_grpc' with value True\n"
     ]
    },
    {
     "name": "stderr",
     "output_type": "stream",
     "text": [
      "DEBUG - Properties were updated successfully.\n"
     ]
    }
   ],
   "source": [
    "new_properties = {\"selected_process\": selected_process, \"use_grpc\": use_grpc}\n",
    "flag, msg = toolkit.set_properties(new_properties)"
   ]
  },
  {
   "cell_type": "markdown",
   "id": "32af7886",
   "metadata": {},
   "source": [
    "## Initialize AEDT\n",
    "\n",
    "Launch a new AEDT session in a thread."
   ]
  },
  {
   "cell_type": "code",
   "execution_count": 7,
   "id": "ef5c15ee",
   "metadata": {
    "execution": {
     "iopub.execute_input": "2024-03-12T08:04:48.112376Z",
     "iopub.status.busy": "2024-03-12T08:04:48.112376Z",
     "iopub.status.idle": "2024-03-12T08:04:48.127922Z",
     "shell.execute_reply": "2024-03-12T08:04:48.127922Z"
    }
   },
   "outputs": [
    {
     "name": "stderr",
     "output_type": "stream",
     "text": [
      "DEBUG - Starting thread: Toolkit_Thread\n"
     ]
    },
    {
     "name": "stderr",
     "output_type": "stream",
     "text": [
      "DEBUG - Toolkit is not connected to AEDT.\n"
     ]
    },
    {
     "name": "stderr",
     "output_type": "stream",
     "text": [
      "DEBUG - Launching AEDT.\n"
     ]
    },
    {
     "name": "stdout",
     "output_type": "stream",
     "text": [
      "Initializing new desktop!\n",
      "PyAEDT INFO: StdOut is enabled\n"
     ]
    },
    {
     "name": "stdout",
     "output_type": "stream",
     "text": [
      "PyAEDT INFO: Log on file is enabled\n"
     ]
    },
    {
     "name": "stdout",
     "output_type": "stream",
     "text": [
      "PyAEDT INFO: Log on Desktop Message Manager is disabled\n"
     ]
    }
   ],
   "source": [
    "thread_msg = toolkit.launch_thread(toolkit.launch_aedt)"
   ]
  },
  {
   "cell_type": "markdown",
   "id": "de564bcb",
   "metadata": {},
   "source": [
    "## Wait for the toolkit thread to be idle\n",
    "\n",
    "Wait for the toolkit thread to be idle and ready to accept a new task."
   ]
  },
  {
   "cell_type": "code",
   "execution_count": 8,
   "id": "3135e079",
   "metadata": {
    "execution": {
     "iopub.execute_input": "2024-03-12T08:04:48.127922Z",
     "iopub.status.busy": "2024-03-12T08:04:48.127922Z",
     "iopub.status.idle": "2024-03-12T08:04:49.144802Z",
     "shell.execute_reply": "2024-03-12T08:04:49.144802Z"
    }
   },
   "outputs": [
    {
     "name": "stderr",
     "output_type": "stream",
     "text": [
      "DEBUG - Toolkit is idle and ready to accept a new task.\n"
     ]
    }
   ],
   "source": [
    "idle = toolkit.wait_to_be_idle()\n",
    "if not idle:\n",
    "    print(\"AEDT not initialized.\")\n",
    "    sys.exit()"
   ]
  },
  {
   "cell_type": "markdown",
   "id": "faee1597",
   "metadata": {},
   "source": [
    "## Connect design\n",
    "\n",
    "Connect or create a new design."
   ]
  },
  {
   "cell_type": "code",
   "execution_count": 9,
   "id": "49a78f44",
   "metadata": {
    "execution": {
     "iopub.execute_input": "2024-03-12T08:04:49.144802Z",
     "iopub.status.busy": "2024-03-12T08:04:49.144802Z",
     "iopub.status.idle": "2024-03-12T08:05:21.674768Z",
     "shell.execute_reply": "2024-03-12T08:05:21.674768Z"
    }
   },
   "outputs": [
    {
     "name": "stderr",
     "output_type": "stream",
     "text": [
      "DEBUG - Toolkit is not connected to AEDT.\n"
     ]
    },
    {
     "name": "stderr",
     "output_type": "stream",
     "text": [
      "DEBUG - Connecting AEDT.\n"
     ]
    },
    {
     "name": "stdout",
     "output_type": "stream",
     "text": [
      "Initializing new desktop!\n",
      "PyAEDT INFO: StdOut is enabled\n"
     ]
    },
    {
     "name": "stdout",
     "output_type": "stream",
     "text": [
      "PyAEDT INFO: Log on file is enabled\n"
     ]
    },
    {
     "name": "stdout",
     "output_type": "stream",
     "text": [
      "PyAEDT INFO: Log on Desktop Message Manager is disabled\n"
     ]
    },
    {
     "name": "stdout",
     "output_type": "stream",
     "text": [
      "PyAEDT INFO: Debug logger is disabled. PyAEDT methods will not be logged.\n"
     ]
    },
    {
     "name": "stdout",
     "output_type": "stream",
     "text": [
      "PyAEDT INFO: Launching PyAEDT outside AEDT with gRPC plugin.\n"
     ]
    },
    {
     "name": "stdout",
     "output_type": "stream",
     "text": [
      "PyAEDT INFO: Launching AEDT using the gRPC plugin.\n"
     ]
    },
    {
     "name": "stdout",
     "output_type": "stream",
     "text": [
      "PyAEDT INFO: Connecting to AEDT session on gRPC port 62003\n"
     ]
    },
    {
     "name": "stdout",
     "output_type": "stream",
     "text": [
      "PyAEDT INFO: AEDT installation Path C:\\Program Files\\AnsysEM\\v241\\Win64\n"
     ]
    },
    {
     "name": "stdout",
     "output_type": "stream",
     "text": [
      "PyAEDT INFO: pyaedt v0.8.2\n"
     ]
    },
    {
     "name": "stdout",
     "output_type": "stream",
     "text": [
      "PyAEDT INFO: Python version 3.10.11 (tags/v3.10.11:7d4cc5a, Apr  5 2023, 00:38:17) [MSC v.1929 64 bit (AMD64)]\n"
     ]
    },
    {
     "name": "stdout",
     "output_type": "stream",
     "text": [
      "PyAEDT INFO: AEDT 2024.1.0 Build Date 2023-11-27 22:16:18\n"
     ]
    },
    {
     "name": "stderr",
     "output_type": "stream",
     "text": [
      "DEBUG - Toolkit is connected to AEDT.\n"
     ]
    },
    {
     "name": "stdout",
     "output_type": "stream",
     "text": [
      "Returning found desktop with PID 5100!\n",
      "PyAEDT INFO: Project Project265 has been created.\n"
     ]
    },
    {
     "name": "stdout",
     "output_type": "stream",
     "text": [
      "PyAEDT INFO: Added design 'HFSS_IRDGZG' of type HFSS.\n"
     ]
    },
    {
     "name": "stdout",
     "output_type": "stream",
     "text": [
      "PyAEDT INFO: Aedt Objects correctly read\n"
     ]
    },
    {
     "name": "stdout",
     "output_type": "stream",
     "text": [
      "PyAEDT INFO: Project Project265 Saved correctly\n"
     ]
    },
    {
     "name": "stderr",
     "output_type": "stream",
     "text": [
      "DEBUG - Project name: Project265\n"
     ]
    },
    {
     "name": "stderr",
     "output_type": "stream",
     "text": [
      "INFO - Updating internal properties.\n"
     ]
    },
    {
     "name": "stderr",
     "output_type": "stream",
     "text": [
      "DEBUG - Updating 'project_list' with value ['C:/Users/ansys/Documents/Ansoft/Project265.aedt']\n"
     ]
    },
    {
     "name": "stderr",
     "output_type": "stream",
     "text": [
      "DEBUG - Updating 'active_design' with value HFSS_IRDGZG\n"
     ]
    },
    {
     "name": "stderr",
     "output_type": "stream",
     "text": [
      "DEBUG - Updating 'active_project' with value C:/Users/ansys/Documents/Ansoft/Project265.aedt\n"
     ]
    },
    {
     "name": "stderr",
     "output_type": "stream",
     "text": [
      "DEBUG - Updating 'design_list' with value {'Project265': ['HFSS_IRDGZG']}\n"
     ]
    },
    {
     "name": "stderr",
     "output_type": "stream",
     "text": [
      "DEBUG - Properties were updated successfully.\n"
     ]
    },
    {
     "name": "stderr",
     "output_type": "stream",
     "text": [
      "INFO - Toolkit is connected to AEDT design.\n"
     ]
    },
    {
     "data": {
      "text/plain": [
       "True"
      ]
     },
     "execution_count": 9,
     "metadata": {},
     "output_type": "execute_result"
    }
   ],
   "source": [
    "toolkit.connect_design(\"HFSS\")"
   ]
  },
  {
   "cell_type": "markdown",
   "id": "2a6e5b29",
   "metadata": {},
   "source": [
    "## Get toolkit properties\n",
    "\n",
    "Get the toolkit properties, which contain the project information."
   ]
  },
  {
   "cell_type": "code",
   "execution_count": 10,
   "id": "c71df60a",
   "metadata": {
    "execution": {
     "iopub.execute_input": "2024-03-12T08:05:21.674768Z",
     "iopub.status.busy": "2024-03-12T08:05:21.674768Z",
     "iopub.status.idle": "2024-03-12T08:05:21.690396Z",
     "shell.execute_reply": "2024-03-12T08:05:21.690396Z"
    }
   },
   "outputs": [],
   "source": [
    "new_properties = toolkit.get_properties()"
   ]
  },
  {
   "cell_type": "markdown",
   "id": "6b5d9b4c",
   "metadata": {},
   "source": [
    "## Create a waveguide\n",
    "\n",
    "Create a waveguide in the design."
   ]
  },
  {
   "cell_type": "code",
   "execution_count": 11,
   "id": "9b4cdbef",
   "metadata": {
    "execution": {
     "iopub.execute_input": "2024-03-12T08:05:21.690396Z",
     "iopub.status.busy": "2024-03-12T08:05:21.690396Z",
     "iopub.status.idle": "2024-03-12T08:05:30.944149Z",
     "shell.execute_reply": "2024-03-12T08:05:30.944149Z"
    }
   },
   "outputs": [
    {
     "name": "stdout",
     "output_type": "stream",
     "text": [
      "PyAEDT INFO: aedt file load time 0.0\n"
     ]
    },
    {
     "name": "stdout",
     "output_type": "stream",
     "text": [
      "PyAEDT INFO: Modeler class has been initialized! Elapsed time: 0m 0sec\n"
     ]
    },
    {
     "name": "stdout",
     "output_type": "stream",
     "text": [
      "PyAEDT INFO: Materials class has been initialized! Elapsed time: 0m 0sec\n"
     ]
    },
    {
     "name": "stdout",
     "output_type": "stream",
     "text": [
      "PyAEDT INFO: PostProcessor class has been initialized! Elapsed time: 0m 0sec\n"
     ]
    },
    {
     "name": "stdout",
     "output_type": "stream",
     "text": [
      "PyAEDT INFO: Post class has been initialized! Elapsed time: 0m 0sec\n"
     ]
    },
    {
     "name": "stderr",
     "output_type": "stream",
     "text": [
      "C:\\Users\\Public\\actions-runner\\_work\\pyaedt-toolkits-common\\pyaedt-toolkits-common\\.venv\\lib\\site-packages\\pyvista\\jupyter\\notebook.py:34: UserWarning: Failed to use notebook backend: \n",
      "\n",
      "No module named 'trame'\n",
      "\n",
      "Falling back to a static output.\n",
      "  warnings.warn(\n"
     ]
    },
    {
     "data": {
      "image/jpeg": "[encoded data removed]",
      "image/png": "[encoded data removed]",
      "text/plain": [
       "<PIL.Image.Image image mode=RGB size=600x600>"
      ]
     },
     "metadata": {},
     "output_type": "display_data"
    },
    {
     "data": {
      "text/plain": [
       "<pyaedt.generic.plot.ModelPlotter at 0x1d1f0dd8970>"
      ]
     },
     "execution_count": 11,
     "metadata": {},
     "output_type": "execute_result"
    }
   ],
   "source": [
    "wg = toolkit.aedtapp.modeler.create_waveguide([0, 0, 0], 1)\n",
    "toolkit.aedtapp.plot()"
   ]
  },
  {
   "cell_type": "markdown",
   "id": "c77cf864",
   "metadata": {},
   "source": [
    "## Save and release AEDT\n",
    "\n",
    "Save and release AEDT."
   ]
  },
  {
   "cell_type": "code",
   "execution_count": 12,
   "id": "4cb013d7",
   "metadata": {
    "execution": {
     "iopub.execute_input": "2024-03-12T08:05:30.944149Z",
     "iopub.status.busy": "2024-03-12T08:05:30.944149Z",
     "iopub.status.idle": "2024-03-12T08:05:34.619713Z",
     "shell.execute_reply": "2024-03-12T08:05:34.619713Z"
    }
   },
   "outputs": [
    {
     "name": "stdout",
     "output_type": "stream",
     "text": [
      "PyAEDT INFO: Desktop has been released\n"
     ]
    },
    {
     "name": "stderr",
     "output_type": "stream",
     "text": [
      "INFO - AEDT is released.\n"
     ]
    },
    {
     "data": {
      "text/plain": [
       "True"
      ]
     },
     "execution_count": 12,
     "metadata": {},
     "output_type": "execute_result"
    }
   ],
   "source": [
    "toolkit.release_aedt(True, True)"
   ]
  }
 ],
 "metadata": {
  "jupytext": {
   "cell_metadata_filter": "-all",
   "main_language": "python",
   "notebook_metadata_filter": "-all",
   "text_representation": {
    "extension": ".py",
    "format_name": "light"
   }
  },
  "language_info": {
   "codemirror_mode": {
    "name": "ipython",
    "version": 3
   },
   "file_extension": ".py",
   "mimetype": "text/x-python",
   "name": "python",
   "nbconvert_exporter": "python",
   "pygments_lexer": "ipython3",
   "version": "3.10.11"
  }
 },
 "nbformat": 4,
 "nbformat_minor": 5
}
