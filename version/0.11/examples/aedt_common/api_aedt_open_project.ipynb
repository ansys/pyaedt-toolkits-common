{
 "cells": [
  {
   "cell_type": "markdown",
   "id": "4a8567bf",
   "metadata": {},
   "source": [
    "# AEDT open project example\n",
    "\n",
    "This example shows how to use the ``AEDTCommon`` class to\n",
    "launch a new AEDT session in a thread and\n",
    "open an existing AEDT project."
   ]
  },
  {
   "cell_type": "markdown",
   "id": "7e573dbb",
   "metadata": {},
   "source": [
    "## Perform required imports\n",
    "\n",
    "Perform the required imports."
   ]
  },
  {
   "cell_type": "code",
   "execution_count": 1,
   "id": "b9aa4dba",
   "metadata": {
    "execution": {
     "iopub.execute_input": "2025-04-24T10:34:57.753539Z",
     "iopub.status.busy": "2025-04-24T10:34:57.753539Z",
     "iopub.status.idle": "2025-04-24T10:34:57.784793Z",
     "shell.execute_reply": "2025-04-24T10:34:57.784793Z"
    }
   },
   "outputs": [],
   "source": [
    "import sys\n",
    "import os\n",
    "import shutil"
   ]
  },
  {
   "cell_type": "code",
   "execution_count": 2,
   "id": "546dd625",
   "metadata": {
    "execution": {
     "iopub.execute_input": "2025-04-24T10:34:57.784793Z",
     "iopub.status.busy": "2025-04-24T10:34:57.784793Z",
     "iopub.status.idle": "2025-04-24T10:34:58.550427Z",
     "shell.execute_reply": "2025-04-24T10:34:58.550427Z"
    }
   },
   "outputs": [],
   "source": [
    "from ansys.aedt.core import generate_unique_folder_name"
   ]
  },
  {
   "cell_type": "code",
   "execution_count": 3,
   "id": "969b0186",
   "metadata": {
    "execution": {
     "iopub.execute_input": "2025-04-24T10:34:58.550427Z",
     "iopub.status.busy": "2025-04-24T10:34:58.550427Z",
     "iopub.status.idle": "2025-04-24T10:34:58.956686Z",
     "shell.execute_reply": "2025-04-24T10:34:58.956686Z"
    }
   },
   "outputs": [],
   "source": [
    "from ansys.aedt.toolkits.common.utils import download_file\n",
    "from ansys.aedt.toolkits.common.backend.api import AEDTCommon"
   ]
  },
  {
   "cell_type": "markdown",
   "id": "a7d1b4c1",
   "metadata": {},
   "source": [
    "## Initialize temporary folder and project settings\n",
    "\n",
    "Initialize a temporary folder to copy the input file into\n",
    "and specify project settings."
   ]
  },
  {
   "cell_type": "code",
   "execution_count": 4,
   "id": "47ec5c74",
   "metadata": {
    "execution": {
     "iopub.execute_input": "2025-04-24T10:34:58.956686Z",
     "iopub.status.busy": "2025-04-24T10:34:58.956686Z",
     "iopub.status.idle": "2025-04-24T10:34:59.191078Z",
     "shell.execute_reply": "2025-04-24T10:34:59.191078Z"
    }
   },
   "outputs": [
    {
     "data": {
      "text/plain": [
       "'C:\\\\Users\\\\ansys\\\\AppData\\\\Local\\\\Temp\\\\pyaedt_prj_438\\\\Test.aedt'"
      ]
     },
     "execution_count": 4,
     "metadata": {},
     "output_type": "execute_result"
    }
   ],
   "source": [
    "URL_BASE = \"https://raw.githubusercontent.com/ansys/example-data/master/toolkits/common/\"\n",
    "AEDT_PROJECT = \"Test.aedt\"\n",
    "URL = os.path.join(URL_BASE, AEDT_PROJECT)\n",
    "\n",
    "temp_folder = os.path.join(generate_unique_folder_name())\n",
    "\n",
    "local_project = os.path.join(temp_folder, AEDT_PROJECT)\n",
    "\n",
    "download_file(URL, local_project)"
   ]
  },
  {
   "cell_type": "markdown",
   "id": "f9a7e7ee",
   "metadata": {},
   "source": [
    "## Initialize toolkit\n",
    "\n",
    "Initialize the toolkit."
   ]
  },
  {
   "cell_type": "code",
   "execution_count": 5,
   "id": "4846a813",
   "metadata": {
    "execution": {
     "iopub.execute_input": "2025-04-24T10:34:59.191078Z",
     "iopub.status.busy": "2025-04-24T10:34:59.191078Z",
     "iopub.status.idle": "2025-04-24T10:34:59.206695Z",
     "shell.execute_reply": "2025-04-24T10:34:59.206695Z"
    }
   },
   "outputs": [],
   "source": [
    "toolkit = AEDTCommon()"
   ]
  },
  {
   "cell_type": "markdown",
   "id": "809a62e8",
   "metadata": {},
   "source": [
    "## Initialize AEDT\n",
    "\n",
    "Launch a new AEDT session in a thread."
   ]
  },
  {
   "cell_type": "code",
   "execution_count": 6,
   "id": "c63e3761",
   "metadata": {
    "execution": {
     "iopub.execute_input": "2025-04-24T10:34:59.206695Z",
     "iopub.status.busy": "2025-04-24T10:34:59.206695Z",
     "iopub.status.idle": "2025-04-24T10:34:59.237878Z",
     "shell.execute_reply": "2025-04-24T10:34:59.237878Z"
    }
   },
   "outputs": [],
   "source": [
    "thread_msg = toolkit.launch_thread(toolkit.launch_aedt)"
   ]
  },
  {
   "cell_type": "markdown",
   "id": "df102b4d",
   "metadata": {},
   "source": [
    "## Wait for the toolkit thread to be idle\n",
    "\n",
    "Wait for the toolkit thread to be idle and ready to accept a new task."
   ]
  },
  {
   "cell_type": "code",
   "execution_count": 7,
   "id": "9a2a4ee3",
   "metadata": {
    "execution": {
     "iopub.execute_input": "2025-04-24T10:34:59.253503Z",
     "iopub.status.busy": "2025-04-24T10:34:59.253503Z",
     "iopub.status.idle": "2025-04-24T10:35:06.311497Z",
     "shell.execute_reply": "2025-04-24T10:35:06.311497Z"
    }
   },
   "outputs": [],
   "source": [
    "idle = toolkit.wait_to_be_idle()\n",
    "if not idle:\n",
    "    print(\"AEDT not initialized.\")\n",
    "    sys.exit()"
   ]
  },
  {
   "cell_type": "markdown",
   "id": "719dbcc5",
   "metadata": {},
   "source": [
    "## Open project\n",
    "\n",
    "Open the project."
   ]
  },
  {
   "cell_type": "code",
   "execution_count": 8,
   "id": "3abf3fa7",
   "metadata": {
    "execution": {
     "iopub.execute_input": "2025-04-24T10:35:06.311497Z",
     "iopub.status.busy": "2025-04-24T10:35:06.311497Z",
     "iopub.status.idle": "2025-04-24T10:35:07.723048Z",
     "shell.execute_reply": "2025-04-24T10:35:07.721012Z"
    }
   },
   "outputs": [
    {
     "name": "stdout",
     "output_type": "stream",
     "text": [
      "PyAEDT ERROR: **************************************************************\n"
     ]
    },
    {
     "name": "stdout",
     "output_type": "stream",
     "text": [
      "PyAEDT ERROR:   File \"C:\\Python\\Python310\\Lib\\runpy.py\", line 196, in _run_module_as_main\n"
     ]
    },
    {
     "name": "stdout",
     "output_type": "stream",
     "text": [
      "PyAEDT ERROR:     return _run_code(code, main_globals, None,\n"
     ]
    },
    {
     "name": "stdout",
     "output_type": "stream",
     "text": [
      "PyAEDT ERROR:   File \"C:\\Python\\Python310\\Lib\\runpy.py\", line 86, in _run_code\n"
     ]
    },
    {
     "name": "stdout",
     "output_type": "stream",
     "text": [
      "PyAEDT ERROR:     exec(code, run_globals)\n"
     ]
    },
    {
     "name": "stdout",
     "output_type": "stream",
     "text": [
      "PyAEDT ERROR:   File \"C:\\actions-runner\\_work\\pyaedt-toolkits-common\\pyaedt-toolkits-common\\.venv\\lib\\site-packages\\ipykernel_launcher.py\", line 18, in <module>\n"
     ]
    },
    {
     "name": "stdout",
     "output_type": "stream",
     "text": [
      "PyAEDT ERROR:     app.launch_new_instance()\n"
     ]
    },
    {
     "name": "stdout",
     "output_type": "stream",
     "text": [
      "PyAEDT ERROR:   File \"C:\\actions-runner\\_work\\pyaedt-toolkits-common\\pyaedt-toolkits-common\\.venv\\lib\\site-packages\\traitlets\\config\\application.py\", line 1075, in launch_instance\n"
     ]
    },
    {
     "name": "stdout",
     "output_type": "stream",
     "text": [
      "PyAEDT ERROR:     app.start()\n"
     ]
    },
    {
     "name": "stdout",
     "output_type": "stream",
     "text": [
      "PyAEDT ERROR:   File \"C:\\actions-runner\\_work\\pyaedt-toolkits-common\\pyaedt-toolkits-common\\.venv\\lib\\site-packages\\ipykernel\\kernelapp.py\", line 739, in start\n"
     ]
    },
    {
     "name": "stdout",
     "output_type": "stream",
     "text": [
      "PyAEDT ERROR:     self.io_loop.start()\n"
     ]
    },
    {
     "name": "stdout",
     "output_type": "stream",
     "text": [
      "PyAEDT ERROR:   File \"C:\\actions-runner\\_work\\pyaedt-toolkits-common\\pyaedt-toolkits-common\\.venv\\lib\\site-packages\\tornado\\platform\\asyncio.py\", line 205, in start\n"
     ]
    },
    {
     "name": "stdout",
     "output_type": "stream",
     "text": [
      "PyAEDT ERROR:     self.asyncio_loop.run_forever()\n"
     ]
    },
    {
     "name": "stdout",
     "output_type": "stream",
     "text": [
      "PyAEDT ERROR:   File \"C:\\Python\\Python310\\Lib\\asyncio\\base_events.py\", line 603, in run_forever\n"
     ]
    },
    {
     "name": "stdout",
     "output_type": "stream",
     "text": [
      "PyAEDT ERROR:     self._run_once()\n"
     ]
    },
    {
     "name": "stdout",
     "output_type": "stream",
     "text": [
      "PyAEDT ERROR:   File \"C:\\Python\\Python310\\Lib\\asyncio\\base_events.py\", line 1909, in _run_once\n"
     ]
    },
    {
     "name": "stdout",
     "output_type": "stream",
     "text": [
      "PyAEDT ERROR:     handle._run()\n"
     ]
    },
    {
     "name": "stdout",
     "output_type": "stream",
     "text": [
      "PyAEDT ERROR:   File \"C:\\Python\\Python310\\Lib\\asyncio\\events.py\", line 80, in _run\n"
     ]
    },
    {
     "name": "stdout",
     "output_type": "stream",
     "text": [
      "PyAEDT ERROR:     self._context.run(self._callback, *self._args)\n"
     ]
    },
    {
     "name": "stdout",
     "output_type": "stream",
     "text": [
      "PyAEDT ERROR:   File \"C:\\actions-runner\\_work\\pyaedt-toolkits-common\\pyaedt-toolkits-common\\.venv\\lib\\site-packages\\ipykernel\\kernelbase.py\", line 545, in dispatch_queue\n"
     ]
    },
    {
     "name": "stdout",
     "output_type": "stream",
     "text": [
      "PyAEDT ERROR:     await self.process_one()\n"
     ]
    },
    {
     "name": "stdout",
     "output_type": "stream",
     "text": [
      "PyAEDT ERROR:   File \"C:\\actions-runner\\_work\\pyaedt-toolkits-common\\pyaedt-toolkits-common\\.venv\\lib\\site-packages\\ipykernel\\kernelbase.py\", line 534, in process_one\n"
     ]
    },
    {
     "name": "stdout",
     "output_type": "stream",
     "text": [
      "PyAEDT ERROR:     await dispatch(*args)\n"
     ]
    },
    {
     "name": "stdout",
     "output_type": "stream",
     "text": [
      "PyAEDT ERROR:   File \"C:\\actions-runner\\_work\\pyaedt-toolkits-common\\pyaedt-toolkits-common\\.venv\\lib\\site-packages\\ipykernel\\kernelbase.py\", line 437, in dispatch_shell\n"
     ]
    },
    {
     "name": "stdout",
     "output_type": "stream",
     "text": [
      "PyAEDT ERROR:     await result\n"
     ]
    },
    {
     "name": "stdout",
     "output_type": "stream",
     "text": [
      "PyAEDT ERROR:   File \"C:\\actions-runner\\_work\\pyaedt-toolkits-common\\pyaedt-toolkits-common\\.venv\\lib\\site-packages\\ipykernel\\ipkernel.py\", line 362, in execute_request\n"
     ]
    },
    {
     "name": "stdout",
     "output_type": "stream",
     "text": [
      "PyAEDT ERROR:     await super().execute_request(stream, ident, parent)\n"
     ]
    },
    {
     "name": "stdout",
     "output_type": "stream",
     "text": [
      "PyAEDT ERROR:   File \"C:\\actions-runner\\_work\\pyaedt-toolkits-common\\pyaedt-toolkits-common\\.venv\\lib\\site-packages\\ipykernel\\kernelbase.py\", line 778, in execute_request\n"
     ]
    },
    {
     "name": "stdout",
     "output_type": "stream",
     "text": [
      "PyAEDT ERROR:     reply_content = await reply_content\n"
     ]
    },
    {
     "name": "stdout",
     "output_type": "stream",
     "text": [
      "PyAEDT ERROR:   File \"C:\\actions-runner\\_work\\pyaedt-toolkits-common\\pyaedt-toolkits-common\\.venv\\lib\\site-packages\\ipykernel\\ipkernel.py\", line 449, in do_execute\n"
     ]
    },
    {
     "name": "stdout",
     "output_type": "stream",
     "text": [
      "PyAEDT ERROR:     res = shell.run_cell(\n"
     ]
    },
    {
     "name": "stdout",
     "output_type": "stream",
     "text": [
      "PyAEDT ERROR:   File \"C:\\actions-runner\\_work\\pyaedt-toolkits-common\\pyaedt-toolkits-common\\.venv\\lib\\site-packages\\ipykernel\\zmqshell.py\", line 549, in run_cell\n"
     ]
    },
    {
     "name": "stdout",
     "output_type": "stream",
     "text": [
      "PyAEDT ERROR:     return super().run_cell(*args, **kwargs)\n"
     ]
    },
    {
     "name": "stdout",
     "output_type": "stream",
     "text": [
      "PyAEDT ERROR:   File \"C:\\Users\\ansys\\AppData\\Local\\Temp\\ipykernel_6580\\805630073.py\", line 1, in <module>\n"
     ]
    },
    {
     "name": "stdout",
     "output_type": "stream",
     "text": [
      "PyAEDT ERROR:     open_msg = toolkit.open_project(local_project)\n"
     ]
    },
    {
     "name": "stdout",
     "output_type": "stream",
     "text": [
      "PyAEDT ERROR:   File \"C:\\actions-runner\\_work\\pyaedt-toolkits-common\\pyaedt-toolkits-common\\.venv\\lib\\site-packages\\ansys\\aedt\\toolkits\\common\\backend\\api.py\", line 717, in open_project\n"
     ]
    },
    {
     "name": "stdout",
     "output_type": "stream",
     "text": [
      "PyAEDT ERROR:     self.__save_project_info()\n"
     ]
    },
    {
     "name": "stdout",
     "output_type": "stream",
     "text": [
      "PyAEDT ERROR:   File \"C:\\actions-runner\\_work\\pyaedt-toolkits-common\\pyaedt-toolkits-common\\.venv\\lib\\site-packages\\ansys\\aedt\\toolkits\\common\\backend\\api.py\", line 905, in __save_project_info\n"
     ]
    },
    {
     "name": "stdout",
     "output_type": "stream",
     "text": [
      "PyAEDT ERROR:     active_design = self.desktop.active_design(active_project)\n"
     ]
    },
    {
     "name": "stdout",
     "output_type": "stream",
     "text": [
      "PyAEDT ERROR:   File \"C:\\actions-runner\\_work\\pyaedt-toolkits-common\\pyaedt-toolkits-common\\.venv\\lib\\site-packages\\ansys\\aedt\\core\\desktop.py\", line 864, in active_design\n"
     ]
    },
    {
     "name": "stdout",
     "output_type": "stream",
     "text": [
      "PyAEDT ERROR:     active_design = project_object.SetActiveDesign(self.design_list(project_object.GetName())[0])\n"
     ]
    },
    {
     "name": "stdout",
     "output_type": "stream",
     "text": [
      "PyAEDT ERROR: List index out of range on active_design\n"
     ]
    },
    {
     "name": "stdout",
     "output_type": "stream",
     "text": [
      "PyAEDT ERROR: Last Electronics Desktop Message - [error]  the project is not activated\n"
     ]
    },
    {
     "name": "stdout",
     "output_type": "stream",
     "text": [
      "PyAEDT ERROR: Method arguments: \n"
     ]
    },
    {
     "name": "stdout",
     "output_type": "stream",
     "text": [
      "PyAEDT ERROR:     project_object = Instance of an Aedt object:16 \n"
     ]
    },
    {
     "name": "stdout",
     "output_type": "stream",
     "text": [
      "PyAEDT ERROR: **************************************************************\n"
     ]
    },
    {
     "name": "stderr",
     "output_type": "stream",
     "text": [
      "INFO - Updating internal properties.\n"
     ]
    },
    {
     "name": "stderr",
     "output_type": "stream",
     "text": [
      "INFO - AEDT is released.\n"
     ]
    }
   ],
   "source": [
    "open_msg = toolkit.open_project(local_project)"
   ]
  },
  {
   "cell_type": "markdown",
   "id": "cd0c448b",
   "metadata": {},
   "source": [
    "## Get toolkit properties\n",
    "\n",
    "Get the toolkit properties, which contain the project information."
   ]
  },
  {
   "cell_type": "code",
   "execution_count": 9,
   "id": "1bbbd872",
   "metadata": {
    "execution": {
     "iopub.execute_input": "2025-04-24T10:35:07.723048Z",
     "iopub.status.busy": "2025-04-24T10:35:07.723048Z",
     "iopub.status.idle": "2025-04-24T10:35:07.738781Z",
     "shell.execute_reply": "2025-04-24T10:35:07.738781Z"
    }
   },
   "outputs": [],
   "source": [
    "new_properties = toolkit.get_properties()"
   ]
  },
  {
   "cell_type": "markdown",
   "id": "e90cca4d",
   "metadata": {},
   "source": [
    "## Connect design\n",
    "\n",
    "Connect or create a new design."
   ]
  },
  {
   "cell_type": "code",
   "execution_count": 10,
   "id": "266d36f3",
   "metadata": {
    "execution": {
     "iopub.execute_input": "2025-04-24T10:35:07.738781Z",
     "iopub.status.busy": "2025-04-24T10:35:07.738781Z",
     "iopub.status.idle": "2025-04-24T10:35:37.770088Z",
     "shell.execute_reply": "2025-04-24T10:35:37.770088Z"
    }
   },
   "outputs": [
    {
     "name": "stderr",
     "output_type": "stream",
     "text": [
      "INFO - Updating internal properties.\n"
     ]
    },
    {
     "name": "stderr",
     "output_type": "stream",
     "text": [
      "INFO - Toolkit is connected to AEDT design.\n"
     ]
    },
    {
     "data": {
      "text/plain": [
       "True"
      ]
     },
     "execution_count": 10,
     "metadata": {},
     "output_type": "execute_result"
    }
   ],
   "source": [
    "toolkit.connect_design()"
   ]
  },
  {
   "cell_type": "markdown",
   "id": "a70aa52c",
   "metadata": {},
   "source": [
    "## Create a box\n",
    "\n",
    "Create a box in the design."
   ]
  },
  {
   "cell_type": "code",
   "execution_count": 11,
   "id": "d1b75995",
   "metadata": {
    "execution": {
     "iopub.execute_input": "2025-04-24T10:35:37.770088Z",
     "iopub.status.busy": "2025-04-24T10:35:37.770088Z",
     "iopub.status.idle": "2025-04-24T10:35:41.496246Z",
     "shell.execute_reply": "2025-04-24T10:35:41.496246Z"
    }
   },
   "outputs": [
    {
     "name": "stderr",
     "output_type": "stream",
     "text": [
      "INFO - Create Box\n"
     ]
    },
    {
     "name": "stdout",
     "output_type": "stream",
     "text": [
      "PyAEDT ERROR: **************************************************************\n"
     ]
    },
    {
     "name": "stdout",
     "output_type": "stream",
     "text": [
      "PyAEDT ERROR:   File \"C:\\Python\\Python310\\Lib\\runpy.py\", line 196, in _run_module_as_main\n"
     ]
    },
    {
     "name": "stdout",
     "output_type": "stream",
     "text": [
      "PyAEDT ERROR:     return _run_code(code, main_globals, None,\n"
     ]
    },
    {
     "name": "stdout",
     "output_type": "stream",
     "text": [
      "PyAEDT ERROR:   File \"C:\\Python\\Python310\\Lib\\runpy.py\", line 86, in _run_code\n"
     ]
    },
    {
     "name": "stdout",
     "output_type": "stream",
     "text": [
      "PyAEDT ERROR:     exec(code, run_globals)\n"
     ]
    },
    {
     "name": "stdout",
     "output_type": "stream",
     "text": [
      "PyAEDT ERROR:   File \"C:\\actions-runner\\_work\\pyaedt-toolkits-common\\pyaedt-toolkits-common\\.venv\\lib\\site-packages\\ipykernel_launcher.py\", line 18, in <module>\n"
     ]
    },
    {
     "name": "stdout",
     "output_type": "stream",
     "text": [
      "PyAEDT ERROR:     app.launch_new_instance()\n"
     ]
    },
    {
     "name": "stdout",
     "output_type": "stream",
     "text": [
      "PyAEDT ERROR:   File \"C:\\actions-runner\\_work\\pyaedt-toolkits-common\\pyaedt-toolkits-common\\.venv\\lib\\site-packages\\traitlets\\config\\application.py\", line 1075, in launch_instance\n"
     ]
    },
    {
     "name": "stdout",
     "output_type": "stream",
     "text": [
      "PyAEDT ERROR:     app.start()\n"
     ]
    },
    {
     "name": "stdout",
     "output_type": "stream",
     "text": [
      "PyAEDT ERROR:   File \"C:\\actions-runner\\_work\\pyaedt-toolkits-common\\pyaedt-toolkits-common\\.venv\\lib\\site-packages\\ipykernel\\kernelapp.py\", line 739, in start\n"
     ]
    },
    {
     "name": "stdout",
     "output_type": "stream",
     "text": [
      "PyAEDT ERROR:     self.io_loop.start()\n"
     ]
    },
    {
     "name": "stdout",
     "output_type": "stream",
     "text": [
      "PyAEDT ERROR:   File \"C:\\actions-runner\\_work\\pyaedt-toolkits-common\\pyaedt-toolkits-common\\.venv\\lib\\site-packages\\tornado\\platform\\asyncio.py\", line 205, in start\n"
     ]
    },
    {
     "name": "stdout",
     "output_type": "stream",
     "text": [
      "PyAEDT ERROR:     self.asyncio_loop.run_forever()\n"
     ]
    },
    {
     "name": "stdout",
     "output_type": "stream",
     "text": [
      "PyAEDT ERROR:   File \"C:\\Python\\Python310\\Lib\\asyncio\\base_events.py\", line 603, in run_forever\n"
     ]
    },
    {
     "name": "stdout",
     "output_type": "stream",
     "text": [
      "PyAEDT ERROR:     self._run_once()\n"
     ]
    },
    {
     "name": "stdout",
     "output_type": "stream",
     "text": [
      "PyAEDT ERROR:   File \"C:\\Python\\Python310\\Lib\\asyncio\\base_events.py\", line 1909, in _run_once\n"
     ]
    },
    {
     "name": "stdout",
     "output_type": "stream",
     "text": [
      "PyAEDT ERROR:     handle._run()\n"
     ]
    },
    {
     "name": "stdout",
     "output_type": "stream",
     "text": [
      "PyAEDT ERROR:   File \"C:\\Python\\Python310\\Lib\\asyncio\\events.py\", line 80, in _run\n"
     ]
    },
    {
     "name": "stdout",
     "output_type": "stream",
     "text": [
      "PyAEDT ERROR:     self._context.run(self._callback, *self._args)\n"
     ]
    },
    {
     "name": "stdout",
     "output_type": "stream",
     "text": [
      "PyAEDT ERROR:   File \"C:\\actions-runner\\_work\\pyaedt-toolkits-common\\pyaedt-toolkits-common\\.venv\\lib\\site-packages\\ipykernel\\kernelbase.py\", line 545, in dispatch_queue\n"
     ]
    },
    {
     "name": "stdout",
     "output_type": "stream",
     "text": [
      "PyAEDT ERROR:     await self.process_one()\n"
     ]
    },
    {
     "name": "stdout",
     "output_type": "stream",
     "text": [
      "PyAEDT ERROR:   File \"C:\\actions-runner\\_work\\pyaedt-toolkits-common\\pyaedt-toolkits-common\\.venv\\lib\\site-packages\\ipykernel\\kernelbase.py\", line 534, in process_one\n"
     ]
    },
    {
     "name": "stdout",
     "output_type": "stream",
     "text": [
      "PyAEDT ERROR:     await dispatch(*args)\n"
     ]
    },
    {
     "name": "stdout",
     "output_type": "stream",
     "text": [
      "PyAEDT ERROR:   File \"C:\\actions-runner\\_work\\pyaedt-toolkits-common\\pyaedt-toolkits-common\\.venv\\lib\\site-packages\\ipykernel\\kernelbase.py\", line 437, in dispatch_shell\n"
     ]
    },
    {
     "name": "stdout",
     "output_type": "stream",
     "text": [
      "PyAEDT ERROR:     await result\n"
     ]
    },
    {
     "name": "stdout",
     "output_type": "stream",
     "text": [
      "PyAEDT ERROR:   File \"C:\\actions-runner\\_work\\pyaedt-toolkits-common\\pyaedt-toolkits-common\\.venv\\lib\\site-packages\\ipykernel\\ipkernel.py\", line 362, in execute_request\n"
     ]
    },
    {
     "name": "stdout",
     "output_type": "stream",
     "text": [
      "PyAEDT ERROR:     await super().execute_request(stream, ident, parent)\n"
     ]
    },
    {
     "name": "stdout",
     "output_type": "stream",
     "text": [
      "PyAEDT ERROR:   File \"C:\\actions-runner\\_work\\pyaedt-toolkits-common\\pyaedt-toolkits-common\\.venv\\lib\\site-packages\\ipykernel\\kernelbase.py\", line 778, in execute_request\n"
     ]
    },
    {
     "name": "stdout",
     "output_type": "stream",
     "text": [
      "PyAEDT ERROR:     reply_content = await reply_content\n"
     ]
    },
    {
     "name": "stdout",
     "output_type": "stream",
     "text": [
      "PyAEDT ERROR:   File \"C:\\actions-runner\\_work\\pyaedt-toolkits-common\\pyaedt-toolkits-common\\.venv\\lib\\site-packages\\ipykernel\\ipkernel.py\", line 449, in do_execute\n"
     ]
    },
    {
     "name": "stdout",
     "output_type": "stream",
     "text": [
      "PyAEDT ERROR:     res = shell.run_cell(\n"
     ]
    },
    {
     "name": "stdout",
     "output_type": "stream",
     "text": [
      "PyAEDT ERROR:   File \"C:\\actions-runner\\_work\\pyaedt-toolkits-common\\pyaedt-toolkits-common\\.venv\\lib\\site-packages\\ipykernel\\zmqshell.py\", line 549, in run_cell\n"
     ]
    },
    {
     "name": "stdout",
     "output_type": "stream",
     "text": [
      "PyAEDT ERROR:     return super().run_cell(*args, **kwargs)\n"
     ]
    },
    {
     "name": "stdout",
     "output_type": "stream",
     "text": [
      "PyAEDT ERROR:   File \"C:\\Users\\ansys\\AppData\\Local\\Temp\\ipykernel_6580\\396100405.py\", line 3, in <module>\n"
     ]
    },
    {
     "name": "stdout",
     "output_type": "stream",
     "text": [
      "PyAEDT ERROR:     model = box.plot(show=False)\n"
     ]
    },
    {
     "name": "stdout",
     "output_type": "stream",
     "text": [
      "PyAEDT ERROR:   File \"C:\\actions-runner\\_work\\pyaedt-toolkits-common\\pyaedt-toolkits-common\\.venv\\lib\\site-packages\\ansys\\aedt\\core\\internal\\checks.py\", line 76, in wrapper\n"
     ]
    },
    {
     "name": "stdout",
     "output_type": "stream",
     "text": [
      "PyAEDT ERROR:     raise AEDTRuntimeError(\"The AEDT desktop object is not available.\")\n"
     ]
    },
    {
     "name": "stdout",
     "output_type": "stream",
     "text": [
      "PyAEDT ERROR: The aedt desktop object is not available. on wrapper\n"
     ]
    },
    {
     "name": "stdout",
     "output_type": "stream",
     "text": [
      "PyAEDT ERROR: Last Electronics Desktop Message - [error]  the project is not activated\n"
     ]
    },
    {
     "name": "stdout",
     "output_type": "stream",
     "text": [
      "PyAEDT ERROR: **************************************************************\n"
     ]
    },
    {
     "ename": "AttributeError",
     "evalue": "'bool' object has no attribute 'show_grid'",
     "output_type": "error",
     "traceback": [
      "\u001b[1;31m---------------------------------------------------------------------------\u001b[0m",
      "\u001b[1;31mAttributeError\u001b[0m                            Traceback (most recent call last)",
      "Cell \u001b[1;32mIn[11], line 4\u001b[0m\n\u001b[0;32m      2\u001b[0m box \u001b[38;5;241m=\u001b[39m toolkit\u001b[38;5;241m.\u001b[39maedtapp\u001b[38;5;241m.\u001b[39mmodeler\u001b[38;5;241m.\u001b[39mcreate_box([\u001b[38;5;241m10\u001b[39m, \u001b[38;5;241m10\u001b[39m, \u001b[38;5;241m10\u001b[39m], [\u001b[38;5;241m20\u001b[39m, \u001b[38;5;241m20\u001b[39m, \u001b[38;5;241m20\u001b[39m])\n\u001b[0;32m      3\u001b[0m model \u001b[38;5;241m=\u001b[39m box\u001b[38;5;241m.\u001b[39mplot(show\u001b[38;5;241m=\u001b[39m\u001b[38;5;28;01mFalse\u001b[39;00m)\n\u001b[1;32m----> 4\u001b[0m \u001b[43mmodel\u001b[49m\u001b[38;5;241;43m.\u001b[39;49m\u001b[43mshow_grid\u001b[49m \u001b[38;5;241m=\u001b[39m \u001b[38;5;28;01mFalse\u001b[39;00m\n\u001b[0;32m      5\u001b[0m model\u001b[38;5;241m.\u001b[39mplot(os\u001b[38;5;241m.\u001b[39mpath\u001b[38;5;241m.\u001b[39mjoin(toolkit\u001b[38;5;241m.\u001b[39maedtapp\u001b[38;5;241m.\u001b[39mworking_directory, \u001b[38;5;124m\"\u001b[39m\u001b[38;5;124mImage.jpg\u001b[39m\u001b[38;5;124m\"\u001b[39m))\n",
      "\u001b[1;31mAttributeError\u001b[0m: 'bool' object has no attribute 'show_grid'"
     ]
    }
   ],
   "source": [
    "toolkit.logger.info(\"Create Box\")\n",
    "box = toolkit.aedtapp.modeler.create_box([10, 10, 10], [20, 20, 20])\n",
    "model = box.plot(show=False)\n",
    "model.show_grid = False\n",
    "model.plot(os.path.join(toolkit.aedtapp.working_directory, \"Image.jpg\"))"
   ]
  },
  {
   "cell_type": "markdown",
   "id": "c79b64e3",
   "metadata": {},
   "source": [
    "## Save and release AEDT\n",
    "\n",
    "Save and release AEDT."
   ]
  },
  {
   "cell_type": "code",
   "execution_count": 12,
   "id": "3dc0b308",
   "metadata": {
    "execution": {
     "iopub.execute_input": "2025-04-24T10:35:41.496246Z",
     "iopub.status.busy": "2025-04-24T10:35:41.496246Z",
     "iopub.status.idle": "2025-04-24T10:35:48.902999Z",
     "shell.execute_reply": "2025-04-24T10:35:48.902999Z"
    }
   },
   "outputs": [
    {
     "name": "stderr",
     "output_type": "stream",
     "text": [
      "INFO - AEDT is released.\n"
     ]
    },
    {
     "data": {
      "text/plain": [
       "True"
      ]
     },
     "execution_count": 12,
     "metadata": {},
     "output_type": "execute_result"
    }
   ],
   "source": [
    "toolkit.release_aedt(True, True)"
   ]
  },
  {
   "cell_type": "markdown",
   "id": "2fd2212d",
   "metadata": {},
   "source": [
    "## Remove temporary folder\n",
    "\n",
    "Remove the temporary folder."
   ]
  },
  {
   "cell_type": "code",
   "execution_count": 13,
   "id": "3c3c725b",
   "metadata": {
    "execution": {
     "iopub.execute_input": "2025-04-24T10:35:48.902999Z",
     "iopub.status.busy": "2025-04-24T10:35:48.902999Z",
     "iopub.status.idle": "2025-04-24T10:35:48.934262Z",
     "shell.execute_reply": "2025-04-24T10:35:48.934262Z"
    }
   },
   "outputs": [],
   "source": [
    "shutil.rmtree(temp_folder, ignore_errors=True)"
   ]
  }
 ],
 "metadata": {
  "jupytext": {
   "cell_metadata_filter": "-all",
   "main_language": "python",
   "notebook_metadata_filter": "-all",
   "text_representation": {
    "extension": ".py",
    "format_name": "light"
   }
  },
  "language_info": {
   "codemirror_mode": {
    "name": "ipython",
    "version": 3
   },
   "file_extension": ".py",
   "mimetype": "text/x-python",
   "name": "python",
   "nbconvert_exporter": "python",
   "pygments_lexer": "ipython3",
   "version": "3.10.11"
  }
 },
 "nbformat": 4,
 "nbformat_minor": 5
}
