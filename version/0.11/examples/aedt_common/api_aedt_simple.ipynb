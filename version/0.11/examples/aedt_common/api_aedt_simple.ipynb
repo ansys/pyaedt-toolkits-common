{
 "cells": [
  {
   "cell_type": "markdown",
   "id": "b5c5bd11",
   "metadata": {},
   "source": [
    "# AEDT simple example\n",
    "\n",
    "This example shows how to use the ``AEDTCommon`` class to\n",
    "launch a new AEDT session in a thread,\n",
    "create an HFSS design, and create a coaxial."
   ]
  },
  {
   "cell_type": "markdown",
   "id": "00953333",
   "metadata": {},
   "source": [
    "## Perform required imports\n",
    "\n",
    "Perform the required imports."
   ]
  },
  {
   "cell_type": "code",
   "execution_count": 1,
   "id": "eea5e8a9",
   "metadata": {
    "execution": {
     "iopub.execute_input": "2025-04-24T10:35:54.215659Z",
     "iopub.status.busy": "2025-04-24T10:35:54.215659Z",
     "iopub.status.idle": "2025-04-24T10:35:55.437207Z",
     "shell.execute_reply": "2025-04-24T10:35:55.437207Z"
    }
   },
   "outputs": [],
   "source": [
    "import sys\n",
    "from ansys.aedt.toolkits.common.backend.api import AEDTCommon"
   ]
  },
  {
   "cell_type": "markdown",
   "id": "569ebea3",
   "metadata": {},
   "source": [
    "## Initialize toolkit\n",
    "\n",
    "Initialize the toolkit."
   ]
  },
  {
   "cell_type": "code",
   "execution_count": 2,
   "id": "2ebc806a",
   "metadata": {
    "execution": {
     "iopub.execute_input": "2025-04-24T10:35:55.437207Z",
     "iopub.status.busy": "2025-04-24T10:35:55.437207Z",
     "iopub.status.idle": "2025-04-24T10:35:55.452892Z",
     "shell.execute_reply": "2025-04-24T10:35:55.452892Z"
    }
   },
   "outputs": [],
   "source": [
    "toolkit = AEDTCommon()"
   ]
  },
  {
   "cell_type": "markdown",
   "id": "a9385dd0",
   "metadata": {},
   "source": [
    "## Get toolkit properties\n",
    "\n",
    "Get the toolkit properties."
   ]
  },
  {
   "cell_type": "code",
   "execution_count": 3,
   "id": "c42c9126",
   "metadata": {
    "execution": {
     "iopub.execute_input": "2025-04-24T10:35:55.452892Z",
     "iopub.status.busy": "2025-04-24T10:35:55.452892Z",
     "iopub.status.idle": "2025-04-24T10:35:55.468523Z",
     "shell.execute_reply": "2025-04-24T10:35:55.468523Z"
    }
   },
   "outputs": [],
   "source": [
    "properties_from_backend = toolkit.get_properties()"
   ]
  },
  {
   "cell_type": "markdown",
   "id": "c1e49e34",
   "metadata": {},
   "source": [
    "## Set properties\n",
    "\n",
    "Set non-graphical mode."
   ]
  },
  {
   "cell_type": "code",
   "execution_count": 4,
   "id": "746db7ec",
   "metadata": {
    "execution": {
     "iopub.execute_input": "2025-04-24T10:35:55.468523Z",
     "iopub.status.busy": "2025-04-24T10:35:55.468523Z",
     "iopub.status.idle": "2025-04-24T10:35:55.484073Z",
     "shell.execute_reply": "2025-04-24T10:35:55.484073Z"
    }
   },
   "outputs": [
    {
     "name": "stderr",
     "output_type": "stream",
     "text": [
      "INFO - Updating internal properties.\n"
     ]
    }
   ],
   "source": [
    "set_properties = {\"non_graphical\": True}\n",
    "flag_set_properties, msg_set_properties = toolkit.set_properties(set_properties)"
   ]
  },
  {
   "cell_type": "markdown",
   "id": "972734f4",
   "metadata": {},
   "source": [
    "## Initialize AEDT\n",
    "\n",
    "Launch a new AEDT session in a thread."
   ]
  },
  {
   "cell_type": "code",
   "execution_count": 5,
   "id": "e7622098",
   "metadata": {
    "execution": {
     "iopub.execute_input": "2025-04-24T10:35:55.484073Z",
     "iopub.status.busy": "2025-04-24T10:35:55.484073Z",
     "iopub.status.idle": "2025-04-24T10:35:55.515269Z",
     "shell.execute_reply": "2025-04-24T10:35:55.515269Z"
    }
   },
   "outputs": [],
   "source": [
    "thread_msg = toolkit.launch_thread(toolkit.launch_aedt)"
   ]
  },
  {
   "cell_type": "markdown",
   "id": "df17ab41",
   "metadata": {},
   "source": [
    "## Wait for the toolkit thread to be idle\n",
    "\n",
    "Wait for the toolkit thread to be idle and ready to accept a new task."
   ]
  },
  {
   "cell_type": "code",
   "execution_count": 6,
   "id": "520a8b2a",
   "metadata": {
    "execution": {
     "iopub.execute_input": "2025-04-24T10:35:55.530894Z",
     "iopub.status.busy": "2025-04-24T10:35:55.515269Z",
     "iopub.status.idle": "2025-04-24T10:36:02.606955Z",
     "shell.execute_reply": "2025-04-24T10:36:02.606955Z"
    }
   },
   "outputs": [],
   "source": [
    "idle = toolkit.wait_to_be_idle()\n",
    "if not idle:\n",
    "    print(\"AEDT not initialized.\")\n",
    "    sys.exit()"
   ]
  },
  {
   "cell_type": "markdown",
   "id": "a0884dd2",
   "metadata": {},
   "source": [
    "## Connect design\n",
    "\n",
    "Connect or create a new design."
   ]
  },
  {
   "cell_type": "code",
   "execution_count": 7,
   "id": "759de756",
   "metadata": {
    "execution": {
     "iopub.execute_input": "2025-04-24T10:36:02.606955Z",
     "iopub.status.busy": "2025-04-24T10:36:02.606955Z",
     "iopub.status.idle": "2025-04-24T10:36:33.598570Z",
     "shell.execute_reply": "2025-04-24T10:36:33.598570Z"
    }
   },
   "outputs": [
    {
     "name": "stderr",
     "output_type": "stream",
     "text": [
      "INFO - Updating internal properties.\n"
     ]
    },
    {
     "name": "stderr",
     "output_type": "stream",
     "text": [
      "INFO - Toolkit is connected to AEDT design.\n"
     ]
    },
    {
     "data": {
      "text/plain": [
       "True"
      ]
     },
     "execution_count": 7,
     "metadata": {},
     "output_type": "execute_result"
    }
   ],
   "source": [
    "toolkit.connect_design(\"HFSS\")"
   ]
  },
  {
   "cell_type": "markdown",
   "id": "da27e835",
   "metadata": {},
   "source": [
    "## Get toolkit properties\n",
    "\n",
    "Get the toolkit properties, which contain the project information."
   ]
  },
  {
   "cell_type": "code",
   "execution_count": 8,
   "id": "b255e88a",
   "metadata": {
    "execution": {
     "iopub.execute_input": "2025-04-24T10:36:33.598570Z",
     "iopub.status.busy": "2025-04-24T10:36:33.598570Z",
     "iopub.status.idle": "2025-04-24T10:36:33.614203Z",
     "shell.execute_reply": "2025-04-24T10:36:33.614203Z"
    }
   },
   "outputs": [],
   "source": [
    "new_properties = toolkit.get_properties()"
   ]
  },
  {
   "cell_type": "markdown",
   "id": "818f2232",
   "metadata": {},
   "source": [
    "## Create a coaxial\n",
    "\n",
    "Create a coaxial in the design."
   ]
  },
  {
   "cell_type": "code",
   "execution_count": 9,
   "id": "e5a4c7a5",
   "metadata": {
    "execution": {
     "iopub.execute_input": "2025-04-24T10:36:33.614203Z",
     "iopub.status.busy": "2025-04-24T10:36:33.614203Z",
     "iopub.status.idle": "2025-04-24T10:36:37.662996Z",
     "shell.execute_reply": "2025-04-24T10:36:37.662996Z"
    }
   },
   "outputs": [],
   "source": [
    "coax = toolkit.aedtapp.modeler.create_coaxial([0, 0, 0], 1)"
   ]
  },
  {
   "cell_type": "markdown",
   "id": "e3927ca0",
   "metadata": {},
   "source": [
    "## Release AEDT\n",
    "\n",
    "Release AEDT."
   ]
  },
  {
   "cell_type": "code",
   "execution_count": 10,
   "id": "f0759c47",
   "metadata": {
    "execution": {
     "iopub.execute_input": "2025-04-24T10:36:37.662996Z",
     "iopub.status.busy": "2025-04-24T10:36:37.662996Z",
     "iopub.status.idle": "2025-04-24T10:36:37.950934Z",
     "shell.execute_reply": "2025-04-24T10:36:37.950934Z"
    }
   },
   "outputs": [
    {
     "name": "stderr",
     "output_type": "stream",
     "text": [
      "INFO - AEDT is released.\n"
     ]
    },
    {
     "data": {
      "text/plain": [
       "True"
      ]
     },
     "execution_count": 10,
     "metadata": {},
     "output_type": "execute_result"
    }
   ],
   "source": [
    "toolkit.release_aedt(False, False)"
   ]
  },
  {
   "cell_type": "markdown",
   "id": "b71af735",
   "metadata": {},
   "source": [
    "## Export AEDT model\n",
    "\n",
    "Export the OBJ files."
   ]
  },
  {
   "cell_type": "code",
   "execution_count": 11,
   "id": "097131a2",
   "metadata": {
    "execution": {
     "iopub.execute_input": "2025-04-24T10:36:37.950934Z",
     "iopub.status.busy": "2025-04-24T10:36:37.950934Z",
     "iopub.status.idle": "2025-04-24T10:36:39.434573Z",
     "shell.execute_reply": "2025-04-24T10:36:39.434573Z"
    }
   },
   "outputs": [
    {
     "name": "stderr",
     "output_type": "stream",
     "text": [
      "INFO - Toolkit is connected to AEDT design.\n"
     ]
    },
    {
     "name": "stderr",
     "output_type": "stream",
     "text": [
      "INFO - AEDT is released.\n"
     ]
    }
   ],
   "source": [
    "files = toolkit.export_aedt_model()"
   ]
  },
  {
   "cell_type": "markdown",
   "id": "5554be87",
   "metadata": {},
   "source": [
    "## Release and close AEDT\n",
    "\n",
    "Release and close AEDT."
   ]
  },
  {
   "cell_type": "code",
   "execution_count": 12,
   "id": "6dd9d75c",
   "metadata": {
    "execution": {
     "iopub.execute_input": "2025-04-24T10:36:39.434573Z",
     "iopub.status.busy": "2025-04-24T10:36:39.434573Z",
     "iopub.status.idle": "2025-04-24T10:36:44.980069Z",
     "shell.execute_reply": "2025-04-24T10:36:44.980069Z"
    }
   },
   "outputs": [
    {
     "name": "stderr",
     "output_type": "stream",
     "text": [
      "INFO - AEDT is released.\n"
     ]
    },
    {
     "data": {
      "text/plain": [
       "True"
      ]
     },
     "execution_count": 12,
     "metadata": {},
     "output_type": "execute_result"
    }
   ],
   "source": [
    "toolkit.release_aedt(True, True)"
   ]
  }
 ],
 "metadata": {
  "jupytext": {
   "cell_metadata_filter": "-all",
   "main_language": "python",
   "notebook_metadata_filter": "-all",
   "text_representation": {
    "extension": ".py",
    "format_name": "light"
   }
  },
  "language_info": {
   "codemirror_mode": {
    "name": "ipython",
    "version": 3
   },
   "file_extension": ".py",
   "mimetype": "text/x-python",
   "name": "python",
   "nbconvert_exporter": "python",
   "pygments_lexer": "ipython3",
   "version": "3.10.11"
  }
 },
 "nbformat": 4,
 "nbformat_minor": 5
}
