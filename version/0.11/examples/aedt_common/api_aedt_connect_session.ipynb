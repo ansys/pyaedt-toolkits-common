{
 "cells": [
  {
   "cell_type": "markdown",
   "id": "d5714a9f",
   "metadata": {},
   "source": [
    "# AEDT connect session example\n",
    "\n",
    "This example shows how to use the Common AEDT API to\n",
    "connect to an existing  AEDT session,\n",
    "create a HFSS design and create a waveguide."
   ]
  },
  {
   "cell_type": "markdown",
   "id": "8e6ee3c4",
   "metadata": {},
   "source": [
    "## Perform required imports\n",
    "\n",
    "Perform the required imports."
   ]
  },
  {
   "cell_type": "code",
   "execution_count": 1,
   "id": "dd0fd6f5",
   "metadata": {
    "execution": {
     "iopub.execute_input": "2025-04-24T10:33:45.644984Z",
     "iopub.status.busy": "2025-04-24T10:33:45.644984Z",
     "iopub.status.idle": "2025-04-24T10:33:46.833394Z",
     "shell.execute_reply": "2025-04-24T10:33:46.833394Z"
    },
    "lines_to_next_cell": 2
   },
   "outputs": [],
   "source": [
    "import os\n",
    "import sys\n",
    "from ansys.aedt.toolkits.common.backend.api import AEDTCommon\n",
    "import ansys.aedt.core"
   ]
  },
  {
   "cell_type": "markdown",
   "id": "f575b2c4",
   "metadata": {},
   "source": [
    "## Initialize toolkit\n",
    "\n",
    "Initialize the toolkit."
   ]
  },
  {
   "cell_type": "code",
   "execution_count": 2,
   "id": "a828ec4d",
   "metadata": {
    "execution": {
     "iopub.execute_input": "2025-04-24T10:33:46.833394Z",
     "iopub.status.busy": "2025-04-24T10:33:46.833394Z",
     "iopub.status.idle": "2025-04-24T10:33:46.849025Z",
     "shell.execute_reply": "2025-04-24T10:33:46.849025Z"
    }
   },
   "outputs": [],
   "source": [
    "toolkit = AEDTCommon()"
   ]
  },
  {
   "cell_type": "markdown",
   "id": "212e047e",
   "metadata": {},
   "source": [
    "## Get toolkit properties\n",
    "\n",
    "Get the toolkit properties, which contain the project information."
   ]
  },
  {
   "cell_type": "code",
   "execution_count": 3,
   "id": "278ab88f",
   "metadata": {
    "execution": {
     "iopub.execute_input": "2025-04-24T10:33:46.849025Z",
     "iopub.status.busy": "2025-04-24T10:33:46.849025Z",
     "iopub.status.idle": "2025-04-24T10:33:46.864648Z",
     "shell.execute_reply": "2025-04-24T10:33:46.864648Z"
    }
   },
   "outputs": [],
   "source": [
    "properties_from_backend = toolkit.get_properties()"
   ]
  },
  {
   "cell_type": "code",
   "execution_count": 4,
   "id": "6976bf49",
   "metadata": {
    "execution": {
     "iopub.execute_input": "2025-04-24T10:33:46.864648Z",
     "iopub.status.busy": "2025-04-24T10:33:46.864648Z",
     "iopub.status.idle": "2025-04-24T10:33:53.242898Z",
     "shell.execute_reply": "2025-04-24T10:33:53.242898Z"
    }
   },
   "outputs": [
    {
     "data": {
      "text/plain": [
       "True"
      ]
     },
     "execution_count": 4,
     "metadata": {},
     "output_type": "execute_result"
    }
   ],
   "source": [
    "# ## Initialize AEDT\n",
    "#\n",
    "# Initialize AEDT using PyAEDT and then release it.\n",
    "ansys.aedt.core.settings.enable_logger = False\n",
    "app = ansys.aedt.core.Desktop(version=properties_from_backend[\"aedt_version\"],\n",
    "                     non_graphical=properties_from_backend[\"non_graphical\"])\n",
    "app.release_desktop(close_projects=False, close_on_exit=False)"
   ]
  },
  {
   "cell_type": "markdown",
   "id": "6d7f19bd",
   "metadata": {},
   "source": [
    "## Get AEDT sessions\n",
    "\n",
    "Get AEDT sessions and select the first one."
   ]
  },
  {
   "cell_type": "code",
   "execution_count": 5,
   "id": "b551d863",
   "metadata": {
    "execution": {
     "iopub.execute_input": "2025-04-24T10:33:53.242898Z",
     "iopub.status.busy": "2025-04-24T10:33:53.242898Z",
     "iopub.status.idle": "2025-04-24T10:33:53.274155Z",
     "shell.execute_reply": "2025-04-24T10:33:53.274155Z"
    }
   },
   "outputs": [],
   "source": [
    "sessions = toolkit.aedt_sessions()\n",
    "first_key, first_value = next(iter(sessions.items()))\n",
    "if first_value == -1:\n",
    "    use_grpc = False\n",
    "    selected_process = first_key\n",
    "else:\n",
    "    use_grpc = True\n",
    "    selected_process = first_value"
   ]
  },
  {
   "cell_type": "markdown",
   "id": "0bb70fbf",
   "metadata": {},
   "source": [
    "## Set properties\n",
    "\n",
    "Specify the AEDT session selection."
   ]
  },
  {
   "cell_type": "code",
   "execution_count": 6,
   "id": "76328f2e",
   "metadata": {
    "execution": {
     "iopub.execute_input": "2025-04-24T10:33:53.274155Z",
     "iopub.status.busy": "2025-04-24T10:33:53.274155Z",
     "iopub.status.idle": "2025-04-24T10:33:53.289771Z",
     "shell.execute_reply": "2025-04-24T10:33:53.289771Z"
    }
   },
   "outputs": [
    {
     "name": "stderr",
     "output_type": "stream",
     "text": [
      "INFO - Updating internal properties.\n"
     ]
    }
   ],
   "source": [
    "new_properties = {\"selected_process\": selected_process, \"use_grpc\": use_grpc}\n",
    "flag, msg = toolkit.set_properties(new_properties)"
   ]
  },
  {
   "cell_type": "markdown",
   "id": "8640bd9f",
   "metadata": {},
   "source": [
    "## Initialize AEDT\n",
    "\n",
    "Launch a new AEDT session in a thread."
   ]
  },
  {
   "cell_type": "code",
   "execution_count": 7,
   "id": "ea135d74",
   "metadata": {
    "execution": {
     "iopub.execute_input": "2025-04-24T10:33:53.289771Z",
     "iopub.status.busy": "2025-04-24T10:33:53.289771Z",
     "iopub.status.idle": "2025-04-24T10:33:53.307463Z",
     "shell.execute_reply": "2025-04-24T10:33:53.305462Z"
    }
   },
   "outputs": [],
   "source": [
    "thread_msg = toolkit.launch_thread(toolkit.launch_aedt)"
   ]
  },
  {
   "cell_type": "markdown",
   "id": "203039d7",
   "metadata": {},
   "source": [
    "## Wait for the toolkit thread to be idle\n",
    "\n",
    "Wait for the toolkit thread to be idle and ready to accept a new task."
   ]
  },
  {
   "cell_type": "code",
   "execution_count": 8,
   "id": "8f032cb9",
   "metadata": {
    "execution": {
     "iopub.execute_input": "2025-04-24T10:33:53.324138Z",
     "iopub.status.busy": "2025-04-24T10:33:53.324138Z",
     "iopub.status.idle": "2025-04-24T10:33:54.352190Z",
     "shell.execute_reply": "2025-04-24T10:33:54.352190Z"
    }
   },
   "outputs": [],
   "source": [
    "idle = toolkit.wait_to_be_idle()\n",
    "if not idle:\n",
    "    print(\"AEDT not initialized.\")\n",
    "    sys.exit()"
   ]
  },
  {
   "cell_type": "markdown",
   "id": "9f1fc131",
   "metadata": {},
   "source": [
    "## Connect design\n",
    "\n",
    "Connect or create a new design."
   ]
  },
  {
   "cell_type": "code",
   "execution_count": 9,
   "id": "d205b0fe",
   "metadata": {
    "execution": {
     "iopub.execute_input": "2025-04-24T10:33:54.352190Z",
     "iopub.status.busy": "2025-04-24T10:33:54.352190Z",
     "iopub.status.idle": "2025-04-24T10:34:26.172206Z",
     "shell.execute_reply": "2025-04-24T10:34:26.172206Z"
    }
   },
   "outputs": [
    {
     "name": "stderr",
     "output_type": "stream",
     "text": [
      "INFO - Updating internal properties.\n"
     ]
    },
    {
     "name": "stderr",
     "output_type": "stream",
     "text": [
      "INFO - Toolkit is connected to AEDT design.\n"
     ]
    },
    {
     "data": {
      "text/plain": [
       "True"
      ]
     },
     "execution_count": 9,
     "metadata": {},
     "output_type": "execute_result"
    }
   ],
   "source": [
    "toolkit.connect_design(\"HFSS\")"
   ]
  },
  {
   "cell_type": "markdown",
   "id": "a4dabccc",
   "metadata": {},
   "source": [
    "## Get toolkit properties\n",
    "\n",
    "Get the toolkit properties, which contain the project information."
   ]
  },
  {
   "cell_type": "code",
   "execution_count": 10,
   "id": "7bae4533",
   "metadata": {
    "execution": {
     "iopub.execute_input": "2025-04-24T10:34:26.172206Z",
     "iopub.status.busy": "2025-04-24T10:34:26.172206Z",
     "iopub.status.idle": "2025-04-24T10:34:26.187765Z",
     "shell.execute_reply": "2025-04-24T10:34:26.187765Z"
    }
   },
   "outputs": [],
   "source": [
    "new_properties = toolkit.get_properties()"
   ]
  },
  {
   "cell_type": "markdown",
   "id": "d485d27d",
   "metadata": {},
   "source": [
    "## Create a waveguide\n",
    "\n",
    "Create a waveguide in the design."
   ]
  },
  {
   "cell_type": "code",
   "execution_count": 11,
   "id": "01577e57",
   "metadata": {
    "execution": {
     "iopub.execute_input": "2025-04-24T10:34:26.187765Z",
     "iopub.status.busy": "2025-04-24T10:34:26.187765Z",
     "iopub.status.idle": "2025-04-24T10:34:41.596687Z",
     "shell.execute_reply": "2025-04-24T10:34:41.596687Z"
    },
    "lines_to_next_cell": 2
   },
   "outputs": [
    {
     "data": {
      "application/vnd.jupyter.widget-view+json": {
       "model_id": "825169f4b3bd4943b227d5dcb5d01363",
       "version_major": 2,
       "version_minor": 0
      },
      "text/plain": [
       "Widget(value='<iframe src=\"http://localhost:50417/index.html?ui=P_0x25e2bd5a690_0&reconnect=auto\" class=\"pyvis…"
      ]
     },
     "metadata": {},
     "output_type": "display_data"
    },
    {
     "data": {
      "text/plain": [
       "True"
      ]
     },
     "execution_count": 11,
     "metadata": {},
     "output_type": "execute_result"
    }
   ],
   "source": [
    "wg = toolkit.aedtapp.modeler.create_waveguide([0, 0, 0], 1)\n",
    "model = toolkit.aedtapp.plot(show=False)\n",
    "model.show_grid = False\n",
    "model.plot(os.path.join(toolkit.aedtapp.working_directory, \"Image.jpg\"))"
   ]
  },
  {
   "cell_type": "markdown",
   "id": "72eb9b69",
   "metadata": {},
   "source": [
    "## Save and release AEDT\n",
    "\n",
    "Save and release AEDT."
   ]
  },
  {
   "cell_type": "code",
   "execution_count": 12,
   "id": "d5beb44d",
   "metadata": {
    "execution": {
     "iopub.execute_input": "2025-04-24T10:34:41.596687Z",
     "iopub.status.busy": "2025-04-24T10:34:41.596687Z",
     "iopub.status.idle": "2025-04-24T10:34:52.034566Z",
     "shell.execute_reply": "2025-04-24T10:34:52.034566Z"
    }
   },
   "outputs": [
    {
     "name": "stderr",
     "output_type": "stream",
     "text": [
      "INFO - AEDT is released.\n"
     ]
    },
    {
     "data": {
      "text/plain": [
       "True"
      ]
     },
     "execution_count": 12,
     "metadata": {},
     "output_type": "execute_result"
    }
   ],
   "source": [
    "toolkit.release_aedt(True, True)"
   ]
  }
 ],
 "metadata": {
  "jupytext": {
   "cell_metadata_filter": "-all",
   "main_language": "python",
   "notebook_metadata_filter": "-all",
   "text_representation": {
    "extension": ".py",
    "format_name": "light"
   }
  },
  "language_info": {
   "codemirror_mode": {
    "name": "ipython",
    "version": 3
   },
   "file_extension": ".py",
   "mimetype": "text/x-python",
   "name": "python",
   "nbconvert_exporter": "python",
   "pygments_lexer": "ipython3",
   "version": "3.10.11"
  },
  "widgets": {
   "application/vnd.jupyter.widget-state+json": {
    "state": {
     "1d16975afc9047fb8a6aa0a9bc47e606": {
      "model_module": "@jupyter-widgets/controls",
      "model_module_version": "1.5.0",
      "model_name": "DescriptionStyleModel",
      "state": {
       "_model_module": "@jupyter-widgets/controls",
       "_model_module_version": "1.5.0",
       "_model_name": "DescriptionStyleModel",
       "_view_count": null,
       "_view_module": "@jupyter-widgets/base",
       "_view_module_version": "1.2.0",
       "_view_name": "StyleView",
       "description_width": ""
      }
     },
     "825169f4b3bd4943b227d5dcb5d01363": {
      "model_module": "@jupyter-widgets/controls",
      "model_module_version": "1.5.0",
      "model_name": "HTMLModel",
      "state": {
       "_dom_classes": [],
       "_model_module": "@jupyter-widgets/controls",
       "_model_module_version": "1.5.0",
       "_model_name": "HTMLModel",
       "_view_count": null,
       "_view_module": "@jupyter-widgets/controls",
       "_view_module_version": "1.5.0",
       "_view_name": "HTMLView",
       "description": "",
       "description_tooltip": null,
       "layout": "IPY_MODEL_d3716914ec094b7ca1f0e99148503451",
       "placeholder": "​",
       "style": "IPY_MODEL_1d16975afc9047fb8a6aa0a9bc47e606",
       "value": "<iframe src=\"http://localhost:50417/index.html?ui=P_0x25e2bd5a690_0&reconnect=auto\" class=\"pyvista\" style=\"width: 600px; height: 600px; border: 1px solid rgb(221,221,221);\"></iframe>"
      }
     },
     "d3716914ec094b7ca1f0e99148503451": {
      "model_module": "@jupyter-widgets/base",
      "model_module_version": "1.2.0",
      "model_name": "LayoutModel",
      "state": {
       "_model_module": "@jupyter-widgets/base",
       "_model_module_version": "1.2.0",
       "_model_name": "LayoutModel",
       "_view_count": null,
       "_view_module": "@jupyter-widgets/base",
       "_view_module_version": "1.2.0",
       "_view_name": "LayoutView",
       "align_content": null,
       "align_items": null,
       "align_self": null,
       "border": null,
       "bottom": null,
       "display": null,
       "flex": null,
       "flex_flow": null,
       "grid_area": null,
       "grid_auto_columns": null,
       "grid_auto_flow": null,
       "grid_auto_rows": null,
       "grid_column": null,
       "grid_gap": null,
       "grid_row": null,
       "grid_template_areas": null,
       "grid_template_columns": null,
       "grid_template_rows": null,
       "height": null,
       "justify_content": null,
       "justify_items": null,
       "left": null,
       "margin": null,
       "max_height": null,
       "max_width": null,
       "min_height": null,
       "min_width": null,
       "object_fit": null,
       "object_position": null,
       "order": null,
       "overflow": null,
       "overflow_x": null,
       "overflow_y": null,
       "padding": null,
       "right": null,
       "top": null,
       "visibility": null,
       "width": null
      }
     }
    },
    "version_major": 2,
    "version_minor": 0
   }
  }
 },
 "nbformat": 4,
 "nbformat_minor": 5
}
