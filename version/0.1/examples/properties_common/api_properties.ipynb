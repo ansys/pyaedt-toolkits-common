{
 "cells": [
  {
   "cell_type": "markdown",
   "id": "fc8634c3",
   "metadata": {},
   "source": [
    "# Properties example\n",
    "\n",
    "This example shows how to use the ``Common`` class, which contains properties models.\n",
    "These properties provide for sharing information through all the workflow."
   ]
  },
  {
   "cell_type": "markdown",
   "id": "f8ee8c89",
   "metadata": {},
   "source": [
    "## Add new properties\n",
    "\n",
    "Before importing the common module, you can add new properties.\n",
    "First create a file that contains the new properties type, [Models](models.py).\n",
    "Then add a [JSON file](backend_properties.json) that sets the needed default values.\n",
    "Finally, import the properties."
   ]
  },
  {
   "cell_type": "code",
   "execution_count": 1,
   "id": "2c6650c9",
   "metadata": {
    "execution": {
     "iopub.execute_input": "2024-03-06T13:48:27.893556Z",
     "iopub.status.busy": "2024-03-06T13:48:27.893556Z",
     "iopub.status.idle": "2024-03-06T13:48:28.112337Z",
     "shell.execute_reply": "2024-03-06T13:48:28.112337Z"
    }
   },
   "outputs": [],
   "source": [
    "from models import properties"
   ]
  },
  {
   "cell_type": "markdown",
   "id": "bf96c910",
   "metadata": {},
   "source": [
    "## Perform required imports\n",
    "\n",
    "Perform the required imports."
   ]
  },
  {
   "cell_type": "code",
   "execution_count": 2,
   "id": "825a2493",
   "metadata": {
    "execution": {
     "iopub.execute_input": "2024-03-06T13:48:28.112337Z",
     "iopub.status.busy": "2024-03-06T13:48:28.112337Z",
     "iopub.status.idle": "2024-03-06T13:48:28.159237Z",
     "shell.execute_reply": "2024-03-06T13:48:28.159237Z"
    }
   },
   "outputs": [],
   "source": [
    "import sys\n",
    "from ansys.aedt.toolkits.common.backend.api import Common"
   ]
  },
  {
   "cell_type": "markdown",
   "id": "ba5394a0",
   "metadata": {},
   "source": [
    "## Initialize toolkit\n",
    "\n",
    "Initialize the toolkit with the new properties."
   ]
  },
  {
   "cell_type": "code",
   "execution_count": 3,
   "id": "589d2032",
   "metadata": {
    "execution": {
     "iopub.execute_input": "2024-03-06T13:48:28.159237Z",
     "iopub.status.busy": "2024-03-06T13:48:28.159237Z",
     "iopub.status.idle": "2024-03-06T13:48:28.174828Z",
     "shell.execute_reply": "2024-03-06T13:48:28.174828Z"
    }
   },
   "outputs": [],
   "source": [
    "toolkit = Common(properties)"
   ]
  },
  {
   "cell_type": "markdown",
   "id": "20fcbc7b",
   "metadata": {},
   "source": [
    "## Get properties\n",
    "\n",
    "Get the properties."
   ]
  },
  {
   "cell_type": "code",
   "execution_count": 4,
   "id": "091a323b",
   "metadata": {
    "execution": {
     "iopub.execute_input": "2024-03-06T13:48:28.174828Z",
     "iopub.status.busy": "2024-03-06T13:48:28.174828Z",
     "iopub.status.idle": "2024-03-06T13:48:28.190465Z",
     "shell.execute_reply": "2024-03-06T13:48:28.190465Z"
    }
   },
   "outputs": [
    {
     "data": {
      "text/plain": [
       "{'aedt_version': '2024.1',\n",
       " 'non_graphical': False,\n",
       " 'active_project': '',\n",
       " 'active_design': '',\n",
       " 'project_list': [],\n",
       " 'design_list': {},\n",
       " 'selected_process': 0,\n",
       " 'use_grpc': True,\n",
       " 'is_toolkit_busy': False,\n",
       " 'url': '127.0.0.1',\n",
       " 'port': 5001,\n",
       " 'debug': True,\n",
       " 'toolkit_name': 'common',\n",
       " 'log_file': 'example_backend.log',\n",
       " 'invented_property': [10],\n",
       " 'test': 'hola'}"
      ]
     },
     "execution_count": 4,
     "metadata": {},
     "output_type": "execute_result"
    }
   ],
   "source": [
    "toolkit.get_properties()"
   ]
  },
  {
   "cell_type": "markdown",
   "id": "4d0b1149",
   "metadata": {},
   "source": [
    "## Set property\n",
    "\n",
    "Use ``set_properties`` to set the new property."
   ]
  },
  {
   "cell_type": "code",
   "execution_count": 5,
   "id": "7dbb3d28",
   "metadata": {
    "execution": {
     "iopub.execute_input": "2024-03-06T13:48:28.190465Z",
     "iopub.status.busy": "2024-03-06T13:48:28.190465Z",
     "iopub.status.idle": "2024-03-06T13:48:28.206090Z",
     "shell.execute_reply": "2024-03-06T13:48:28.206090Z"
    }
   },
   "outputs": [
    {
     "name": "stderr",
     "output_type": "stream",
     "text": [
      "INFO - Updating internal properties.\n"
     ]
    },
    {
     "name": "stderr",
     "output_type": "stream",
     "text": [
      "DEBUG - Updating 'invented_property' with value [1, 2, 3]\n"
     ]
    },
    {
     "name": "stderr",
     "output_type": "stream",
     "text": [
      "DEBUG - Properties were updated successfully.\n"
     ]
    },
    {
     "data": {
      "text/plain": [
       "{'aedt_version': '2024.1',\n",
       " 'non_graphical': False,\n",
       " 'active_project': '',\n",
       " 'active_design': '',\n",
       " 'project_list': [],\n",
       " 'design_list': {},\n",
       " 'selected_process': 0,\n",
       " 'use_grpc': True,\n",
       " 'is_toolkit_busy': False,\n",
       " 'url': '127.0.0.1',\n",
       " 'port': 5001,\n",
       " 'debug': True,\n",
       " 'toolkit_name': 'common',\n",
       " 'log_file': 'example_backend.log',\n",
       " 'invented_property': [1, 2, 3],\n",
       " 'test': 'hola'}"
      ]
     },
     "execution_count": 5,
     "metadata": {},
     "output_type": "execute_result"
    }
   ],
   "source": [
    "set_properties = {\"invented_property\": [1, 2, 3]}\n",
    "toolkit.set_properties(set_properties)\n",
    "toolkit.get_properties()"
   ]
  },
  {
   "cell_type": "markdown",
   "id": "1af15a01",
   "metadata": {},
   "source": [
    "## Set property directly\n",
    "\n",
    "Set the property directly."
   ]
  },
  {
   "cell_type": "code",
   "execution_count": 6,
   "id": "03607832",
   "metadata": {
    "execution": {
     "iopub.execute_input": "2024-03-06T13:48:28.206090Z",
     "iopub.status.busy": "2024-03-06T13:48:28.206090Z",
     "iopub.status.idle": "2024-03-06T13:48:28.221683Z",
     "shell.execute_reply": "2024-03-06T13:48:28.221683Z"
    }
   },
   "outputs": [
    {
     "data": {
      "text/plain": [
       "{'aedt_version': '2024.1',\n",
       " 'non_graphical': False,\n",
       " 'active_project': '',\n",
       " 'active_design': '',\n",
       " 'project_list': [],\n",
       " 'design_list': {},\n",
       " 'selected_process': 0,\n",
       " 'use_grpc': True,\n",
       " 'is_toolkit_busy': False,\n",
       " 'url': '127.0.0.1',\n",
       " 'port': 5001,\n",
       " 'debug': True,\n",
       " 'toolkit_name': 'common',\n",
       " 'log_file': 'example_backend.log',\n",
       " 'invented_property': [10, 20, 30],\n",
       " 'test': 'hola'}"
      ]
     },
     "execution_count": 6,
     "metadata": {},
     "output_type": "execute_result"
    }
   ],
   "source": [
    "properties.invented_property = [10, 20, 30]\n",
    "toolkit.get_properties()"
   ]
  },
  {
   "cell_type": "markdown",
   "id": "ae941e26",
   "metadata": {},
   "source": [
    "## Set wrong property\n",
    "\n",
    "Set the wrong property. It is not possible to change the property type."
   ]
  },
  {
   "cell_type": "code",
   "execution_count": 7,
   "id": "ebf59639",
   "metadata": {
    "execution": {
     "iopub.execute_input": "2024-03-06T13:48:28.221683Z",
     "iopub.status.busy": "2024-03-06T13:48:28.221683Z",
     "iopub.status.idle": "2024-03-06T13:48:28.237377Z",
     "shell.execute_reply": "2024-03-06T13:48:28.237377Z"
    }
   },
   "outputs": [
    {
     "name": "stderr",
     "output_type": "stream",
     "text": [
      "INFO - Updating internal properties.\n"
     ]
    },
    {
     "name": "stderr",
     "output_type": "stream",
     "text": [
      "DEBUG - Updating 'invented_property' with value 1\n"
     ]
    },
    {
     "name": "stderr",
     "output_type": "stream",
     "text": [
      "ERROR - Error occurred during validation of properties field.\n"
     ]
    },
    {
     "name": "stderr",
     "output_type": "stream",
     "text": [
      "ERROR - key invented_property with value 1\n"
     ]
    },
    {
     "data": {
      "text/plain": [
       "(False, 'Error occurred during validation of properties field.')"
      ]
     },
     "execution_count": 7,
     "metadata": {},
     "output_type": "execute_result"
    }
   ],
   "source": [
    "set_properties = {\"invented_property\": 1}\n",
    "toolkit.set_properties(set_properties)"
   ]
  }
 ],
 "metadata": {
  "jupytext": {
   "cell_metadata_filter": "-all",
   "main_language": "python",
   "notebook_metadata_filter": "-all",
   "text_representation": {
    "extension": ".py",
    "format_name": "light"
   }
  },
  "language_info": {
   "codemirror_mode": {
    "name": "ipython",
    "version": 3
   },
   "file_extension": ".py",
   "mimetype": "text/x-python",
   "name": "python",
   "nbconvert_exporter": "python",
   "pygments_lexer": "ipython3",
   "version": "3.10.11"
  }
 },
 "nbformat": 4,
 "nbformat_minor": 5
}
