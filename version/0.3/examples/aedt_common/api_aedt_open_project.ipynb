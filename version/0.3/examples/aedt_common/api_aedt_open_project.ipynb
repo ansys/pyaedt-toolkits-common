{
 "cells": [
  {
   "cell_type": "markdown",
   "id": "88039321",
   "metadata": {},
   "source": [
    "# AEDT open project example\n",
    "\n",
    "This example shows how to use the ``AEDTCommon`` class to\n",
    "launch a new AEDT session in a thread and\n",
    "open an existing AEDT project."
   ]
  },
  {
   "cell_type": "markdown",
   "id": "781d66bf",
   "metadata": {},
   "source": [
    "## Perform required imports\n",
    "\n",
    "Perform the required imports."
   ]
  },
  {
   "cell_type": "code",
   "execution_count": 1,
   "id": "7aeee932",
   "metadata": {
    "execution": {
     "iopub.execute_input": "2024-05-06T12:38:17.130260Z",
     "iopub.status.busy": "2024-05-06T12:38:17.130260Z",
     "iopub.status.idle": "2024-05-06T12:38:17.145837Z",
     "shell.execute_reply": "2024-05-06T12:38:17.145837Z"
    }
   },
   "outputs": [],
   "source": [
    "import sys\n",
    "import os\n",
    "import shutil"
   ]
  },
  {
   "cell_type": "code",
   "execution_count": 2,
   "id": "55bd7f5f",
   "metadata": {
    "execution": {
     "iopub.execute_input": "2024-05-06T12:38:17.145837Z",
     "iopub.status.busy": "2024-05-06T12:38:17.145837Z",
     "iopub.status.idle": "2024-05-06T12:38:17.192777Z",
     "shell.execute_reply": "2024-05-06T12:38:17.192777Z"
    }
   },
   "outputs": [],
   "source": [
    "from pyaedt import generate_unique_folder_name"
   ]
  },
  {
   "cell_type": "code",
   "execution_count": 3,
   "id": "5035b1dd",
   "metadata": {
    "execution": {
     "iopub.execute_input": "2024-05-06T12:38:17.192777Z",
     "iopub.status.busy": "2024-05-06T12:38:17.192777Z",
     "iopub.status.idle": "2024-05-06T12:38:17.489639Z",
     "shell.execute_reply": "2024-05-06T12:38:17.489639Z"
    }
   },
   "outputs": [],
   "source": [
    "from ansys.aedt.toolkits.common.utils import download_file\n",
    "from ansys.aedt.toolkits.common.backend.api import AEDTCommon"
   ]
  },
  {
   "cell_type": "markdown",
   "id": "851d76b1",
   "metadata": {},
   "source": [
    "## Initialize temporary folder and project settings\n",
    "\n",
    "Initialize a temporary folder to copy the input file into\n",
    "and specify project settings."
   ]
  },
  {
   "cell_type": "code",
   "execution_count": 4,
   "id": "6db812f6",
   "metadata": {
    "execution": {
     "iopub.execute_input": "2024-05-06T12:38:17.489639Z",
     "iopub.status.busy": "2024-05-06T12:38:17.489639Z",
     "iopub.status.idle": "2024-05-06T12:38:17.692862Z",
     "shell.execute_reply": "2024-05-06T12:38:17.692862Z"
    }
   },
   "outputs": [
    {
     "data": {
      "text/plain": [
       "'C:\\\\Users\\\\ansys\\\\AppData\\\\Local\\\\Temp\\\\pyaedt_prj_X1E\\\\Test.aedt'"
      ]
     },
     "execution_count": 4,
     "metadata": {},
     "output_type": "execute_result"
    }
   ],
   "source": [
    "URL_BASE = \"https://raw.githubusercontent.com/ansys/example-data/master/toolkits/common/\"\n",
    "AEDT_PROJECT = \"Test.aedt\"\n",
    "URL = os.path.join(URL_BASE, AEDT_PROJECT)\n",
    "\n",
    "temp_folder = os.path.join(generate_unique_folder_name())\n",
    "\n",
    "local_project = os.path.join(temp_folder, AEDT_PROJECT)\n",
    "\n",
    "download_file(URL, local_project)"
   ]
  },
  {
   "cell_type": "markdown",
   "id": "86e0394f",
   "metadata": {},
   "source": [
    "## Initialize toolkit\n",
    "\n",
    "Initialize the toolkit."
   ]
  },
  {
   "cell_type": "code",
   "execution_count": 5,
   "id": "296c75f3",
   "metadata": {
    "execution": {
     "iopub.execute_input": "2024-05-06T12:38:17.692862Z",
     "iopub.status.busy": "2024-05-06T12:38:17.692862Z",
     "iopub.status.idle": "2024-05-06T12:38:17.708563Z",
     "shell.execute_reply": "2024-05-06T12:38:17.708563Z"
    }
   },
   "outputs": [],
   "source": [
    "toolkit = AEDTCommon()"
   ]
  },
  {
   "cell_type": "markdown",
   "id": "4e18f3cb",
   "metadata": {},
   "source": [
    "## Initialize AEDT\n",
    "\n",
    "Launch a new AEDT session in a thread."
   ]
  },
  {
   "cell_type": "code",
   "execution_count": 6,
   "id": "925ff6dc",
   "metadata": {
    "execution": {
     "iopub.execute_input": "2024-05-06T12:38:17.708563Z",
     "iopub.status.busy": "2024-05-06T12:38:17.708563Z",
     "iopub.status.idle": "2024-05-06T12:38:17.724114Z",
     "shell.execute_reply": "2024-05-06T12:38:17.724114Z"
    }
   },
   "outputs": [
    {
     "name": "stderr",
     "output_type": "stream",
     "text": [
      "DEBUG - Starting thread: Toolkit_Thread\n"
     ]
    },
    {
     "name": "stderr",
     "output_type": "stream",
     "text": [
      "DEBUG - Toolkit is not connected to AEDT.\n"
     ]
    },
    {
     "name": "stderr",
     "output_type": "stream",
     "text": [
      "DEBUG - Launching AEDT.\n"
     ]
    }
   ],
   "source": [
    "thread_msg = toolkit.launch_thread(toolkit.launch_aedt)"
   ]
  },
  {
   "cell_type": "markdown",
   "id": "ca5bd6f6",
   "metadata": {},
   "source": [
    "## Wait for the toolkit thread to be idle\n",
    "\n",
    "Wait for the toolkit thread to be idle and ready to accept a new task."
   ]
  },
  {
   "cell_type": "code",
   "execution_count": 7,
   "id": "f3a31ccc",
   "metadata": {
    "execution": {
     "iopub.execute_input": "2024-05-06T12:38:17.724114Z",
     "iopub.status.busy": "2024-05-06T12:38:17.724114Z",
     "iopub.status.idle": "2024-05-06T12:38:23.791782Z",
     "shell.execute_reply": "2024-05-06T12:38:23.791782Z"
    }
   },
   "outputs": [
    {
     "name": "stderr",
     "output_type": "stream",
     "text": [
      "DEBUG - Toolkit is busy and processing a task.\n"
     ]
    },
    {
     "name": "stderr",
     "output_type": "stream",
     "text": [
      "DEBUG - Toolkit is busy and processing a task.\n"
     ]
    },
    {
     "name": "stderr",
     "output_type": "stream",
     "text": [
      "DEBUG - Toolkit is busy and processing a task.\n"
     ]
    },
    {
     "name": "stderr",
     "output_type": "stream",
     "text": [
      "DEBUG - Toolkit is busy and processing a task.\n"
     ]
    },
    {
     "name": "stderr",
     "output_type": "stream",
     "text": [
      "DEBUG - Toolkit is busy and processing a task.\n"
     ]
    },
    {
     "name": "stderr",
     "output_type": "stream",
     "text": [
      "DEBUG - Toolkit is idle and ready to accept a new task.\n"
     ]
    }
   ],
   "source": [
    "idle = toolkit.wait_to_be_idle()\n",
    "if not idle:\n",
    "    print(\"AEDT not initialized.\")\n",
    "    sys.exit()"
   ]
  },
  {
   "cell_type": "markdown",
   "id": "3cab98b8",
   "metadata": {},
   "source": [
    "## Open project\n",
    "\n",
    "Open the project."
   ]
  },
  {
   "cell_type": "code",
   "execution_count": 8,
   "id": "1321bee4",
   "metadata": {
    "execution": {
     "iopub.execute_input": "2024-05-06T12:38:23.791782Z",
     "iopub.status.busy": "2024-05-06T12:38:23.791782Z",
     "iopub.status.idle": "2024-05-06T12:38:24.511648Z",
     "shell.execute_reply": "2024-05-06T12:38:24.511648Z"
    }
   },
   "outputs": [
    {
     "name": "stderr",
     "output_type": "stream",
     "text": [
      "DEBUG - Toolkit is not connected to AEDT.\n"
     ]
    },
    {
     "name": "stderr",
     "output_type": "stream",
     "text": [
      "DEBUG - Connecting AEDT.\n"
     ]
    },
    {
     "name": "stdout",
     "output_type": "stream",
     "text": [
      "PyAEDT INFO: Initializing new Desktop session.\n"
     ]
    },
    {
     "name": "stdout",
     "output_type": "stream",
     "text": [
      "PyAEDT INFO: StdOut is enabled\n"
     ]
    },
    {
     "name": "stdout",
     "output_type": "stream",
     "text": [
      "PyAEDT INFO: Log on file is enabled\n"
     ]
    },
    {
     "name": "stdout",
     "output_type": "stream",
     "text": [
      "PyAEDT INFO: Log on Desktop Message Manager is disabled\n"
     ]
    },
    {
     "name": "stdout",
     "output_type": "stream",
     "text": [
      "PyAEDT INFO: Debug logger is disabled. PyAEDT methods will not be logged.\n"
     ]
    },
    {
     "name": "stdout",
     "output_type": "stream",
     "text": [
      "PyAEDT INFO: Launching PyAEDT outside AEDT with gRPC plugin.\n"
     ]
    },
    {
     "name": "stdout",
     "output_type": "stream",
     "text": [
      "PyAEDT INFO: Connecting to AEDT session on gRPC port 60003\n"
     ]
    },
    {
     "name": "stdout",
     "output_type": "stream",
     "text": [
      "PyAEDT INFO: AEDT installation Path C:\\Program Files\\AnsysEM\\v241\\Win64\n"
     ]
    },
    {
     "name": "stdout",
     "output_type": "stream",
     "text": [
      "PyAEDT INFO: pyaedt v0.8.10\n"
     ]
    },
    {
     "name": "stdout",
     "output_type": "stream",
     "text": [
      "PyAEDT INFO: Python version 3.10.11 (tags/v3.10.11:7d4cc5a, Apr  5 2023, 00:38:17) [MSC v.1929 64 bit (AMD64)]\n"
     ]
    },
    {
     "name": "stdout",
     "output_type": "stream",
     "text": [
      "PyAEDT INFO: AEDT 2024.1.0 Build Date 2023-11-27 22:16:18\n"
     ]
    },
    {
     "name": "stderr",
     "output_type": "stream",
     "text": [
      "DEBUG - Toolkit is connected to AEDT.\n"
     ]
    },
    {
     "name": "stderr",
     "output_type": "stream",
     "text": [
      "DEBUG - Project C:\\Users\\ansys\\AppData\\Local\\Temp\\pyaedt_prj_X1E\\Test.aedt is opened\n"
     ]
    },
    {
     "name": "stderr",
     "output_type": "stream",
     "text": [
      "DEBUG - Project name: Test\n"
     ]
    },
    {
     "name": "stderr",
     "output_type": "stream",
     "text": [
      "INFO - Updating internal properties.\n"
     ]
    },
    {
     "name": "stderr",
     "output_type": "stream",
     "text": [
      "DEBUG - Updating 'project_list' with value ['C:/Users/ansys/AppData/Local/Temp/pyaedt_prj_X1E/Test.aedt']\n"
     ]
    },
    {
     "name": "stderr",
     "output_type": "stream",
     "text": [
      "DEBUG - Updating 'active_project' with value C:/Users/ansys/AppData/Local/Temp/pyaedt_prj_X1E/Test.aedt\n"
     ]
    },
    {
     "name": "stderr",
     "output_type": "stream",
     "text": [
      "DEBUG - Updating 'design_list' with value {'Test': []}\n"
     ]
    },
    {
     "name": "stderr",
     "output_type": "stream",
     "text": [
      "DEBUG - Properties were updated successfully.\n"
     ]
    },
    {
     "name": "stdout",
     "output_type": "stream",
     "text": [
      "PyAEDT INFO: Desktop has been released.\n"
     ]
    },
    {
     "name": "stderr",
     "output_type": "stream",
     "text": [
      "INFO - AEDT is released.\n"
     ]
    }
   ],
   "source": [
    "open_msg = toolkit.open_project(local_project)"
   ]
  },
  {
   "cell_type": "markdown",
   "id": "54af61d1",
   "metadata": {},
   "source": [
    "## Get toolkit properties\n",
    "\n",
    "Get the toolkit properties, which contain the project information."
   ]
  },
  {
   "cell_type": "code",
   "execution_count": 9,
   "id": "b9f8f391",
   "metadata": {
    "execution": {
     "iopub.execute_input": "2024-05-06T12:38:24.511648Z",
     "iopub.status.busy": "2024-05-06T12:38:24.511648Z",
     "iopub.status.idle": "2024-05-06T12:38:24.527273Z",
     "shell.execute_reply": "2024-05-06T12:38:24.527273Z"
    }
   },
   "outputs": [],
   "source": [
    "new_properties = toolkit.get_properties()"
   ]
  },
  {
   "cell_type": "markdown",
   "id": "175fe69a",
   "metadata": {},
   "source": [
    "## Connect design\n",
    "\n",
    "Connect or create a new design."
   ]
  },
  {
   "cell_type": "code",
   "execution_count": 10,
   "id": "cdd8fe8e",
   "metadata": {
    "execution": {
     "iopub.execute_input": "2024-05-06T12:38:24.527273Z",
     "iopub.status.busy": "2024-05-06T12:38:24.527273Z",
     "iopub.status.idle": "2024-05-06T12:38:56.370421Z",
     "shell.execute_reply": "2024-05-06T12:38:56.370421Z"
    }
   },
   "outputs": [
    {
     "name": "stderr",
     "output_type": "stream",
     "text": [
      "DEBUG - Toolkit is not connected to AEDT.\n"
     ]
    },
    {
     "name": "stderr",
     "output_type": "stream",
     "text": [
      "DEBUG - Connecting AEDT.\n"
     ]
    },
    {
     "name": "stdout",
     "output_type": "stream",
     "text": [
      "PyAEDT INFO: Initializing new Desktop session.\n"
     ]
    },
    {
     "name": "stdout",
     "output_type": "stream",
     "text": [
      "PyAEDT INFO: StdOut is enabled\n"
     ]
    },
    {
     "name": "stdout",
     "output_type": "stream",
     "text": [
      "PyAEDT INFO: Log on file is enabled\n"
     ]
    },
    {
     "name": "stdout",
     "output_type": "stream",
     "text": [
      "PyAEDT INFO: Log on Desktop Message Manager is disabled\n"
     ]
    },
    {
     "name": "stdout",
     "output_type": "stream",
     "text": [
      "PyAEDT INFO: Debug logger is disabled. PyAEDT methods will not be logged.\n"
     ]
    },
    {
     "name": "stdout",
     "output_type": "stream",
     "text": [
      "PyAEDT INFO: Launching PyAEDT outside AEDT with gRPC plugin.\n"
     ]
    },
    {
     "name": "stdout",
     "output_type": "stream",
     "text": [
      "PyAEDT INFO: Connecting to AEDT session on gRPC port 60003\n"
     ]
    },
    {
     "name": "stdout",
     "output_type": "stream",
     "text": [
      "PyAEDT INFO: AEDT installation Path C:\\Program Files\\AnsysEM\\v241\\Win64\n"
     ]
    },
    {
     "name": "stdout",
     "output_type": "stream",
     "text": [
      "PyAEDT INFO: pyaedt v0.8.10\n"
     ]
    },
    {
     "name": "stdout",
     "output_type": "stream",
     "text": [
      "PyAEDT INFO: Python version 3.10.11 (tags/v3.10.11:7d4cc5a, Apr  5 2023, 00:38:17) [MSC v.1929 64 bit (AMD64)]\n"
     ]
    },
    {
     "name": "stdout",
     "output_type": "stream",
     "text": [
      "PyAEDT INFO: AEDT 2024.1.0 Build Date 2023-11-27 22:16:18\n"
     ]
    },
    {
     "name": "stderr",
     "output_type": "stream",
     "text": [
      "DEBUG - Toolkit is connected to AEDT.\n"
     ]
    },
    {
     "name": "stdout",
     "output_type": "stream",
     "text": [
      "PyAEDT INFO: Parsing C:/Users/ansys/AppData/Local/Temp/pyaedt_prj_X1E/Test.aedt.\n"
     ]
    },
    {
     "name": "stdout",
     "output_type": "stream",
     "text": [
      "PyAEDT INFO: Returning found Desktop session with PID 7456!\n"
     ]
    },
    {
     "name": "stdout",
     "output_type": "stream",
     "text": [
      "PyAEDT INFO: Project Test set to active.\n"
     ]
    },
    {
     "name": "stdout",
     "output_type": "stream",
     "text": [
      "PyAEDT INFO: File C:/Users/ansys/AppData/Local/Temp/pyaedt_prj_X1E/Test.aedt correctly loaded. Elapsed time: 0m 0sec\n"
     ]
    },
    {
     "name": "stdout",
     "output_type": "stream",
     "text": [
      "PyAEDT INFO: Added design 'HFSS_QS1RIP' of type HFSS.\n"
     ]
    },
    {
     "name": "stdout",
     "output_type": "stream",
     "text": [
      "PyAEDT INFO: Aedt Objects correctly read\n"
     ]
    },
    {
     "name": "stdout",
     "output_type": "stream",
     "text": [
      "PyAEDT INFO: Project Test Saved correctly\n"
     ]
    },
    {
     "name": "stderr",
     "output_type": "stream",
     "text": [
      "DEBUG - Project name: Test\n"
     ]
    },
    {
     "name": "stderr",
     "output_type": "stream",
     "text": [
      "INFO - Updating internal properties.\n"
     ]
    },
    {
     "name": "stderr",
     "output_type": "stream",
     "text": [
      "DEBUG - Updating 'project_list' with value ['C:/Users/ansys/AppData/Local/Temp/pyaedt_prj_X1E/Test.aedt']\n"
     ]
    },
    {
     "name": "stderr",
     "output_type": "stream",
     "text": [
      "DEBUG - Updating 'active_design' with value HFSS_QS1RIP\n"
     ]
    },
    {
     "name": "stderr",
     "output_type": "stream",
     "text": [
      "DEBUG - Updating 'active_project' with value C:/Users/ansys/AppData/Local/Temp/pyaedt_prj_X1E/Test.aedt\n"
     ]
    },
    {
     "name": "stderr",
     "output_type": "stream",
     "text": [
      "DEBUG - Updating 'design_list' with value {'Test': ['HFSS_QS1RIP']}\n"
     ]
    },
    {
     "name": "stderr",
     "output_type": "stream",
     "text": [
      "DEBUG - Properties were updated successfully.\n"
     ]
    },
    {
     "name": "stderr",
     "output_type": "stream",
     "text": [
      "INFO - Toolkit is connected to AEDT design.\n"
     ]
    },
    {
     "data": {
      "text/plain": [
       "True"
      ]
     },
     "execution_count": 10,
     "metadata": {},
     "output_type": "execute_result"
    }
   ],
   "source": [
    "toolkit.connect_design()"
   ]
  },
  {
   "cell_type": "markdown",
   "id": "3d4207af",
   "metadata": {},
   "source": [
    "## Create a box\n",
    "\n",
    "Create a box in the design."
   ]
  },
  {
   "cell_type": "code",
   "execution_count": 11,
   "id": "57ca6b5e",
   "metadata": {
    "execution": {
     "iopub.execute_input": "2024-05-06T12:38:56.370421Z",
     "iopub.status.busy": "2024-05-06T12:38:56.370421Z",
     "iopub.status.idle": "2024-05-06T12:39:00.841727Z",
     "shell.execute_reply": "2024-05-06T12:39:00.841727Z"
    }
   },
   "outputs": [
    {
     "name": "stderr",
     "output_type": "stream",
     "text": [
      "INFO - Create Box\n"
     ]
    },
    {
     "name": "stdout",
     "output_type": "stream",
     "text": [
      "PyAEDT INFO: Parsing C:/Users/ansys/AppData/Local/Temp/pyaedt_prj_X1E/Test.aedt.\n"
     ]
    },
    {
     "name": "stdout",
     "output_type": "stream",
     "text": [
      "PyAEDT INFO: File C:/Users/ansys/AppData/Local/Temp/pyaedt_prj_X1E/Test.aedt correctly loaded. Elapsed time: 0m 0sec\n"
     ]
    },
    {
     "name": "stdout",
     "output_type": "stream",
     "text": [
      "PyAEDT INFO: aedt file load time 0.015654563903808594\n"
     ]
    },
    {
     "name": "stdout",
     "output_type": "stream",
     "text": [
      "PyAEDT INFO: Modeler class has been initialized! Elapsed time: 0m 0sec\n"
     ]
    },
    {
     "name": "stdout",
     "output_type": "stream",
     "text": [
      "PyAEDT INFO: Materials class has been initialized! Elapsed time: 0m 0sec\n"
     ]
    },
    {
     "name": "stdout",
     "output_type": "stream",
     "text": [
      "PyAEDT INFO: PostProcessor class has been initialized! Elapsed time: 0m 0sec\n"
     ]
    },
    {
     "name": "stdout",
     "output_type": "stream",
     "text": [
      "PyAEDT INFO: Post class has been initialized! Elapsed time: 0m 0sec\n"
     ]
    },
    {
     "name": "stderr",
     "output_type": "stream",
     "text": [
      "C:\\Users\\Public\\actions-runner\\_work\\pyaedt-toolkits-common\\pyaedt-toolkits-common\\.venv\\lib\\site-packages\\pyvista\\jupyter\\notebook.py:34: UserWarning: Failed to use notebook backend: \n",
      "\n",
      "No module named 'trame'\n",
      "\n",
      "Falling back to a static output.\n",
      "  warnings.warn(\n"
     ]
    },
    {
     "data": {
      "image/jpeg": "[encoded data removed]",
      "image/png": "[encoded data removed]",
      "text/plain": [
       "<PIL.Image.Image image mode=RGB size=600x600>"
      ]
     },
     "metadata": {},
     "output_type": "display_data"
    },
    {
     "data": {
      "text/plain": [
       "<pyaedt.generic.plot.ModelPlotter at 0x24398d10b50>"
      ]
     },
     "execution_count": 11,
     "metadata": {},
     "output_type": "execute_result"
    }
   ],
   "source": [
    "toolkit.logger.info(\"Create Box\")\n",
    "box = toolkit.aedtapp.modeler.create_box([10, 10, 10], [20, 20, 20])\n",
    "box.plot()"
   ]
  },
  {
   "cell_type": "markdown",
   "id": "fb62b03d",
   "metadata": {},
   "source": [
    "## Save and release AEDT\n",
    "\n",
    "Save and release AEDT."
   ]
  },
  {
   "cell_type": "code",
   "execution_count": 12,
   "id": "e42aa533",
   "metadata": {
    "execution": {
     "iopub.execute_input": "2024-05-06T12:39:00.841727Z",
     "iopub.status.busy": "2024-05-06T12:39:00.841727Z",
     "iopub.status.idle": "2024-05-06T12:39:01.919923Z",
     "shell.execute_reply": "2024-05-06T12:39:01.919923Z"
    }
   },
   "outputs": [
    {
     "name": "stdout",
     "output_type": "stream",
     "text": [
      "PyAEDT INFO: Desktop has been released and closed.\n"
     ]
    },
    {
     "name": "stderr",
     "output_type": "stream",
     "text": [
      "INFO - AEDT is released.\n"
     ]
    },
    {
     "data": {
      "text/plain": [
       "True"
      ]
     },
     "execution_count": 12,
     "metadata": {},
     "output_type": "execute_result"
    }
   ],
   "source": [
    "toolkit.release_aedt(True, True)"
   ]
  },
  {
   "cell_type": "markdown",
   "id": "99602b93",
   "metadata": {},
   "source": [
    "## Remove temporary folder\n",
    "\n",
    "Remove the temporary folder."
   ]
  },
  {
   "cell_type": "code",
   "execution_count": 13,
   "id": "32ce2964",
   "metadata": {
    "execution": {
     "iopub.execute_input": "2024-05-06T12:39:01.919923Z",
     "iopub.status.busy": "2024-05-06T12:39:01.919923Z",
     "iopub.status.idle": "2024-05-06T12:39:01.951129Z",
     "shell.execute_reply": "2024-05-06T12:39:01.951129Z"
    }
   },
   "outputs": [],
   "source": [
    "shutil.rmtree(temp_folder, ignore_errors=True)"
   ]
  }
 ],
 "metadata": {
  "jupytext": {
   "cell_metadata_filter": "-all",
   "main_language": "python",
   "notebook_metadata_filter": "-all",
   "text_representation": {
    "extension": ".py",
    "format_name": "light"
   }
  },
  "language_info": {
   "codemirror_mode": {
    "name": "ipython",
    "version": 3
   },
   "file_extension": ".py",
   "mimetype": "text/x-python",
   "name": "python",
   "nbconvert_exporter": "python",
   "pygments_lexer": "ipython3",
   "version": "3.10.11"
  }
 },
 "nbformat": 4,
 "nbformat_minor": 5
}
