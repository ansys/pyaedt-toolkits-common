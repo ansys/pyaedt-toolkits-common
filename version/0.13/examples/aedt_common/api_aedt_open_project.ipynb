{
 "cells": [
  {
   "cell_type": "markdown",
   "id": "4fcd564b",
   "metadata": {},
   "source": [
    "# AEDT open project example\n",
    "\n",
    "This example shows how to use the ``AEDTCommon`` class to\n",
    "launch a new AEDT session in a thread and\n",
    "open an existing AEDT project."
   ]
  },
  {
   "cell_type": "markdown",
   "id": "e66c4877",
   "metadata": {},
   "source": [
    "## Perform required imports\n",
    "\n",
    "Perform the required imports."
   ]
  },
  {
   "cell_type": "code",
   "execution_count": 1,
   "id": "ac791c23",
   "metadata": {
    "execution": {
     "iopub.execute_input": "2025-08-21T10:11:43.095578Z",
     "iopub.status.busy": "2025-08-21T10:11:43.095578Z",
     "iopub.status.idle": "2025-08-21T10:11:43.107921Z",
     "shell.execute_reply": "2025-08-21T10:11:43.106916Z"
    }
   },
   "outputs": [],
   "source": [
    "import sys\n",
    "import os\n",
    "import shutil"
   ]
  },
  {
   "cell_type": "code",
   "execution_count": 2,
   "id": "60471e69",
   "metadata": {
    "execution": {
     "iopub.execute_input": "2025-08-21T10:11:43.107921Z",
     "iopub.status.busy": "2025-08-21T10:11:43.107921Z",
     "iopub.status.idle": "2025-08-21T10:11:45.760461Z",
     "shell.execute_reply": "2025-08-21T10:11:45.760461Z"
    }
   },
   "outputs": [],
   "source": [
    "from ansys.aedt.core import generate_unique_folder_name"
   ]
  },
  {
   "cell_type": "code",
   "execution_count": 3,
   "id": "7fad3c03",
   "metadata": {
    "execution": {
     "iopub.execute_input": "2025-08-21T10:11:45.764547Z",
     "iopub.status.busy": "2025-08-21T10:11:45.764547Z",
     "iopub.status.idle": "2025-08-21T10:11:46.050873Z",
     "shell.execute_reply": "2025-08-21T10:11:46.049862Z"
    }
   },
   "outputs": [],
   "source": [
    "from ansys.aedt.toolkits.common.utils import download_file\n",
    "from ansys.aedt.toolkits.common.backend.api import AEDTCommon"
   ]
  },
  {
   "cell_type": "markdown",
   "id": "baaf1b2b",
   "metadata": {},
   "source": [
    "## Initialize temporary folder and project settings\n",
    "\n",
    "Initialize a temporary folder to copy the input file into\n",
    "and specify project settings."
   ]
  },
  {
   "cell_type": "code",
   "execution_count": 4,
   "id": "4a6e501d",
   "metadata": {
    "execution": {
     "iopub.execute_input": "2025-08-21T10:11:46.050873Z",
     "iopub.status.busy": "2025-08-21T10:11:46.050873Z",
     "iopub.status.idle": "2025-08-21T10:11:46.625999Z",
     "shell.execute_reply": "2025-08-21T10:11:46.625999Z"
    }
   },
   "outputs": [
    {
     "data": {
      "text/plain": [
       "'C:\\\\Users\\\\ansys\\\\AppData\\\\Local\\\\Temp\\\\pyaedt_prj_IHS\\\\Test.aedt'"
      ]
     },
     "execution_count": 4,
     "metadata": {},
     "output_type": "execute_result"
    }
   ],
   "source": [
    "URL_BASE = \"https://raw.githubusercontent.com/ansys/example-data/master/toolkits/common/\"\n",
    "AEDT_PROJECT = \"Test.aedt\"\n",
    "URL = os.path.join(URL_BASE, AEDT_PROJECT)\n",
    "\n",
    "temp_folder = os.path.join(generate_unique_folder_name())\n",
    "\n",
    "local_project = os.path.join(temp_folder, AEDT_PROJECT)\n",
    "\n",
    "download_file(URL, local_project)"
   ]
  },
  {
   "cell_type": "markdown",
   "id": "ed6664cb",
   "metadata": {},
   "source": [
    "## Initialize toolkit\n",
    "\n",
    "Initialize the toolkit."
   ]
  },
  {
   "cell_type": "code",
   "execution_count": 5,
   "id": "759508f7",
   "metadata": {
    "execution": {
     "iopub.execute_input": "2025-08-21T10:11:46.629429Z",
     "iopub.status.busy": "2025-08-21T10:11:46.629429Z",
     "iopub.status.idle": "2025-08-21T10:11:46.633869Z",
     "shell.execute_reply": "2025-08-21T10:11:46.633869Z"
    }
   },
   "outputs": [],
   "source": [
    "toolkit = AEDTCommon()"
   ]
  },
  {
   "cell_type": "markdown",
   "id": "e2aa96b8",
   "metadata": {},
   "source": [
    "## Initialize AEDT\n",
    "\n",
    "Launch a new AEDT session in a thread."
   ]
  },
  {
   "cell_type": "code",
   "execution_count": 6,
   "id": "5c7204ec",
   "metadata": {
    "execution": {
     "iopub.execute_input": "2025-08-21T10:11:46.633869Z",
     "iopub.status.busy": "2025-08-21T10:11:46.633869Z",
     "iopub.status.idle": "2025-08-21T10:11:46.647600Z",
     "shell.execute_reply": "2025-08-21T10:11:46.647600Z"
    }
   },
   "outputs": [],
   "source": [
    "thread_msg = toolkit.launch_thread(toolkit.launch_aedt)"
   ]
  },
  {
   "cell_type": "markdown",
   "id": "7a2eb7d8",
   "metadata": {},
   "source": [
    "## Wait for the toolkit thread to be idle\n",
    "\n",
    "Wait for the toolkit thread to be idle and ready to accept a new task."
   ]
  },
  {
   "cell_type": "code",
   "execution_count": 7,
   "id": "40fb3a28",
   "metadata": {
    "execution": {
     "iopub.execute_input": "2025-08-21T10:11:46.649877Z",
     "iopub.status.busy": "2025-08-21T10:11:46.649877Z",
     "iopub.status.idle": "2025-08-21T10:11:58.663499Z",
     "shell.execute_reply": "2025-08-21T10:11:58.662147Z"
    }
   },
   "outputs": [],
   "source": [
    "idle = toolkit.wait_to_be_idle()\n",
    "if not idle:\n",
    "    print(\"AEDT not initialized.\")\n",
    "    sys.exit()"
   ]
  },
  {
   "cell_type": "markdown",
   "id": "d4661893",
   "metadata": {},
   "source": [
    "## Open project\n",
    "\n",
    "Open the project."
   ]
  },
  {
   "cell_type": "code",
   "execution_count": 8,
   "id": "04a37ae1",
   "metadata": {
    "execution": {
     "iopub.execute_input": "2025-08-21T10:11:58.665676Z",
     "iopub.status.busy": "2025-08-21T10:11:58.665676Z",
     "iopub.status.idle": "2025-08-21T10:11:59.734091Z",
     "shell.execute_reply": "2025-08-21T10:11:59.734091Z"
    }
   },
   "outputs": [
    {
     "name": "stderr",
     "output_type": "stream",
     "text": [
      "INFO - Updating internal properties.\n"
     ]
    },
    {
     "name": "stderr",
     "output_type": "stream",
     "text": [
      "INFO - AEDT is released.\n"
     ]
    }
   ],
   "source": [
    "open_msg = toolkit.open_project(local_project)"
   ]
  },
  {
   "cell_type": "markdown",
   "id": "ada47f15",
   "metadata": {},
   "source": [
    "## Get toolkit properties\n",
    "\n",
    "Get the toolkit properties, which contain the project information."
   ]
  },
  {
   "cell_type": "code",
   "execution_count": 9,
   "id": "26bf0968",
   "metadata": {
    "execution": {
     "iopub.execute_input": "2025-08-21T10:11:59.734091Z",
     "iopub.status.busy": "2025-08-21T10:11:59.734091Z",
     "iopub.status.idle": "2025-08-21T10:11:59.741386Z",
     "shell.execute_reply": "2025-08-21T10:11:59.741386Z"
    }
   },
   "outputs": [],
   "source": [
    "new_properties = toolkit.get_properties()"
   ]
  },
  {
   "cell_type": "markdown",
   "id": "d462ef9e",
   "metadata": {},
   "source": [
    "## Connect design\n",
    "\n",
    "Connect or create a new design."
   ]
  },
  {
   "cell_type": "code",
   "execution_count": 10,
   "id": "e6d582e2",
   "metadata": {
    "execution": {
     "iopub.execute_input": "2025-08-21T10:11:59.741386Z",
     "iopub.status.busy": "2025-08-21T10:11:59.741386Z",
     "iopub.status.idle": "2025-08-21T10:12:23.828614Z",
     "shell.execute_reply": "2025-08-21T10:12:23.828614Z"
    }
   },
   "outputs": [
    {
     "name": "stderr",
     "output_type": "stream",
     "text": [
      "INFO - Updating internal properties.\n"
     ]
    },
    {
     "name": "stderr",
     "output_type": "stream",
     "text": [
      "INFO - Toolkit is connected to AEDT design.\n"
     ]
    },
    {
     "data": {
      "text/plain": [
       "True"
      ]
     },
     "execution_count": 10,
     "metadata": {},
     "output_type": "execute_result"
    }
   ],
   "source": [
    "toolkit.connect_design()"
   ]
  },
  {
   "cell_type": "markdown",
   "id": "4beaeced",
   "metadata": {},
   "source": [
    "## Create a box\n",
    "\n",
    "Create a box in the design."
   ]
  },
  {
   "cell_type": "code",
   "execution_count": 11,
   "id": "db05471a",
   "metadata": {
    "execution": {
     "iopub.execute_input": "2025-08-21T10:12:23.830623Z",
     "iopub.status.busy": "2025-08-21T10:12:23.830623Z",
     "iopub.status.idle": "2025-08-21T10:12:25.393692Z",
     "shell.execute_reply": "2025-08-21T10:12:25.393692Z"
    }
   },
   "outputs": [
    {
     "name": "stderr",
     "output_type": "stream",
     "text": [
      "INFO - Create Box\n"
     ]
    },
    {
     "name": "stdout",
     "output_type": "stream",
     "text": [
      "PyAEDT ERROR: **************************************************************\n"
     ]
    },
    {
     "name": "stdout",
     "output_type": "stream",
     "text": [
      "PyAEDT ERROR:   File \"<frozen runpy>\", line 198, in _run_module_as_main\n"
     ]
    },
    {
     "name": "stdout",
     "output_type": "stream",
     "text": [
      "PyAEDT ERROR:   File \"<frozen runpy>\", line 88, in _run_code\n"
     ]
    },
    {
     "name": "stdout",
     "output_type": "stream",
     "text": [
      "PyAEDT ERROR:   File \"C:\\actions-runner\\_work\\pyaedt-toolkits-common\\pyaedt-toolkits-common\\.venv\\Lib\\site-packages\\ipykernel_launcher.py\", line 18, in <module>\n"
     ]
    },
    {
     "name": "stdout",
     "output_type": "stream",
     "text": [
      "PyAEDT ERROR:     app.launch_new_instance()\n"
     ]
    },
    {
     "name": "stdout",
     "output_type": "stream",
     "text": [
      "PyAEDT ERROR:   File \"C:\\actions-runner\\_work\\pyaedt-toolkits-common\\pyaedt-toolkits-common\\.venv\\Lib\\site-packages\\traitlets\\config\\application.py\", line 1075, in launch_instance\n"
     ]
    },
    {
     "name": "stdout",
     "output_type": "stream",
     "text": [
      "PyAEDT ERROR:     app.start()\n"
     ]
    },
    {
     "name": "stdout",
     "output_type": "stream",
     "text": [
      "PyAEDT ERROR:   File \"C:\\actions-runner\\_work\\pyaedt-toolkits-common\\pyaedt-toolkits-common\\.venv\\Lib\\site-packages\\ipykernel\\kernelapp.py\", line 739, in start\n"
     ]
    },
    {
     "name": "stdout",
     "output_type": "stream",
     "text": [
      "PyAEDT ERROR:     self.io_loop.start()\n"
     ]
    },
    {
     "name": "stdout",
     "output_type": "stream",
     "text": [
      "PyAEDT ERROR:   File \"C:\\actions-runner\\_work\\pyaedt-toolkits-common\\pyaedt-toolkits-common\\.venv\\Lib\\site-packages\\tornado\\platform\\asyncio.py\", line 211, in start\n"
     ]
    },
    {
     "name": "stdout",
     "output_type": "stream",
     "text": [
      "PyAEDT ERROR:     self.asyncio_loop.run_forever()\n"
     ]
    },
    {
     "name": "stdout",
     "output_type": "stream",
     "text": [
      "PyAEDT ERROR:   File \"C:\\actions-runner\\_work\\_tool\\Python\\3.12.10\\x64\\Lib\\asyncio\\base_events.py\", line 645, in run_forever\n"
     ]
    },
    {
     "name": "stdout",
     "output_type": "stream",
     "text": [
      "PyAEDT ERROR:     self._run_once()\n"
     ]
    },
    {
     "name": "stdout",
     "output_type": "stream",
     "text": [
      "PyAEDT ERROR:   File \"C:\\actions-runner\\_work\\_tool\\Python\\3.12.10\\x64\\Lib\\asyncio\\base_events.py\", line 1999, in _run_once\n"
     ]
    },
    {
     "name": "stdout",
     "output_type": "stream",
     "text": [
      "PyAEDT ERROR:     handle._run()\n"
     ]
    },
    {
     "name": "stdout",
     "output_type": "stream",
     "text": [
      "PyAEDT ERROR:   File \"C:\\actions-runner\\_work\\_tool\\Python\\3.12.10\\x64\\Lib\\asyncio\\events.py\", line 88, in _run\n"
     ]
    },
    {
     "name": "stdout",
     "output_type": "stream",
     "text": [
      "PyAEDT ERROR:     self._context.run(self._callback, *self._args)\n"
     ]
    },
    {
     "name": "stdout",
     "output_type": "stream",
     "text": [
      "PyAEDT ERROR:   File \"C:\\actions-runner\\_work\\pyaedt-toolkits-common\\pyaedt-toolkits-common\\.venv\\Lib\\site-packages\\ipykernel\\kernelbase.py\", line 519, in dispatch_queue\n"
     ]
    },
    {
     "name": "stdout",
     "output_type": "stream",
     "text": [
      "PyAEDT ERROR:     await self.process_one()\n"
     ]
    },
    {
     "name": "stdout",
     "output_type": "stream",
     "text": [
      "PyAEDT ERROR:   File \"C:\\actions-runner\\_work\\pyaedt-toolkits-common\\pyaedt-toolkits-common\\.venv\\Lib\\site-packages\\ipykernel\\kernelbase.py\", line 508, in process_one\n"
     ]
    },
    {
     "name": "stdout",
     "output_type": "stream",
     "text": [
      "PyAEDT ERROR:     await dispatch(*args)\n"
     ]
    },
    {
     "name": "stdout",
     "output_type": "stream",
     "text": [
      "PyAEDT ERROR:   File \"C:\\actions-runner\\_work\\pyaedt-toolkits-common\\pyaedt-toolkits-common\\.venv\\Lib\\site-packages\\ipykernel\\kernelbase.py\", line 400, in dispatch_shell\n"
     ]
    },
    {
     "name": "stdout",
     "output_type": "stream",
     "text": [
      "PyAEDT ERROR:     await result\n"
     ]
    },
    {
     "name": "stdout",
     "output_type": "stream",
     "text": [
      "PyAEDT ERROR:   File \"C:\\actions-runner\\_work\\pyaedt-toolkits-common\\pyaedt-toolkits-common\\.venv\\Lib\\site-packages\\ipykernel\\ipkernel.py\", line 368, in execute_request\n"
     ]
    },
    {
     "name": "stdout",
     "output_type": "stream",
     "text": [
      "PyAEDT ERROR:     await super().execute_request(stream, ident, parent)\n"
     ]
    },
    {
     "name": "stdout",
     "output_type": "stream",
     "text": [
      "PyAEDT ERROR:   File \"C:\\actions-runner\\_work\\pyaedt-toolkits-common\\pyaedt-toolkits-common\\.venv\\Lib\\site-packages\\ipykernel\\kernelbase.py\", line 767, in execute_request\n"
     ]
    },
    {
     "name": "stdout",
     "output_type": "stream",
     "text": [
      "PyAEDT ERROR:     reply_content = await reply_content\n"
     ]
    },
    {
     "name": "stdout",
     "output_type": "stream",
     "text": [
      "PyAEDT ERROR:   File \"C:\\actions-runner\\_work\\pyaedt-toolkits-common\\pyaedt-toolkits-common\\.venv\\Lib\\site-packages\\ipykernel\\ipkernel.py\", line 455, in do_execute\n"
     ]
    },
    {
     "name": "stdout",
     "output_type": "stream",
     "text": [
      "PyAEDT ERROR:     res = shell.run_cell(\n"
     ]
    },
    {
     "name": "stdout",
     "output_type": "stream",
     "text": [
      "PyAEDT ERROR:   File \"C:\\actions-runner\\_work\\pyaedt-toolkits-common\\pyaedt-toolkits-common\\.venv\\Lib\\site-packages\\ipykernel\\zmqshell.py\", line 577, in run_cell\n"
     ]
    },
    {
     "name": "stdout",
     "output_type": "stream",
     "text": [
      "PyAEDT ERROR:     return super().run_cell(*args, **kwargs)\n"
     ]
    },
    {
     "name": "stdout",
     "output_type": "stream",
     "text": [
      "PyAEDT ERROR:   File \"C:\\Users\\ansys\\AppData\\Local\\Temp\\ipykernel_7656\\396100405.py\", line 3, in <module>\n"
     ]
    },
    {
     "name": "stdout",
     "output_type": "stream",
     "text": [
      "PyAEDT ERROR:     model = box.plot(show=False)\n"
     ]
    },
    {
     "name": "stdout",
     "output_type": "stream",
     "text": [
      "PyAEDT ERROR:   File \"C:\\actions-runner\\_work\\pyaedt-toolkits-common\\pyaedt-toolkits-common\\.venv\\Lib\\site-packages\\ansys\\aedt\\core\\internal\\checks.py\", line 99, in wrapper\n"
     ]
    },
    {
     "name": "stdout",
     "output_type": "stream",
     "text": [
      "PyAEDT ERROR:     raise AEDTRuntimeError(\"The AEDT desktop object is not available.\")\n"
     ]
    },
    {
     "name": "stdout",
     "output_type": "stream",
     "text": [
      "PyAEDT ERROR: The aedt desktop object is not available. on plot\n"
     ]
    },
    {
     "name": "stdout",
     "output_type": "stream",
     "text": [
      "PyAEDT ERROR: **************************************************************\n"
     ]
    },
    {
     "ename": "AttributeError",
     "evalue": "'bool' object has no attribute 'show_grid'",
     "output_type": "error",
     "traceback": [
      "\u001b[31m---------------------------------------------------------------------------\u001b[39m",
      "\u001b[31mAttributeError\u001b[39m                            Traceback (most recent call last)",
      "\u001b[36mCell\u001b[39m\u001b[36m \u001b[39m\u001b[32mIn[11]\u001b[39m\u001b[32m, line 4\u001b[39m\n\u001b[32m      2\u001b[39m box = toolkit.aedtapp.modeler.create_box([\u001b[32m10\u001b[39m, \u001b[32m10\u001b[39m, \u001b[32m10\u001b[39m], [\u001b[32m20\u001b[39m, \u001b[32m20\u001b[39m, \u001b[32m20\u001b[39m])\n\u001b[32m      3\u001b[39m model = box.plot(show=\u001b[38;5;28;01mFalse\u001b[39;00m)\n\u001b[32m----> \u001b[39m\u001b[32m4\u001b[39m \u001b[43mmodel\u001b[49m\u001b[43m.\u001b[49m\u001b[43mshow_grid\u001b[49m = \u001b[38;5;28;01mFalse\u001b[39;00m\n\u001b[32m      5\u001b[39m model.plot(os.path.join(toolkit.aedtapp.working_directory, \u001b[33m\"\u001b[39m\u001b[33mImage.jpg\u001b[39m\u001b[33m\"\u001b[39m))\n",
      "\u001b[31mAttributeError\u001b[39m: 'bool' object has no attribute 'show_grid'"
     ]
    }
   ],
   "source": [
    "toolkit.logger.info(\"Create Box\")\n",
    "box = toolkit.aedtapp.modeler.create_box([10, 10, 10], [20, 20, 20])\n",
    "model = box.plot(show=False)\n",
    "model.show_grid = False\n",
    "model.plot(os.path.join(toolkit.aedtapp.working_directory, \"Image.jpg\"))"
   ]
  },
  {
   "cell_type": "markdown",
   "id": "02f370ed",
   "metadata": {},
   "source": [
    "## Save and release AEDT\n",
    "\n",
    "Save and release AEDT."
   ]
  },
  {
   "cell_type": "code",
   "execution_count": 12,
   "id": "f14d9239",
   "metadata": {
    "execution": {
     "iopub.execute_input": "2025-08-21T10:12:25.393692Z",
     "iopub.status.busy": "2025-08-21T10:12:25.393692Z",
     "iopub.status.idle": "2025-08-21T10:12:46.448205Z",
     "shell.execute_reply": "2025-08-21T10:12:46.448205Z"
    }
   },
   "outputs": [
    {
     "name": "stderr",
     "output_type": "stream",
     "text": [
      "INFO - AEDT is released.\n"
     ]
    },
    {
     "data": {
      "text/plain": [
       "True"
      ]
     },
     "execution_count": 12,
     "metadata": {},
     "output_type": "execute_result"
    }
   ],
   "source": [
    "toolkit.release_aedt(True, True)"
   ]
  },
  {
   "cell_type": "markdown",
   "id": "1f4137b9",
   "metadata": {},
   "source": [
    "## Remove temporary folder\n",
    "\n",
    "Remove the temporary folder."
   ]
  },
  {
   "cell_type": "code",
   "execution_count": 13,
   "id": "dc0d4813",
   "metadata": {
    "execution": {
     "iopub.execute_input": "2025-08-21T10:12:46.448205Z",
     "iopub.status.busy": "2025-08-21T10:12:46.448205Z",
     "iopub.status.idle": "2025-08-21T10:12:46.461210Z",
     "shell.execute_reply": "2025-08-21T10:12:46.461210Z"
    }
   },
   "outputs": [],
   "source": [
    "shutil.rmtree(temp_folder, ignore_errors=True)"
   ]
  }
 ],
 "metadata": {
  "jupytext": {
   "cell_metadata_filter": "-all",
   "main_language": "python",
   "notebook_metadata_filter": "-all",
   "text_representation": {
    "extension": ".py",
    "format_name": "light"
   }
  },
  "language_info": {
   "codemirror_mode": {
    "name": "ipython",
    "version": 3
   },
   "file_extension": ".py",
   "mimetype": "text/x-python",
   "name": "python",
   "nbconvert_exporter": "python",
   "pygments_lexer": "ipython3",
   "version": "3.12.10"
  }
 },
 "nbformat": 4,
 "nbformat_minor": 5
}
