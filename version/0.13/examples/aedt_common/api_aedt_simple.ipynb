{
 "cells": [
  {
   "cell_type": "markdown",
   "id": "f002fbae",
   "metadata": {},
   "source": [
    "# AEDT simple example\n",
    "\n",
    "This example shows how to use the ``AEDTCommon`` class to\n",
    "launch a new AEDT session in a thread,\n",
    "create an HFSS design, and create a coaxial."
   ]
  },
  {
   "cell_type": "markdown",
   "id": "e560ab4d",
   "metadata": {},
   "source": [
    "## Perform required imports\n",
    "\n",
    "Perform the required imports."
   ]
  },
  {
   "cell_type": "code",
   "execution_count": 1,
   "id": "f643f037",
   "metadata": {
    "execution": {
     "iopub.execute_input": "2025-08-21T10:12:53.025832Z",
     "iopub.status.busy": "2025-08-21T10:12:53.025832Z",
     "iopub.status.idle": "2025-08-21T10:12:56.242539Z",
     "shell.execute_reply": "2025-08-21T10:12:56.242539Z"
    }
   },
   "outputs": [],
   "source": [
    "import sys\n",
    "from ansys.aedt.toolkits.common.backend.api import AEDTCommon"
   ]
  },
  {
   "cell_type": "markdown",
   "id": "e12a8817",
   "metadata": {},
   "source": [
    "## Initialize toolkit\n",
    "\n",
    "Initialize the toolkit."
   ]
  },
  {
   "cell_type": "code",
   "execution_count": 2,
   "id": "5d962f5c",
   "metadata": {
    "execution": {
     "iopub.execute_input": "2025-08-21T10:12:56.242539Z",
     "iopub.status.busy": "2025-08-21T10:12:56.242539Z",
     "iopub.status.idle": "2025-08-21T10:12:56.250497Z",
     "shell.execute_reply": "2025-08-21T10:12:56.250497Z"
    }
   },
   "outputs": [],
   "source": [
    "toolkit = AEDTCommon()"
   ]
  },
  {
   "cell_type": "markdown",
   "id": "23932821",
   "metadata": {},
   "source": [
    "## Get toolkit properties\n",
    "\n",
    "Get the toolkit properties."
   ]
  },
  {
   "cell_type": "code",
   "execution_count": 3,
   "id": "7d0e66a7",
   "metadata": {
    "execution": {
     "iopub.execute_input": "2025-08-21T10:12:56.252248Z",
     "iopub.status.busy": "2025-08-21T10:12:56.252248Z",
     "iopub.status.idle": "2025-08-21T10:12:56.257529Z",
     "shell.execute_reply": "2025-08-21T10:12:56.257529Z"
    }
   },
   "outputs": [],
   "source": [
    "properties_from_backend = toolkit.get_properties()"
   ]
  },
  {
   "cell_type": "markdown",
   "id": "bbb966b5",
   "metadata": {},
   "source": [
    "## Set properties\n",
    "\n",
    "Set non-graphical mode."
   ]
  },
  {
   "cell_type": "code",
   "execution_count": 4,
   "id": "5a674973",
   "metadata": {
    "execution": {
     "iopub.execute_input": "2025-08-21T10:12:56.257529Z",
     "iopub.status.busy": "2025-08-21T10:12:56.257529Z",
     "iopub.status.idle": "2025-08-21T10:12:56.265832Z",
     "shell.execute_reply": "2025-08-21T10:12:56.265832Z"
    }
   },
   "outputs": [
    {
     "name": "stderr",
     "output_type": "stream",
     "text": [
      "INFO - Updating internal properties.\n"
     ]
    }
   ],
   "source": [
    "set_properties = {\"non_graphical\": True}\n",
    "flag_set_properties, msg_set_properties = toolkit.set_properties(set_properties)"
   ]
  },
  {
   "cell_type": "markdown",
   "id": "fae099d9",
   "metadata": {},
   "source": [
    "## Initialize AEDT\n",
    "\n",
    "Launch a new AEDT session in a thread."
   ]
  },
  {
   "cell_type": "code",
   "execution_count": 5,
   "id": "53420fbb",
   "metadata": {
    "execution": {
     "iopub.execute_input": "2025-08-21T10:12:56.268354Z",
     "iopub.status.busy": "2025-08-21T10:12:56.268354Z",
     "iopub.status.idle": "2025-08-21T10:12:56.280315Z",
     "shell.execute_reply": "2025-08-21T10:12:56.280315Z"
    }
   },
   "outputs": [],
   "source": [
    "thread_msg = toolkit.launch_thread(toolkit.launch_aedt)"
   ]
  },
  {
   "cell_type": "markdown",
   "id": "a7d30f6e",
   "metadata": {},
   "source": [
    "## Wait for the toolkit thread to be idle\n",
    "\n",
    "Wait for the toolkit thread to be idle and ready to accept a new task."
   ]
  },
  {
   "cell_type": "code",
   "execution_count": 6,
   "id": "f3124add",
   "metadata": {
    "execution": {
     "iopub.execute_input": "2025-08-21T10:12:56.284125Z",
     "iopub.status.busy": "2025-08-21T10:12:56.282385Z",
     "iopub.status.idle": "2025-08-21T10:13:09.320920Z",
     "shell.execute_reply": "2025-08-21T10:13:09.320920Z"
    }
   },
   "outputs": [],
   "source": [
    "idle = toolkit.wait_to_be_idle()\n",
    "if not idle:\n",
    "    print(\"AEDT not initialized.\")\n",
    "    sys.exit()"
   ]
  },
  {
   "cell_type": "markdown",
   "id": "e0c9fc0b",
   "metadata": {},
   "source": [
    "## Connect design\n",
    "\n",
    "Connect or create a new design."
   ]
  },
  {
   "cell_type": "code",
   "execution_count": 7,
   "id": "035d7e6f",
   "metadata": {
    "execution": {
     "iopub.execute_input": "2025-08-21T10:13:09.320920Z",
     "iopub.status.busy": "2025-08-21T10:13:09.320920Z",
     "iopub.status.idle": "2025-08-21T10:13:34.410743Z",
     "shell.execute_reply": "2025-08-21T10:13:34.410743Z"
    }
   },
   "outputs": [
    {
     "name": "stderr",
     "output_type": "stream",
     "text": [
      "INFO - Updating internal properties.\n"
     ]
    },
    {
     "name": "stderr",
     "output_type": "stream",
     "text": [
      "INFO - Toolkit is connected to AEDT design.\n"
     ]
    },
    {
     "data": {
      "text/plain": [
       "True"
      ]
     },
     "execution_count": 7,
     "metadata": {},
     "output_type": "execute_result"
    }
   ],
   "source": [
    "toolkit.connect_design(\"HFSS\")"
   ]
  },
  {
   "cell_type": "markdown",
   "id": "6fbc4188",
   "metadata": {},
   "source": [
    "## Get toolkit properties\n",
    "\n",
    "Get the toolkit properties, which contain the project information."
   ]
  },
  {
   "cell_type": "code",
   "execution_count": 8,
   "id": "5821e760",
   "metadata": {
    "execution": {
     "iopub.execute_input": "2025-08-21T10:13:34.410743Z",
     "iopub.status.busy": "2025-08-21T10:13:34.410743Z",
     "iopub.status.idle": "2025-08-21T10:13:34.418467Z",
     "shell.execute_reply": "2025-08-21T10:13:34.418467Z"
    }
   },
   "outputs": [],
   "source": [
    "new_properties = toolkit.get_properties()"
   ]
  },
  {
   "cell_type": "markdown",
   "id": "f4cfa77b",
   "metadata": {},
   "source": [
    "## Create a coaxial\n",
    "\n",
    "Create a coaxial in the design."
   ]
  },
  {
   "cell_type": "code",
   "execution_count": 9,
   "id": "b9d96bec",
   "metadata": {
    "execution": {
     "iopub.execute_input": "2025-08-21T10:13:34.418467Z",
     "iopub.status.busy": "2025-08-21T10:13:34.418467Z",
     "iopub.status.idle": "2025-08-21T10:13:36.283054Z",
     "shell.execute_reply": "2025-08-21T10:13:36.283054Z"
    }
   },
   "outputs": [],
   "source": [
    "coax = toolkit.aedtapp.modeler.create_coaxial([0, 0, 0], 1)"
   ]
  },
  {
   "cell_type": "markdown",
   "id": "e6b1c0e1",
   "metadata": {},
   "source": [
    "## Release AEDT\n",
    "\n",
    "Release AEDT."
   ]
  },
  {
   "cell_type": "code",
   "execution_count": 10,
   "id": "61f9cfde",
   "metadata": {
    "execution": {
     "iopub.execute_input": "2025-08-21T10:13:36.287389Z",
     "iopub.status.busy": "2025-08-21T10:13:36.287389Z",
     "iopub.status.idle": "2025-08-21T10:13:36.516352Z",
     "shell.execute_reply": "2025-08-21T10:13:36.516352Z"
    }
   },
   "outputs": [
    {
     "name": "stderr",
     "output_type": "stream",
     "text": [
      "INFO - AEDT is released.\n"
     ]
    },
    {
     "data": {
      "text/plain": [
       "True"
      ]
     },
     "execution_count": 10,
     "metadata": {},
     "output_type": "execute_result"
    }
   ],
   "source": [
    "toolkit.release_aedt(False, False)"
   ]
  },
  {
   "cell_type": "markdown",
   "id": "9c359228",
   "metadata": {},
   "source": [
    "## Export AEDT model\n",
    "\n",
    "Export the OBJ files."
   ]
  },
  {
   "cell_type": "code",
   "execution_count": 11,
   "id": "4d90fa7b",
   "metadata": {
    "execution": {
     "iopub.execute_input": "2025-08-21T10:13:36.519822Z",
     "iopub.status.busy": "2025-08-21T10:13:36.519822Z",
     "iopub.status.idle": "2025-08-21T10:13:37.910958Z",
     "shell.execute_reply": "2025-08-21T10:13:37.910958Z"
    }
   },
   "outputs": [
    {
     "name": "stderr",
     "output_type": "stream",
     "text": [
      "INFO - Toolkit is connected to AEDT design.\n"
     ]
    },
    {
     "name": "stderr",
     "output_type": "stream",
     "text": [
      "INFO - AEDT is released.\n"
     ]
    }
   ],
   "source": [
    "files = toolkit.export_aedt_model()"
   ]
  },
  {
   "cell_type": "markdown",
   "id": "1e782290",
   "metadata": {},
   "source": [
    "## Release and close AEDT\n",
    "\n",
    "Release and close AEDT."
   ]
  },
  {
   "cell_type": "code",
   "execution_count": 12,
   "id": "1eedea42",
   "metadata": {
    "execution": {
     "iopub.execute_input": "2025-08-21T10:13:37.910958Z",
     "iopub.status.busy": "2025-08-21T10:13:37.910958Z",
     "iopub.status.idle": "2025-08-21T10:13:52.185538Z",
     "shell.execute_reply": "2025-08-21T10:13:52.185538Z"
    }
   },
   "outputs": [
    {
     "name": "stderr",
     "output_type": "stream",
     "text": [
      "INFO - AEDT is released.\n"
     ]
    },
    {
     "data": {
      "text/plain": [
       "True"
      ]
     },
     "execution_count": 12,
     "metadata": {},
     "output_type": "execute_result"
    }
   ],
   "source": [
    "toolkit.release_aedt(True, True)"
   ]
  }
 ],
 "metadata": {
  "jupytext": {
   "cell_metadata_filter": "-all",
   "main_language": "python",
   "notebook_metadata_filter": "-all",
   "text_representation": {
    "extension": ".py",
    "format_name": "light"
   }
  },
  "language_info": {
   "codemirror_mode": {
    "name": "ipython",
    "version": 3
   },
   "file_extension": ".py",
   "mimetype": "text/x-python",
   "name": "python",
   "nbconvert_exporter": "python",
   "pygments_lexer": "ipython3",
   "version": "3.12.10"
  }
 },
 "nbformat": 4,
 "nbformat_minor": 5
}
