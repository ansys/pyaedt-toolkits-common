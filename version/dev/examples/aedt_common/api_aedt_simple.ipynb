{
 "cells": [
  {
   "cell_type": "markdown",
   "id": "5a4be353",
   "metadata": {},
   "source": [
    "# AEDT simple example\n",
    "\n",
    "This example shows how to use the ``AEDTCommon`` class to\n",
    "launch a new AEDT session in a thread,\n",
    "create an HFSS design, and create a coaxial."
   ]
  },
  {
   "cell_type": "markdown",
   "id": "0263553a",
   "metadata": {},
   "source": [
    "## Perform required imports\n",
    "\n",
    "Perform the required imports."
   ]
  },
  {
   "cell_type": "code",
   "execution_count": 1,
   "id": "7888dd60",
   "metadata": {
    "execution": {
     "iopub.execute_input": "2025-10-10T15:52:24.352274Z",
     "iopub.status.busy": "2025-10-10T15:52:24.352274Z",
     "iopub.status.idle": "2025-10-10T15:52:28.235188Z",
     "shell.execute_reply": "2025-10-10T15:52:28.235188Z"
    }
   },
   "outputs": [],
   "source": [
    "import sys\n",
    "from ansys.aedt.toolkits.common.backend.api import AEDTCommon"
   ]
  },
  {
   "cell_type": "markdown",
   "id": "7fd48578",
   "metadata": {},
   "source": [
    "## Initialize toolkit\n",
    "\n",
    "Initialize the toolkit."
   ]
  },
  {
   "cell_type": "code",
   "execution_count": 2,
   "id": "fcc378ac",
   "metadata": {
    "execution": {
     "iopub.execute_input": "2025-10-10T15:52:28.235188Z",
     "iopub.status.busy": "2025-10-10T15:52:28.235188Z",
     "iopub.status.idle": "2025-10-10T15:52:28.243504Z",
     "shell.execute_reply": "2025-10-10T15:52:28.243504Z"
    }
   },
   "outputs": [],
   "source": [
    "toolkit = AEDTCommon()"
   ]
  },
  {
   "cell_type": "markdown",
   "id": "28d6582b",
   "metadata": {},
   "source": [
    "## Get toolkit properties\n",
    "\n",
    "Get the toolkit properties."
   ]
  },
  {
   "cell_type": "code",
   "execution_count": 3,
   "id": "6ca4504c",
   "metadata": {
    "execution": {
     "iopub.execute_input": "2025-10-10T15:52:28.243504Z",
     "iopub.status.busy": "2025-10-10T15:52:28.243504Z",
     "iopub.status.idle": "2025-10-10T15:52:28.250409Z",
     "shell.execute_reply": "2025-10-10T15:52:28.250409Z"
    }
   },
   "outputs": [],
   "source": [
    "properties_from_backend = toolkit.get_properties()"
   ]
  },
  {
   "cell_type": "markdown",
   "id": "966f03c0",
   "metadata": {},
   "source": [
    "## Set properties\n",
    "\n",
    "Set non-graphical mode."
   ]
  },
  {
   "cell_type": "code",
   "execution_count": 4,
   "id": "9e6b338c",
   "metadata": {
    "execution": {
     "iopub.execute_input": "2025-10-10T15:52:28.250409Z",
     "iopub.status.busy": "2025-10-10T15:52:28.250409Z",
     "iopub.status.idle": "2025-10-10T15:52:28.258802Z",
     "shell.execute_reply": "2025-10-10T15:52:28.258802Z"
    }
   },
   "outputs": [
    {
     "name": "stderr",
     "output_type": "stream",
     "text": [
      "INFO - Updating internal properties.\n"
     ]
    }
   ],
   "source": [
    "set_properties = {\"non_graphical\": True}\n",
    "flag_set_properties, msg_set_properties = toolkit.set_properties(set_properties)"
   ]
  },
  {
   "cell_type": "markdown",
   "id": "99c9aa18",
   "metadata": {},
   "source": [
    "## Initialize AEDT\n",
    "\n",
    "Launch a new AEDT session in a thread."
   ]
  },
  {
   "cell_type": "code",
   "execution_count": 5,
   "id": "180c0d9e",
   "metadata": {
    "execution": {
     "iopub.execute_input": "2025-10-10T15:52:28.258802Z",
     "iopub.status.busy": "2025-10-10T15:52:28.258802Z",
     "iopub.status.idle": "2025-10-10T15:52:28.314390Z",
     "shell.execute_reply": "2025-10-10T15:52:28.314390Z"
    }
   },
   "outputs": [],
   "source": [
    "thread_msg = toolkit.launch_thread(toolkit.launch_aedt)"
   ]
  },
  {
   "cell_type": "markdown",
   "id": "131fd887",
   "metadata": {},
   "source": [
    "## Wait for the toolkit thread to be idle\n",
    "\n",
    "Wait for the toolkit thread to be idle and ready to accept a new task."
   ]
  },
  {
   "cell_type": "code",
   "execution_count": 6,
   "id": "166c9fae",
   "metadata": {
    "execution": {
     "iopub.execute_input": "2025-10-10T15:52:28.314390Z",
     "iopub.status.busy": "2025-10-10T15:52:28.314390Z",
     "iopub.status.idle": "2025-10-10T15:52:40.443252Z",
     "shell.execute_reply": "2025-10-10T15:52:40.443252Z"
    }
   },
   "outputs": [],
   "source": [
    "idle = toolkit.wait_to_be_idle()\n",
    "if not idle:\n",
    "    print(\"AEDT not initialized.\")\n",
    "    sys.exit()"
   ]
  },
  {
   "cell_type": "markdown",
   "id": "c5ac16f1",
   "metadata": {},
   "source": [
    "## Connect design\n",
    "\n",
    "Connect or create a new design."
   ]
  },
  {
   "cell_type": "code",
   "execution_count": 7,
   "id": "4c193a49",
   "metadata": {
    "execution": {
     "iopub.execute_input": "2025-10-10T15:52:40.445011Z",
     "iopub.status.busy": "2025-10-10T15:52:40.445011Z",
     "iopub.status.idle": "2025-10-10T15:53:09.905907Z",
     "shell.execute_reply": "2025-10-10T15:53:09.905907Z"
    }
   },
   "outputs": [
    {
     "name": "stderr",
     "output_type": "stream",
     "text": [
      "INFO - Updating internal properties.\n"
     ]
    },
    {
     "name": "stderr",
     "output_type": "stream",
     "text": [
      "INFO - Toolkit is connected to AEDT design.\n"
     ]
    },
    {
     "data": {
      "text/plain": [
       "True"
      ]
     },
     "execution_count": 7,
     "metadata": {},
     "output_type": "execute_result"
    }
   ],
   "source": [
    "toolkit.connect_design(\"HFSS\")"
   ]
  },
  {
   "cell_type": "markdown",
   "id": "054f76d4",
   "metadata": {},
   "source": [
    "## Get toolkit properties\n",
    "\n",
    "Get the toolkit properties, which contain the project information."
   ]
  },
  {
   "cell_type": "code",
   "execution_count": 8,
   "id": "002d9f11",
   "metadata": {
    "execution": {
     "iopub.execute_input": "2025-10-10T15:53:09.907498Z",
     "iopub.status.busy": "2025-10-10T15:53:09.907498Z",
     "iopub.status.idle": "2025-10-10T15:53:09.913300Z",
     "shell.execute_reply": "2025-10-10T15:53:09.913300Z"
    }
   },
   "outputs": [],
   "source": [
    "new_properties = toolkit.get_properties()"
   ]
  },
  {
   "cell_type": "markdown",
   "id": "c6cdd85e",
   "metadata": {},
   "source": [
    "## Create a coaxial\n",
    "\n",
    "Create a coaxial in the design."
   ]
  },
  {
   "cell_type": "code",
   "execution_count": 9,
   "id": "38c4ac2b",
   "metadata": {
    "execution": {
     "iopub.execute_input": "2025-10-10T15:53:09.915945Z",
     "iopub.status.busy": "2025-10-10T15:53:09.915945Z",
     "iopub.status.idle": "2025-10-10T15:53:12.267765Z",
     "shell.execute_reply": "2025-10-10T15:53:12.267765Z"
    }
   },
   "outputs": [],
   "source": [
    "coax = toolkit.aedtapp.modeler.create_coaxial([0, 0, 0], 1)"
   ]
  },
  {
   "cell_type": "markdown",
   "id": "a54f52d8",
   "metadata": {},
   "source": [
    "## Release AEDT\n",
    "\n",
    "Release AEDT."
   ]
  },
  {
   "cell_type": "code",
   "execution_count": 10,
   "id": "babb2bed",
   "metadata": {
    "execution": {
     "iopub.execute_input": "2025-10-10T15:53:12.270799Z",
     "iopub.status.busy": "2025-10-10T15:53:12.270799Z",
     "iopub.status.idle": "2025-10-10T15:53:12.641274Z",
     "shell.execute_reply": "2025-10-10T15:53:12.641274Z"
    }
   },
   "outputs": [
    {
     "name": "stderr",
     "output_type": "stream",
     "text": [
      "INFO - AEDT is released.\n"
     ]
    },
    {
     "data": {
      "text/plain": [
       "True"
      ]
     },
     "execution_count": 10,
     "metadata": {},
     "output_type": "execute_result"
    }
   ],
   "source": [
    "toolkit.release_aedt(False, False)"
   ]
  },
  {
   "cell_type": "markdown",
   "id": "8e490592",
   "metadata": {},
   "source": [
    "## Export AEDT model\n",
    "\n",
    "Export the OBJ files."
   ]
  },
  {
   "cell_type": "code",
   "execution_count": 11,
   "id": "c91f0e07",
   "metadata": {
    "execution": {
     "iopub.execute_input": "2025-10-10T15:53:12.645323Z",
     "iopub.status.busy": "2025-10-10T15:53:12.645323Z",
     "iopub.status.idle": "2025-10-10T15:53:13.585309Z",
     "shell.execute_reply": "2025-10-10T15:53:13.585309Z"
    }
   },
   "outputs": [
    {
     "name": "stderr",
     "output_type": "stream",
     "text": [
      "INFO - Toolkit is connected to AEDT design.\n"
     ]
    },
    {
     "name": "stderr",
     "output_type": "stream",
     "text": [
      "INFO - AEDT is released.\n"
     ]
    }
   ],
   "source": [
    "files = toolkit.export_aedt_model()"
   ]
  },
  {
   "cell_type": "markdown",
   "id": "9f95a8ce",
   "metadata": {},
   "source": [
    "## Release and close AEDT\n",
    "\n",
    "Release and close AEDT."
   ]
  },
  {
   "cell_type": "code",
   "execution_count": 12,
   "id": "4b6b4c3b",
   "metadata": {
    "execution": {
     "iopub.execute_input": "2025-10-10T15:53:13.589322Z",
     "iopub.status.busy": "2025-10-10T15:53:13.589322Z",
     "iopub.status.idle": "2025-10-10T15:53:37.925505Z",
     "shell.execute_reply": "2025-10-10T15:53:37.925505Z"
    }
   },
   "outputs": [
    {
     "name": "stderr",
     "output_type": "stream",
     "text": [
      "INFO - AEDT is released.\n"
     ]
    },
    {
     "data": {
      "text/plain": [
       "True"
      ]
     },
     "execution_count": 12,
     "metadata": {},
     "output_type": "execute_result"
    }
   ],
   "source": [
    "toolkit.release_aedt(True, True)"
   ]
  }
 ],
 "metadata": {
  "jupytext": {
   "cell_metadata_filter": "-all",
   "main_language": "python",
   "notebook_metadata_filter": "-all",
   "text_representation": {
    "extension": ".py",
    "format_name": "light"
   }
  },
  "language_info": {
   "codemirror_mode": {
    "name": "ipython",
    "version": 3
   },
   "file_extension": ".py",
   "mimetype": "text/x-python",
   "name": "python",
   "nbconvert_exporter": "python",
   "pygments_lexer": "ipython3",
   "version": "3.12.10"
  }
 },
 "nbformat": 4,
 "nbformat_minor": 5
}
