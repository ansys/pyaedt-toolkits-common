{
 "cells": [
  {
   "cell_type": "markdown",
   "id": "e51c8cdf",
   "metadata": {},
   "source": [
    "# AEDT connect session example\n",
    "\n",
    "This example shows how to use the Common AEDT API to\n",
    "connect to an existing  AEDT session,\n",
    "create a HFSS design and create a waveguide."
   ]
  },
  {
   "cell_type": "markdown",
   "id": "899f30b2",
   "metadata": {},
   "source": [
    "## Perform required imports\n",
    "\n",
    "Perform the required imports."
   ]
  },
  {
   "cell_type": "code",
   "execution_count": 1,
   "id": "23be7dc6",
   "metadata": {
    "execution": {
     "iopub.execute_input": "2024-07-08T12:05:23.178137Z",
     "iopub.status.busy": "2024-07-08T12:05:23.178137Z",
     "iopub.status.idle": "2024-07-08T12:05:24.021847Z",
     "shell.execute_reply": "2024-07-08T12:05:24.021847Z"
    },
    "lines_to_next_cell": 2
   },
   "outputs": [],
   "source": [
    "import sys\n",
    "from ansys.aedt.toolkits.common.backend.api import AEDTCommon\n",
    "import pyaedt"
   ]
  },
  {
   "cell_type": "markdown",
   "id": "9edcef81",
   "metadata": {},
   "source": [
    "## Initialize toolkit\n",
    "\n",
    "Initialize the toolkit."
   ]
  },
  {
   "cell_type": "code",
   "execution_count": 2,
   "id": "6bd3f1df",
   "metadata": {
    "execution": {
     "iopub.execute_input": "2024-07-08T12:05:24.021847Z",
     "iopub.status.busy": "2024-07-08T12:05:24.021847Z",
     "iopub.status.idle": "2024-07-08T12:05:24.037472Z",
     "shell.execute_reply": "2024-07-08T12:05:24.037472Z"
    }
   },
   "outputs": [],
   "source": [
    "toolkit = AEDTCommon()"
   ]
  },
  {
   "cell_type": "markdown",
   "id": "4c54d989",
   "metadata": {},
   "source": [
    "## Get toolkit properties\n",
    "\n",
    "Get the toolkit properties, which contain the project information."
   ]
  },
  {
   "cell_type": "code",
   "execution_count": 3,
   "id": "a93622e5",
   "metadata": {
    "execution": {
     "iopub.execute_input": "2024-07-08T12:05:24.037472Z",
     "iopub.status.busy": "2024-07-08T12:05:24.037472Z",
     "iopub.status.idle": "2024-07-08T12:05:24.053097Z",
     "shell.execute_reply": "2024-07-08T12:05:24.053097Z"
    }
   },
   "outputs": [],
   "source": [
    "properties_from_backend = toolkit.get_properties()"
   ]
  },
  {
   "cell_type": "code",
   "execution_count": 4,
   "id": "3cddd482",
   "metadata": {
    "execution": {
     "iopub.execute_input": "2024-07-08T12:05:24.053097Z",
     "iopub.status.busy": "2024-07-08T12:05:24.053097Z",
     "iopub.status.idle": "2024-07-08T12:05:29.278017Z",
     "shell.execute_reply": "2024-07-08T12:05:29.278017Z"
    }
   },
   "outputs": [
    {
     "data": {
      "text/plain": [
       "True"
      ]
     },
     "execution_count": 4,
     "metadata": {},
     "output_type": "execute_result"
    }
   ],
   "source": [
    "# ## Initialize AEDT\n",
    "#\n",
    "# Initialize AEDT using PyAEDT and then release it.\n",
    "pyaedt.settings.enable_logger = False\n",
    "app = pyaedt.Desktop(specified_version=properties_from_backend[\"aedt_version\"],\n",
    "                     non_graphical=properties_from_backend[\"non_graphical\"])\n",
    "app.release_desktop(close_projects=False, close_on_exit=False)"
   ]
  },
  {
   "cell_type": "markdown",
   "id": "dd84af4f",
   "metadata": {},
   "source": [
    "## Get AEDT sessions\n",
    "\n",
    "Get AEDT sessions and select the first one."
   ]
  },
  {
   "cell_type": "code",
   "execution_count": 5,
   "id": "d9fb09b7",
   "metadata": {
    "execution": {
     "iopub.execute_input": "2024-07-08T12:05:29.278017Z",
     "iopub.status.busy": "2024-07-08T12:05:29.278017Z",
     "iopub.status.idle": "2024-07-08T12:05:29.309266Z",
     "shell.execute_reply": "2024-07-08T12:05:29.309266Z"
    }
   },
   "outputs": [
    {
     "name": "stderr",
     "output_type": "stream",
     "text": [
      "DEBUG - Active AEDT sessions: {6240: 55886}.\n"
     ]
    }
   ],
   "source": [
    "sessions = toolkit.aedt_sessions()\n",
    "first_key, first_value = next(iter(sessions.items()))\n",
    "if first_value == -1:\n",
    "    use_grpc = False\n",
    "    selected_process = first_key\n",
    "else:\n",
    "    use_grpc = True\n",
    "    selected_process = first_value"
   ]
  },
  {
   "cell_type": "markdown",
   "id": "ab4f3b11",
   "metadata": {},
   "source": [
    "## Set properties\n",
    "\n",
    "Specify the AEDT session selection."
   ]
  },
  {
   "cell_type": "code",
   "execution_count": 6,
   "id": "8fecf0bf",
   "metadata": {
    "execution": {
     "iopub.execute_input": "2024-07-08T12:05:29.309266Z",
     "iopub.status.busy": "2024-07-08T12:05:29.309266Z",
     "iopub.status.idle": "2024-07-08T12:05:29.324891Z",
     "shell.execute_reply": "2024-07-08T12:05:29.324891Z"
    }
   },
   "outputs": [
    {
     "name": "stderr",
     "output_type": "stream",
     "text": [
      "INFO - Updating internal properties.\n"
     ]
    },
    {
     "name": "stderr",
     "output_type": "stream",
     "text": [
      "DEBUG - Updating 'selected_process' with value 55886\n"
     ]
    },
    {
     "name": "stderr",
     "output_type": "stream",
     "text": [
      "DEBUG - Updating 'use_grpc' with value True\n"
     ]
    },
    {
     "name": "stderr",
     "output_type": "stream",
     "text": [
      "DEBUG - Properties were updated successfully.\n"
     ]
    }
   ],
   "source": [
    "new_properties = {\"selected_process\": selected_process, \"use_grpc\": use_grpc}\n",
    "flag, msg = toolkit.set_properties(new_properties)"
   ]
  },
  {
   "cell_type": "markdown",
   "id": "1358da55",
   "metadata": {},
   "source": [
    "## Initialize AEDT\n",
    "\n",
    "Launch a new AEDT session in a thread."
   ]
  },
  {
   "cell_type": "code",
   "execution_count": 7,
   "id": "541bf5f0",
   "metadata": {
    "execution": {
     "iopub.execute_input": "2024-07-08T12:05:29.324891Z",
     "iopub.status.busy": "2024-07-08T12:05:29.324891Z",
     "iopub.status.idle": "2024-07-08T12:05:29.340514Z",
     "shell.execute_reply": "2024-07-08T12:05:29.340514Z"
    }
   },
   "outputs": [
    {
     "name": "stderr",
     "output_type": "stream",
     "text": [
      "DEBUG - Starting thread: Toolkit_Thread\n"
     ]
    },
    {
     "name": "stderr",
     "output_type": "stream",
     "text": [
      "DEBUG - Toolkit is not connected to AEDT.\n"
     ]
    },
    {
     "name": "stderr",
     "output_type": "stream",
     "text": [
      "DEBUG - Launching AEDT.\n"
     ]
    },
    {
     "name": "stdout",
     "output_type": "stream",
     "text": [
      "PyAEDT INFO: Initializing new Desktop session.\n"
     ]
    },
    {
     "name": "stdout",
     "output_type": "stream",
     "text": [
      "PyAEDT WARNING: Argument `specified_version` is deprecated for method `__init__`; use `version` instead.\n"
     ]
    },
    {
     "name": "stdout",
     "output_type": "stream",
     "text": [
      "PyAEDT WARNING: Argument `new_desktop_session` is deprecated for method `__init__`; use `new_desktop` instead.\n"
     ]
    },
    {
     "name": "stdout",
     "output_type": "stream",
     "text": [
      "PyAEDT INFO: StdOut is enabled\n"
     ]
    },
    {
     "name": "stdout",
     "output_type": "stream",
     "text": [
      "PyAEDT INFO: Log on file is enabled\n"
     ]
    }
   ],
   "source": [
    "thread_msg = toolkit.launch_thread(toolkit.launch_aedt)"
   ]
  },
  {
   "cell_type": "markdown",
   "id": "37c4bf30",
   "metadata": {},
   "source": [
    "## Wait for the toolkit thread to be idle\n",
    "\n",
    "Wait for the toolkit thread to be idle and ready to accept a new task."
   ]
  },
  {
   "cell_type": "code",
   "execution_count": 8,
   "id": "3059e58b",
   "metadata": {
    "execution": {
     "iopub.execute_input": "2024-07-08T12:05:29.340514Z",
     "iopub.status.busy": "2024-07-08T12:05:29.340514Z",
     "iopub.status.idle": "2024-07-08T12:05:30.358881Z",
     "shell.execute_reply": "2024-07-08T12:05:30.358881Z"
    }
   },
   "outputs": [
    {
     "name": "stderr",
     "output_type": "stream",
     "text": [
      "DEBUG - Toolkit is idle and ready to accept a new task.\n"
     ]
    }
   ],
   "source": [
    "idle = toolkit.wait_to_be_idle()\n",
    "if not idle:\n",
    "    print(\"AEDT not initialized.\")\n",
    "    sys.exit()"
   ]
  },
  {
   "cell_type": "markdown",
   "id": "6001ea7d",
   "metadata": {},
   "source": [
    "## Connect design\n",
    "\n",
    "Connect or create a new design."
   ]
  },
  {
   "cell_type": "code",
   "execution_count": 9,
   "id": "a99c162a",
   "metadata": {
    "execution": {
     "iopub.execute_input": "2024-07-08T12:05:30.358881Z",
     "iopub.status.busy": "2024-07-08T12:05:30.358881Z",
     "iopub.status.idle": "2024-07-08T12:06:02.498530Z",
     "shell.execute_reply": "2024-07-08T12:06:02.498530Z"
    }
   },
   "outputs": [
    {
     "name": "stderr",
     "output_type": "stream",
     "text": [
      "DEBUG - Toolkit is not connected to AEDT.\n"
     ]
    },
    {
     "name": "stderr",
     "output_type": "stream",
     "text": [
      "DEBUG - Connecting AEDT.\n"
     ]
    },
    {
     "name": "stdout",
     "output_type": "stream",
     "text": [
      "PyAEDT INFO: Initializing new Desktop session.\n"
     ]
    },
    {
     "name": "stdout",
     "output_type": "stream",
     "text": [
      "PyAEDT WARNING: Argument `specified_version` is deprecated for method `__init__`; use `version` instead.\n"
     ]
    },
    {
     "name": "stdout",
     "output_type": "stream",
     "text": [
      "PyAEDT WARNING: Argument `new_desktop_session` is deprecated for method `__init__`; use `new_desktop` instead.\n"
     ]
    },
    {
     "name": "stdout",
     "output_type": "stream",
     "text": [
      "PyAEDT INFO: StdOut is enabled\n"
     ]
    },
    {
     "name": "stdout",
     "output_type": "stream",
     "text": [
      "PyAEDT INFO: Log on file is enabled\n"
     ]
    },
    {
     "name": "stdout",
     "output_type": "stream",
     "text": [
      "PyAEDT INFO: Log on Desktop Message Manager is disabled\n"
     ]
    },
    {
     "name": "stdout",
     "output_type": "stream",
     "text": [
      "PyAEDT INFO: Debug logger is disabled. PyAEDT methods will not be logged.\n"
     ]
    },
    {
     "name": "stdout",
     "output_type": "stream",
     "text": [
      "PyAEDT INFO: Launching PyAEDT outside AEDT with gRPC plugin.\n"
     ]
    },
    {
     "name": "stdout",
     "output_type": "stream",
     "text": [
      "PyAEDT INFO: Connecting to AEDT session on gRPC port 55886\n"
     ]
    },
    {
     "name": "stdout",
     "output_type": "stream",
     "text": [
      "PyAEDT INFO: AEDT installation Path C:\\Program Files\\AnsysEM\\v241\\Win64\n"
     ]
    },
    {
     "name": "stdout",
     "output_type": "stream",
     "text": [
      "PyAEDT INFO: pyaedt v0.9.8\n"
     ]
    },
    {
     "name": "stdout",
     "output_type": "stream",
     "text": [
      "PyAEDT INFO: Python version 3.10.11 (tags/v3.10.11:7d4cc5a, Apr  5 2023, 00:38:17) [MSC v.1929 64 bit (AMD64)]\n"
     ]
    },
    {
     "name": "stdout",
     "output_type": "stream",
     "text": [
      "PyAEDT INFO: AEDT 2024.1.0 Build Date 2023-11-27 22:16:18\n"
     ]
    },
    {
     "name": "stderr",
     "output_type": "stream",
     "text": [
      "DEBUG - Toolkit is connected to AEDT.\n"
     ]
    },
    {
     "name": "stdout",
     "output_type": "stream",
     "text": [
      "PyAEDT WARNING: Argument `designname` is deprecated for method `__init__`; use `design` instead.\n"
     ]
    },
    {
     "name": "stdout",
     "output_type": "stream",
     "text": [
      "PyAEDT WARNING: Argument `projectname` is deprecated for method `__init__`; use `project` instead.\n"
     ]
    },
    {
     "name": "stdout",
     "output_type": "stream",
     "text": [
      "PyAEDT WARNING: Argument `specified_version` is deprecated for method `__init__`; use `version` instead.\n"
     ]
    },
    {
     "name": "stdout",
     "output_type": "stream",
     "text": [
      "PyAEDT WARNING: Argument `new_desktop_session` is deprecated for method `__init__`; use `new_desktop` instead.\n"
     ]
    },
    {
     "name": "stdout",
     "output_type": "stream",
     "text": [
      "PyAEDT INFO: Returning found Desktop session with PID 6240!\n"
     ]
    },
    {
     "name": "stdout",
     "output_type": "stream",
     "text": [
      "PyAEDT INFO: Project Project755 has been created.\n"
     ]
    },
    {
     "name": "stdout",
     "output_type": "stream",
     "text": [
      "PyAEDT INFO: Added design 'HFSS_S93FAO' of type HFSS.\n"
     ]
    },
    {
     "name": "stdout",
     "output_type": "stream",
     "text": [
      "PyAEDT INFO: Aedt Objects correctly read\n"
     ]
    },
    {
     "name": "stdout",
     "output_type": "stream",
     "text": [
      "PyAEDT INFO: Project Project755 Saved correctly\n"
     ]
    },
    {
     "name": "stderr",
     "output_type": "stream",
     "text": [
      "DEBUG - Project name: Project755\n"
     ]
    },
    {
     "name": "stderr",
     "output_type": "stream",
     "text": [
      "INFO - Updating internal properties.\n"
     ]
    },
    {
     "name": "stderr",
     "output_type": "stream",
     "text": [
      "DEBUG - Updating 'project_list' with value ['C:/Users/ansys/Documents/Ansoft/Project755.aedt']\n"
     ]
    },
    {
     "name": "stderr",
     "output_type": "stream",
     "text": [
      "DEBUG - Updating 'active_design' with value HFSS_S93FAO\n"
     ]
    },
    {
     "name": "stderr",
     "output_type": "stream",
     "text": [
      "DEBUG - Updating 'active_project' with value C:/Users/ansys/Documents/Ansoft/Project755.aedt\n"
     ]
    },
    {
     "name": "stderr",
     "output_type": "stream",
     "text": [
      "DEBUG - Updating 'design_list' with value {'Project755': ['HFSS_S93FAO']}\n"
     ]
    },
    {
     "name": "stderr",
     "output_type": "stream",
     "text": [
      "DEBUG - Properties were updated successfully.\n"
     ]
    },
    {
     "name": "stderr",
     "output_type": "stream",
     "text": [
      "INFO - Toolkit is connected to AEDT design.\n"
     ]
    },
    {
     "data": {
      "text/plain": [
       "True"
      ]
     },
     "execution_count": 9,
     "metadata": {},
     "output_type": "execute_result"
    }
   ],
   "source": [
    "toolkit.connect_design(\"HFSS\")"
   ]
  },
  {
   "cell_type": "markdown",
   "id": "24a90c47",
   "metadata": {},
   "source": [
    "## Get toolkit properties\n",
    "\n",
    "Get the toolkit properties, which contain the project information."
   ]
  },
  {
   "cell_type": "code",
   "execution_count": 10,
   "id": "b44bc993",
   "metadata": {
    "execution": {
     "iopub.execute_input": "2024-07-08T12:06:02.498530Z",
     "iopub.status.busy": "2024-07-08T12:06:02.498530Z",
     "iopub.status.idle": "2024-07-08T12:06:02.514180Z",
     "shell.execute_reply": "2024-07-08T12:06:02.514180Z"
    }
   },
   "outputs": [],
   "source": [
    "new_properties = toolkit.get_properties()"
   ]
  },
  {
   "cell_type": "markdown",
   "id": "ed0ca75c",
   "metadata": {},
   "source": [
    "## Create a waveguide\n",
    "\n",
    "Create a waveguide in the design."
   ]
  },
  {
   "cell_type": "code",
   "execution_count": 11,
   "id": "a927a0cc",
   "metadata": {
    "execution": {
     "iopub.execute_input": "2024-07-08T12:06:02.514180Z",
     "iopub.status.busy": "2024-07-08T12:06:02.514180Z",
     "iopub.status.idle": "2024-07-08T12:06:12.066002Z",
     "shell.execute_reply": "2024-07-08T12:06:12.066002Z"
    }
   },
   "outputs": [
    {
     "name": "stdout",
     "output_type": "stream",
     "text": [
      "PyAEDT INFO: Modeler class has been initialized! Elapsed time: 0m 5sec\n"
     ]
    },
    {
     "name": "stdout",
     "output_type": "stream",
     "text": [
      "PyAEDT INFO: Materials class has been initialized! Elapsed time: 0m 0sec\n"
     ]
    },
    {
     "name": "stdout",
     "output_type": "stream",
     "text": [
      "PyAEDT INFO: Parsing design objects. This operation can take time\n"
     ]
    },
    {
     "name": "stdout",
     "output_type": "stream",
     "text": [
      "PyAEDT INFO: Parsing C:/Users/ansys/Documents/Ansoft/Project755.aedt.\n"
     ]
    },
    {
     "name": "stdout",
     "output_type": "stream",
     "text": [
      "PyAEDT INFO: File C:/Users/ansys/Documents/Ansoft/Project755.aedt correctly loaded. Elapsed time: 0m 0sec\n"
     ]
    },
    {
     "name": "stdout",
     "output_type": "stream",
     "text": [
      "PyAEDT INFO: aedt file load time 0.01676654815673828\n"
     ]
    },
    {
     "name": "stdout",
     "output_type": "stream",
     "text": [
      "PyAEDT INFO: 3D Modeler objects parsed. Elapsed time: 0m 0sec\n"
     ]
    },
    {
     "name": "stdout",
     "output_type": "stream",
     "text": [
      "PyAEDT INFO: PostProcessor class has been initialized! Elapsed time: 0m 0sec\n"
     ]
    },
    {
     "name": "stdout",
     "output_type": "stream",
     "text": [
      "PyAEDT INFO: Post class has been initialized! Elapsed time: 0m 0sec\n"
     ]
    },
    {
     "name": "stderr",
     "output_type": "stream",
     "text": [
      "C:\\Users\\Public\\actions-runner\\_work\\pyaedt-toolkits-common\\pyaedt-toolkits-common\\.venv\\lib\\site-packages\\pyvista\\jupyter\\notebook.py:34: UserWarning: Failed to use notebook backend: \n",
      "\n",
      "No module named 'trame'\n",
      "\n",
      "Falling back to a static output.\n",
      "  warnings.warn(\n"
     ]
    },
    {
     "data": {
      "image/jpeg": "[encoded data removed]",
      "image/png": "[encoded data removed]",
      "text/plain": [
       "<PIL.Image.Image image mode=RGB size=600x600>"
      ]
     },
     "metadata": {},
     "output_type": "display_data"
    },
    {
     "data": {
      "text/plain": [
       "<pyaedt.generic.plot.ModelPlotter at 0x24814b46410>"
      ]
     },
     "execution_count": 11,
     "metadata": {},
     "output_type": "execute_result"
    }
   ],
   "source": [
    "wg = toolkit.aedtapp.modeler.create_waveguide([0, 0, 0], 1)\n",
    "toolkit.aedtapp.plot()"
   ]
  },
  {
   "cell_type": "markdown",
   "id": "b76de774",
   "metadata": {},
   "source": [
    "## Save and release AEDT\n",
    "\n",
    "Save and release AEDT."
   ]
  },
  {
   "cell_type": "code",
   "execution_count": 12,
   "id": "2a20cfa7",
   "metadata": {
    "execution": {
     "iopub.execute_input": "2024-07-08T12:06:12.066002Z",
     "iopub.status.busy": "2024-07-08T12:06:12.066002Z",
     "iopub.status.idle": "2024-07-08T12:06:12.699900Z",
     "shell.execute_reply": "2024-07-08T12:06:12.699900Z"
    }
   },
   "outputs": [
    {
     "name": "stdout",
     "output_type": "stream",
     "text": [
      "PyAEDT INFO: Desktop has been released and closed.\n"
     ]
    },
    {
     "name": "stderr",
     "output_type": "stream",
     "text": [
      "INFO - AEDT is released.\n"
     ]
    },
    {
     "data": {
      "text/plain": [
       "True"
      ]
     },
     "execution_count": 12,
     "metadata": {},
     "output_type": "execute_result"
    }
   ],
   "source": [
    "toolkit.release_aedt(True, True)"
   ]
  }
 ],
 "metadata": {
  "jupytext": {
   "cell_metadata_filter": "-all",
   "main_language": "python",
   "notebook_metadata_filter": "-all",
   "text_representation": {
    "extension": ".py",
    "format_name": "light"
   }
  },
  "language_info": {
   "codemirror_mode": {
    "name": "ipython",
    "version": 3
   },
   "file_extension": ".py",
   "mimetype": "text/x-python",
   "name": "python",
   "nbconvert_exporter": "python",
   "pygments_lexer": "ipython3",
   "version": "3.10.11"
  }
 },
 "nbformat": 4,
 "nbformat_minor": 5
}
