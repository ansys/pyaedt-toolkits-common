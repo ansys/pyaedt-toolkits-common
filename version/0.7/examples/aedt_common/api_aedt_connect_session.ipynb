{
 "cells": [
  {
   "cell_type": "markdown",
   "id": "35d5096f",
   "metadata": {},
   "source": [
    "# AEDT connect session example\n",
    "\n",
    "This example shows how to use the Common AEDT API to\n",
    "connect to an existing  AEDT session,\n",
    "create a HFSS design and create a waveguide."
   ]
  },
  {
   "cell_type": "markdown",
   "id": "1ecebe06",
   "metadata": {},
   "source": [
    "## Perform required imports\n",
    "\n",
    "Perform the required imports."
   ]
  },
  {
   "cell_type": "code",
   "execution_count": 1,
   "id": "a3c70536",
   "metadata": {
    "execution": {
     "iopub.execute_input": "2025-02-18T17:40:42.838712Z",
     "iopub.status.busy": "2025-02-18T17:40:42.838712Z",
     "iopub.status.idle": "2025-02-18T17:40:43.885619Z",
     "shell.execute_reply": "2025-02-18T17:40:43.885619Z"
    },
    "lines_to_next_cell": 2
   },
   "outputs": [],
   "source": [
    "import os\n",
    "import sys\n",
    "from ansys.aedt.toolkits.common.backend.api import AEDTCommon\n",
    "import ansys.aedt.core"
   ]
  },
  {
   "cell_type": "markdown",
   "id": "6153ed80",
   "metadata": {},
   "source": [
    "## Initialize toolkit\n",
    "\n",
    "Initialize the toolkit."
   ]
  },
  {
   "cell_type": "code",
   "execution_count": 2,
   "id": "ffc5b89d",
   "metadata": {
    "execution": {
     "iopub.execute_input": "2025-02-18T17:40:43.885619Z",
     "iopub.status.busy": "2025-02-18T17:40:43.885619Z",
     "iopub.status.idle": "2025-02-18T17:40:43.901250Z",
     "shell.execute_reply": "2025-02-18T17:40:43.901250Z"
    }
   },
   "outputs": [],
   "source": [
    "toolkit = AEDTCommon()"
   ]
  },
  {
   "cell_type": "markdown",
   "id": "77340141",
   "metadata": {},
   "source": [
    "## Get toolkit properties\n",
    "\n",
    "Get the toolkit properties, which contain the project information."
   ]
  },
  {
   "cell_type": "code",
   "execution_count": 3,
   "id": "222f4a95",
   "metadata": {
    "execution": {
     "iopub.execute_input": "2025-02-18T17:40:43.901250Z",
     "iopub.status.busy": "2025-02-18T17:40:43.901250Z",
     "iopub.status.idle": "2025-02-18T17:40:43.916862Z",
     "shell.execute_reply": "2025-02-18T17:40:43.916862Z"
    }
   },
   "outputs": [],
   "source": [
    "properties_from_backend = toolkit.get_properties()"
   ]
  },
  {
   "cell_type": "code",
   "execution_count": 4,
   "id": "b1edca33",
   "metadata": {
    "execution": {
     "iopub.execute_input": "2025-02-18T17:40:43.916862Z",
     "iopub.status.busy": "2025-02-18T17:40:43.916862Z",
     "iopub.status.idle": "2025-02-18T17:40:50.659459Z",
     "shell.execute_reply": "2025-02-18T17:40:50.659459Z"
    }
   },
   "outputs": [
    {
     "data": {
      "text/plain": [
       "True"
      ]
     },
     "execution_count": 4,
     "metadata": {},
     "output_type": "execute_result"
    }
   ],
   "source": [
    "# ## Initialize AEDT\n",
    "#\n",
    "# Initialize AEDT using PyAEDT and then release it.\n",
    "ansys.aedt.core.settings.enable_logger = False\n",
    "app = ansys.aedt.core.Desktop(specified_version=properties_from_backend[\"aedt_version\"],\n",
    "                     non_graphical=properties_from_backend[\"non_graphical\"])\n",
    "app.release_desktop(close_projects=False, close_on_exit=False)"
   ]
  },
  {
   "cell_type": "markdown",
   "id": "ea2da68d",
   "metadata": {},
   "source": [
    "## Get AEDT sessions\n",
    "\n",
    "Get AEDT sessions and select the first one."
   ]
  },
  {
   "cell_type": "code",
   "execution_count": 5,
   "id": "76479810",
   "metadata": {
    "execution": {
     "iopub.execute_input": "2025-02-18T17:40:50.659459Z",
     "iopub.status.busy": "2025-02-18T17:40:50.659459Z",
     "iopub.status.idle": "2025-02-18T17:40:50.692925Z",
     "shell.execute_reply": "2025-02-18T17:40:50.692925Z"
    }
   },
   "outputs": [
    {
     "name": "stderr",
     "output_type": "stream",
     "text": [
      "DEBUG - Active AEDT sessions: {4500: 59387}.\n"
     ]
    }
   ],
   "source": [
    "sessions = toolkit.aedt_sessions()\n",
    "first_key, first_value = next(iter(sessions.items()))\n",
    "if first_value == -1:\n",
    "    use_grpc = False\n",
    "    selected_process = first_key\n",
    "else:\n",
    "    use_grpc = True\n",
    "    selected_process = first_value"
   ]
  },
  {
   "cell_type": "markdown",
   "id": "8ade54a1",
   "metadata": {},
   "source": [
    "## Set properties\n",
    "\n",
    "Specify the AEDT session selection."
   ]
  },
  {
   "cell_type": "code",
   "execution_count": 6,
   "id": "a6a5fb7f",
   "metadata": {
    "execution": {
     "iopub.execute_input": "2025-02-18T17:40:50.692925Z",
     "iopub.status.busy": "2025-02-18T17:40:50.692925Z",
     "iopub.status.idle": "2025-02-18T17:40:50.708571Z",
     "shell.execute_reply": "2025-02-18T17:40:50.708571Z"
    }
   },
   "outputs": [
    {
     "name": "stderr",
     "output_type": "stream",
     "text": [
      "INFO - Updating internal properties.\n"
     ]
    },
    {
     "name": "stderr",
     "output_type": "stream",
     "text": [
      "DEBUG - Updating 'selected_process' with value 59387\n"
     ]
    },
    {
     "name": "stderr",
     "output_type": "stream",
     "text": [
      "DEBUG - Updating 'use_grpc' with value True\n"
     ]
    },
    {
     "name": "stderr",
     "output_type": "stream",
     "text": [
      "DEBUG - Properties were updated successfully.\n"
     ]
    }
   ],
   "source": [
    "new_properties = {\"selected_process\": selected_process, \"use_grpc\": use_grpc}\n",
    "flag, msg = toolkit.set_properties(new_properties)"
   ]
  },
  {
   "cell_type": "markdown",
   "id": "45cb69b3",
   "metadata": {},
   "source": [
    "## Initialize AEDT\n",
    "\n",
    "Launch a new AEDT session in a thread."
   ]
  },
  {
   "cell_type": "code",
   "execution_count": 7,
   "id": "9b05e27f",
   "metadata": {
    "execution": {
     "iopub.execute_input": "2025-02-18T17:40:50.708571Z",
     "iopub.status.busy": "2025-02-18T17:40:50.708571Z",
     "iopub.status.idle": "2025-02-18T17:40:50.724111Z",
     "shell.execute_reply": "2025-02-18T17:40:50.724111Z"
    }
   },
   "outputs": [
    {
     "name": "stderr",
     "output_type": "stream",
     "text": [
      "DEBUG - Starting thread: Toolkit_Thread\n"
     ]
    },
    {
     "name": "stderr",
     "output_type": "stream",
     "text": [
      "DEBUG - Toolkit is not connected to AEDT.\n"
     ]
    },
    {
     "name": "stderr",
     "output_type": "stream",
     "text": [
      "DEBUG - Launching AEDT.\n"
     ]
    },
    {
     "name": "stdout",
     "output_type": "stream",
     "text": [
      "PyAEDT INFO: Python version 3.10.11 (tags/v3.10.11:7d4cc5a, Apr  5 2023, 00:38:17) [MSC v.1929 64 bit (AMD64)].\n"
     ]
    }
   ],
   "source": [
    "thread_msg = toolkit.launch_thread(toolkit.launch_aedt)"
   ]
  },
  {
   "cell_type": "markdown",
   "id": "76b6ba8e",
   "metadata": {},
   "source": [
    "## Wait for the toolkit thread to be idle\n",
    "\n",
    "Wait for the toolkit thread to be idle and ready to accept a new task."
   ]
  },
  {
   "cell_type": "code",
   "execution_count": 8,
   "id": "f9ed8946",
   "metadata": {
    "execution": {
     "iopub.execute_input": "2025-02-18T17:40:50.724111Z",
     "iopub.status.busy": "2025-02-18T17:40:50.724111Z",
     "iopub.status.idle": "2025-02-18T17:40:51.753490Z",
     "shell.execute_reply": "2025-02-18T17:40:51.753490Z"
    }
   },
   "outputs": [
    {
     "name": "stderr",
     "output_type": "stream",
     "text": [
      "DEBUG - Toolkit is idle and ready to accept a new task.\n"
     ]
    }
   ],
   "source": [
    "idle = toolkit.wait_to_be_idle()\n",
    "if not idle:\n",
    "    print(\"AEDT not initialized.\")\n",
    "    sys.exit()"
   ]
  },
  {
   "cell_type": "markdown",
   "id": "3638638c",
   "metadata": {},
   "source": [
    "## Connect design\n",
    "\n",
    "Connect or create a new design."
   ]
  },
  {
   "cell_type": "code",
   "execution_count": 9,
   "id": "2077f51c",
   "metadata": {
    "execution": {
     "iopub.execute_input": "2025-02-18T17:40:51.753490Z",
     "iopub.status.busy": "2025-02-18T17:40:51.753490Z",
     "iopub.status.idle": "2025-02-18T17:41:26.777981Z",
     "shell.execute_reply": "2025-02-18T17:41:26.776951Z"
    }
   },
   "outputs": [
    {
     "name": "stderr",
     "output_type": "stream",
     "text": [
      "DEBUG - Toolkit is not connected to AEDT.\n"
     ]
    },
    {
     "name": "stderr",
     "output_type": "stream",
     "text": [
      "DEBUG - Connecting AEDT.\n"
     ]
    },
    {
     "name": "stdout",
     "output_type": "stream",
     "text": [
      "PyAEDT INFO: Python version 3.10.11 (tags/v3.10.11:7d4cc5a, Apr  5 2023, 00:38:17) [MSC v.1929 64 bit (AMD64)].\n"
     ]
    },
    {
     "name": "stdout",
     "output_type": "stream",
     "text": [
      "PyAEDT INFO: PyAEDT version 0.14.0.\n"
     ]
    },
    {
     "name": "stdout",
     "output_type": "stream",
     "text": [
      "PyAEDT INFO: Initializing new Desktop session.\n"
     ]
    },
    {
     "name": "stdout",
     "output_type": "stream",
     "text": [
      "PyAEDT WARNING: Argument `specified_version` is deprecated for method `__init__`; use `version` instead.\n"
     ]
    },
    {
     "name": "stdout",
     "output_type": "stream",
     "text": [
      "PyAEDT WARNING: Argument `new_desktop_session` is deprecated for method `__init__`; use `new_desktop` instead.\n"
     ]
    },
    {
     "name": "stdout",
     "output_type": "stream",
     "text": [
      "PyAEDT INFO: Log on console is enabled.\n"
     ]
    },
    {
     "name": "stdout",
     "output_type": "stream",
     "text": [
      "PyAEDT INFO: Log on file C:\\Users\\ansys\\AppData\\Local\\Temp\\pyaedt_ansys_e638bb2e-a383-45ec-a1f8-9cc1f7fbfc85.log is enabled.\n"
     ]
    },
    {
     "name": "stdout",
     "output_type": "stream",
     "text": [
      "PyAEDT INFO: Log on AEDT is disabled.\n"
     ]
    },
    {
     "name": "stdout",
     "output_type": "stream",
     "text": [
      "PyAEDT INFO: Debug logger is disabled. PyAEDT methods will not be logged.\n"
     ]
    },
    {
     "name": "stdout",
     "output_type": "stream",
     "text": [
      "PyAEDT INFO: Launching PyAEDT with gRPC plugin.\n"
     ]
    },
    {
     "name": "stdout",
     "output_type": "stream",
     "text": [
      "PyAEDT INFO: Connecting to AEDT session on gRPC port 59387.\n"
     ]
    },
    {
     "name": "stdout",
     "output_type": "stream",
     "text": [
      "PyAEDT INFO: AEDT installation Path C:\\Program Files\\AnsysEM\\v242\\Win64\n"
     ]
    },
    {
     "name": "stderr",
     "output_type": "stream",
     "text": [
      "DEBUG - Toolkit is connected to AEDT.\n"
     ]
    },
    {
     "name": "stdout",
     "output_type": "stream",
     "text": [
      "PyAEDT WARNING: Argument `designname` is deprecated for method `__init__`; use `design` instead.\n"
     ]
    },
    {
     "name": "stdout",
     "output_type": "stream",
     "text": [
      "PyAEDT WARNING: Argument `projectname` is deprecated for method `__init__`; use `project` instead.\n"
     ]
    },
    {
     "name": "stdout",
     "output_type": "stream",
     "text": [
      "PyAEDT WARNING: Argument `specified_version` is deprecated for method `__init__`; use `version` instead.\n"
     ]
    },
    {
     "name": "stdout",
     "output_type": "stream",
     "text": [
      "PyAEDT WARNING: Argument `new_desktop_session` is deprecated for method `__init__`; use `new_desktop` instead.\n"
     ]
    },
    {
     "name": "stdout",
     "output_type": "stream",
     "text": [
      "PyAEDT INFO: Python version 3.10.11 (tags/v3.10.11:7d4cc5a, Apr  5 2023, 00:38:17) [MSC v.1929 64 bit (AMD64)].\n"
     ]
    },
    {
     "name": "stdout",
     "output_type": "stream",
     "text": [
      "PyAEDT INFO: PyAEDT version 0.14.0.\n"
     ]
    },
    {
     "name": "stdout",
     "output_type": "stream",
     "text": [
      "PyAEDT INFO: Returning found Desktop session with PID 4500!\n"
     ]
    },
    {
     "name": "stdout",
     "output_type": "stream",
     "text": [
      "PyAEDT INFO: Project Project1276 has been created.\n"
     ]
    },
    {
     "name": "stdout",
     "output_type": "stream",
     "text": [
      "PyAEDT INFO: Added design 'HFSS_UU7XR4' of type HFSS.\n"
     ]
    },
    {
     "name": "stdout",
     "output_type": "stream",
     "text": [
      "PyAEDT INFO: Aedt Objects correctly read\n"
     ]
    },
    {
     "name": "stdout",
     "output_type": "stream",
     "text": [
      "PyAEDT INFO: Project Project1276 Saved correctly\n"
     ]
    },
    {
     "name": "stderr",
     "output_type": "stream",
     "text": [
      "DEBUG - Project name: Project1276\n"
     ]
    },
    {
     "name": "stderr",
     "output_type": "stream",
     "text": [
      "INFO - Updating internal properties.\n"
     ]
    },
    {
     "name": "stderr",
     "output_type": "stream",
     "text": [
      "DEBUG - Updating 'project_list' with value ['C:/Users/ansys/Documents/Ansoft/Project1276.aedt']\n"
     ]
    },
    {
     "name": "stderr",
     "output_type": "stream",
     "text": [
      "DEBUG - Updating 'active_design' with value HFSS_UU7XR4\n"
     ]
    },
    {
     "name": "stderr",
     "output_type": "stream",
     "text": [
      "DEBUG - Updating 'active_project' with value C:/Users/ansys/Documents/Ansoft/Project1276.aedt\n"
     ]
    },
    {
     "name": "stderr",
     "output_type": "stream",
     "text": [
      "DEBUG - Updating 'design_list' with value {'Project1276': ['HFSS_UU7XR4']}\n"
     ]
    },
    {
     "name": "stderr",
     "output_type": "stream",
     "text": [
      "DEBUG - Properties were updated successfully.\n"
     ]
    },
    {
     "name": "stderr",
     "output_type": "stream",
     "text": [
      "INFO - Toolkit is connected to AEDT design.\n"
     ]
    },
    {
     "data": {
      "text/plain": [
       "True"
      ]
     },
     "execution_count": 9,
     "metadata": {},
     "output_type": "execute_result"
    }
   ],
   "source": [
    "toolkit.connect_design(\"HFSS\")"
   ]
  },
  {
   "cell_type": "markdown",
   "id": "9dd889f2",
   "metadata": {},
   "source": [
    "## Get toolkit properties\n",
    "\n",
    "Get the toolkit properties, which contain the project information."
   ]
  },
  {
   "cell_type": "code",
   "execution_count": 10,
   "id": "e8d30f52",
   "metadata": {
    "execution": {
     "iopub.execute_input": "2025-02-18T17:41:26.777981Z",
     "iopub.status.busy": "2025-02-18T17:41:26.777981Z",
     "iopub.status.idle": "2025-02-18T17:41:26.793688Z",
     "shell.execute_reply": "2025-02-18T17:41:26.793688Z"
    }
   },
   "outputs": [],
   "source": [
    "new_properties = toolkit.get_properties()"
   ]
  },
  {
   "cell_type": "markdown",
   "id": "a98dea91",
   "metadata": {},
   "source": [
    "## Create a waveguide\n",
    "\n",
    "Create a waveguide in the design."
   ]
  },
  {
   "cell_type": "code",
   "execution_count": 11,
   "id": "9befa3a1",
   "metadata": {
    "execution": {
     "iopub.execute_input": "2025-02-18T17:41:26.793688Z",
     "iopub.status.busy": "2025-02-18T17:41:26.793688Z",
     "iopub.status.idle": "2025-02-18T17:41:41.733463Z",
     "shell.execute_reply": "2025-02-18T17:41:41.732423Z"
    },
    "lines_to_next_cell": 2
   },
   "outputs": [
    {
     "name": "stdout",
     "output_type": "stream",
     "text": [
      "PyAEDT INFO: Modeler class has been initialized! Elapsed time: 0m 6sec\n"
     ]
    },
    {
     "name": "stdout",
     "output_type": "stream",
     "text": [
      "PyAEDT INFO: Materials class has been initialized! Elapsed time: 0m 0sec\n"
     ]
    },
    {
     "name": "stdout",
     "output_type": "stream",
     "text": [
      "PyAEDT INFO: Parsing design objects. This operation can take time\n"
     ]
    },
    {
     "name": "stdout",
     "output_type": "stream",
     "text": [
      "PyAEDT INFO: Refreshing bodies from Object Info\n"
     ]
    },
    {
     "name": "stdout",
     "output_type": "stream",
     "text": [
      "PyAEDT INFO: Bodies Info Refreshed Elapsed time: 0m 0sec\n"
     ]
    },
    {
     "name": "stdout",
     "output_type": "stream",
     "text": [
      "PyAEDT INFO: 3D Modeler objects parsed. Elapsed time: 0m 0sec\n"
     ]
    },
    {
     "name": "stdout",
     "output_type": "stream",
     "text": [
      "PyAEDT INFO: Parsing C:/Users/ansys/Documents/Ansoft/Project1276.aedt.\n"
     ]
    },
    {
     "name": "stdout",
     "output_type": "stream",
     "text": [
      "PyAEDT INFO: File C:/Users/ansys/Documents/Ansoft/Project1276.aedt correctly loaded. Elapsed time: 0m 0sec\n"
     ]
    },
    {
     "name": "stdout",
     "output_type": "stream",
     "text": [
      "PyAEDT INFO: aedt file load time 0.01685476303100586\n"
     ]
    },
    {
     "name": "stdout",
     "output_type": "stream",
     "text": [
      "PyAEDT INFO: PostProcessor class has been initialized! Elapsed time: 0m 0sec\n"
     ]
    },
    {
     "name": "stdout",
     "output_type": "stream",
     "text": [
      "PyAEDT INFO: Post class has been initialized! Elapsed time: 0m 0sec\n"
     ]
    },
    {
     "name": "stderr",
     "output_type": "stream",
     "text": [
      "C:\\actions-runner\\_work\\pyaedt-toolkits-common\\pyaedt-toolkits-common\\.venv\\lib\\site-packages\\pyvista\\jupyter\\notebook.py:37: UserWarning: Failed to use notebook backend: \n",
      "\n",
      "Please install `ipywidgets`.\n",
      "\n",
      "Falling back to a static output.\n",
      "  warnings.warn(\n"
     ]
    },
    {
     "data": {
      "image/jpeg": "[encoded data removed]",
      "image/png": "[encoded data removed]",
      "text/plain": [
       "<PIL.Image.Image image mode=RGB size=600x600>"
      ]
     },
     "metadata": {},
     "output_type": "display_data"
    },
    {
     "data": {
      "text/plain": [
       "True"
      ]
     },
     "execution_count": 11,
     "metadata": {},
     "output_type": "execute_result"
    }
   ],
   "source": [
    "wg = toolkit.aedtapp.modeler.create_waveguide([0, 0, 0], 1)\n",
    "model = toolkit.aedtapp.plot(show=False)\n",
    "model.show_grid = False\n",
    "model.plot(os.path.join(toolkit.aedtapp.working_directory, \"Image.jpg\"))"
   ]
  },
  {
   "cell_type": "markdown",
   "id": "4e38a122",
   "metadata": {},
   "source": [
    "## Save and release AEDT\n",
    "\n",
    "Save and release AEDT."
   ]
  },
  {
   "cell_type": "code",
   "execution_count": 12,
   "id": "9ccfb070",
   "metadata": {
    "execution": {
     "iopub.execute_input": "2025-02-18T17:41:41.733463Z",
     "iopub.status.busy": "2025-02-18T17:41:41.733463Z",
     "iopub.status.idle": "2025-02-18T17:41:43.058175Z",
     "shell.execute_reply": "2025-02-18T17:41:43.058175Z"
    }
   },
   "outputs": [
    {
     "name": "stdout",
     "output_type": "stream",
     "text": [
      "PyAEDT INFO: Desktop has been released and closed.\n"
     ]
    },
    {
     "name": "stderr",
     "output_type": "stream",
     "text": [
      "INFO - AEDT is released.\n"
     ]
    },
    {
     "data": {
      "text/plain": [
       "True"
      ]
     },
     "execution_count": 12,
     "metadata": {},
     "output_type": "execute_result"
    }
   ],
   "source": [
    "toolkit.release_aedt(True, True)"
   ]
  }
 ],
 "metadata": {
  "jupytext": {
   "cell_metadata_filter": "-all",
   "main_language": "python",
   "notebook_metadata_filter": "-all",
   "text_representation": {
    "extension": ".py",
    "format_name": "light"
   }
  },
  "language_info": {
   "codemirror_mode": {
    "name": "ipython",
    "version": 3
   },
   "file_extension": ".py",
   "mimetype": "text/x-python",
   "name": "python",
   "nbconvert_exporter": "python",
   "pygments_lexer": "ipython3",
   "version": "3.10.11"
  }
 },
 "nbformat": 4,
 "nbformat_minor": 5
}
