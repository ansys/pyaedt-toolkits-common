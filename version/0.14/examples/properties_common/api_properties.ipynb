{
 "cells": [
  {
   "cell_type": "markdown",
   "id": "5c8e24e7",
   "metadata": {},
   "source": [
    "# Properties example\n",
    "\n",
    "This example shows how to use the ``Common`` class, which contains properties models.\n",
    "These properties provide for sharing information through all the workflow."
   ]
  },
  {
   "cell_type": "markdown",
   "id": "b5baa42e",
   "metadata": {},
   "source": [
    "## Add new properties\n",
    "\n",
    "Before importing the common module, you can add new properties.\n",
    "First create a file that contains the new properties type, [Models](models.py).\n",
    "Then add a [TOML file](backend_properties.toml) that sets the needed default values.\n",
    "Finally, import the properties."
   ]
  },
  {
   "cell_type": "code",
   "execution_count": 1,
   "id": "356a9eaf",
   "metadata": {
    "execution": {
     "iopub.execute_input": "2025-09-26T14:22:53.471371Z",
     "iopub.status.busy": "2025-09-26T14:22:53.471371Z",
     "iopub.status.idle": "2025-09-26T14:22:53.699475Z",
     "shell.execute_reply": "2025-09-26T14:22:53.699475Z"
    }
   },
   "outputs": [],
   "source": [
    "from models import properties"
   ]
  },
  {
   "cell_type": "markdown",
   "id": "4174bc6b",
   "metadata": {},
   "source": [
    "## Perform required imports\n",
    "\n",
    "Perform the required imports."
   ]
  },
  {
   "cell_type": "code",
   "execution_count": 2,
   "id": "aa7222dc",
   "metadata": {
    "execution": {
     "iopub.execute_input": "2025-09-26T14:22:53.699475Z",
     "iopub.status.busy": "2025-09-26T14:22:53.699475Z",
     "iopub.status.idle": "2025-09-26T14:22:57.418775Z",
     "shell.execute_reply": "2025-09-26T14:22:57.418775Z"
    }
   },
   "outputs": [],
   "source": [
    "import sys\n",
    "from ansys.aedt.toolkits.common.backend.api import Common"
   ]
  },
  {
   "cell_type": "markdown",
   "id": "f0f53c01",
   "metadata": {},
   "source": [
    "## Initialize toolkit\n",
    "\n",
    "Initialize the toolkit with the new properties."
   ]
  },
  {
   "cell_type": "code",
   "execution_count": 3,
   "id": "9891c83a",
   "metadata": {
    "execution": {
     "iopub.execute_input": "2025-09-26T14:22:57.418775Z",
     "iopub.status.busy": "2025-09-26T14:22:57.418775Z",
     "iopub.status.idle": "2025-09-26T14:22:57.427032Z",
     "shell.execute_reply": "2025-09-26T14:22:57.427032Z"
    }
   },
   "outputs": [],
   "source": [
    "toolkit = Common(properties)"
   ]
  },
  {
   "cell_type": "markdown",
   "id": "94f3ebfc",
   "metadata": {},
   "source": [
    "## Get properties\n",
    "\n",
    "Get the properties."
   ]
  },
  {
   "cell_type": "code",
   "execution_count": 4,
   "id": "36dd0f78",
   "metadata": {
    "execution": {
     "iopub.execute_input": "2025-09-26T14:22:57.427032Z",
     "iopub.status.busy": "2025-09-26T14:22:57.427032Z",
     "iopub.status.idle": "2025-09-26T14:22:57.439529Z",
     "shell.execute_reply": "2025-09-26T14:22:57.439529Z"
    }
   },
   "outputs": [
    {
     "data": {
      "text/plain": [
       "{'aedt_version': '2025.2',\n",
       " 'non_graphical': False,\n",
       " 'active_project': '',\n",
       " 'active_design': '',\n",
       " 'project_list': [],\n",
       " 'design_list': {},\n",
       " 'selected_process': 0,\n",
       " 'use_grpc': True,\n",
       " 'is_toolkit_busy': False,\n",
       " 'url': '127.0.0.1',\n",
       " 'port': 5001,\n",
       " 'debug': False,\n",
       " 'toolkit_name': 'example',\n",
       " 'log_file': 'example_backend.log',\n",
       " 'state': '',\n",
       " 'progress': 0,\n",
       " 'example': {'invented_property': [10], 'test': 'hola'}}"
      ]
     },
     "execution_count": 4,
     "metadata": {},
     "output_type": "execute_result"
    }
   ],
   "source": [
    "toolkit.get_properties()"
   ]
  },
  {
   "cell_type": "markdown",
   "id": "6879e8d0",
   "metadata": {},
   "source": [
    "## Set property\n",
    "\n",
    "Use ``set_properties`` to set the new property."
   ]
  },
  {
   "cell_type": "code",
   "execution_count": 5,
   "id": "9f0eafb4",
   "metadata": {
    "execution": {
     "iopub.execute_input": "2025-09-26T14:22:57.439529Z",
     "iopub.status.busy": "2025-09-26T14:22:57.439529Z",
     "iopub.status.idle": "2025-09-26T14:22:57.450529Z",
     "shell.execute_reply": "2025-09-26T14:22:57.450529Z"
    }
   },
   "outputs": [
    {
     "name": "stderr",
     "output_type": "stream",
     "text": [
      "INFO - Updating internal properties.\n"
     ]
    },
    {
     "data": {
      "text/plain": [
       "{'aedt_version': '2025.2',\n",
       " 'non_graphical': False,\n",
       " 'active_project': '',\n",
       " 'active_design': '',\n",
       " 'project_list': [],\n",
       " 'design_list': {},\n",
       " 'selected_process': 0,\n",
       " 'use_grpc': True,\n",
       " 'is_toolkit_busy': False,\n",
       " 'url': '127.0.0.1',\n",
       " 'port': 5001,\n",
       " 'debug': False,\n",
       " 'toolkit_name': 'example',\n",
       " 'log_file': 'example_backend.log',\n",
       " 'state': '',\n",
       " 'progress': 0,\n",
       " 'example': {'invented_property': [1, 2, 3], 'test': 'hola'}}"
      ]
     },
     "execution_count": 5,
     "metadata": {},
     "output_type": "execute_result"
    }
   ],
   "source": [
    "set_properties = {\"invented_property\": [1, 2, 3]}\n",
    "toolkit.set_properties(set_properties)\n",
    "toolkit.get_properties()"
   ]
  },
  {
   "cell_type": "markdown",
   "id": "ab9bbffb",
   "metadata": {},
   "source": [
    "## Set property directly\n",
    "\n",
    "Set the property directly."
   ]
  },
  {
   "cell_type": "code",
   "execution_count": 6,
   "id": "5ade70a2",
   "metadata": {
    "execution": {
     "iopub.execute_input": "2025-09-26T14:22:57.450529Z",
     "iopub.status.busy": "2025-09-26T14:22:57.450529Z",
     "iopub.status.idle": "2025-09-26T14:22:58.715471Z",
     "shell.execute_reply": "2025-09-26T14:22:58.715471Z"
    }
   },
   "outputs": [
    {
     "ename": "ValidationError",
     "evalue": "1 validation error for Properties\ninvented_property\n  Object has no attribute 'invented_property' [type=no_such_attribute, input_value=[10, 20, 30], input_type=list]\n    For further information visit https://errors.pydantic.dev/2.11/v/no_such_attribute",
     "output_type": "error",
     "traceback": [
      "\u001b[31m---------------------------------------------------------------------------\u001b[39m",
      "\u001b[31mValidationError\u001b[39m                           Traceback (most recent call last)",
      "\u001b[36mCell\u001b[39m\u001b[36m \u001b[39m\u001b[32mIn[6]\u001b[39m\u001b[32m, line 1\u001b[39m\n\u001b[32m----> \u001b[39m\u001b[32m1\u001b[39m \u001b[43mproperties\u001b[49m\u001b[43m.\u001b[49m\u001b[43minvented_property\u001b[49m = [\u001b[32m10\u001b[39m, \u001b[32m20\u001b[39m, \u001b[32m30\u001b[39m]\n\u001b[32m      2\u001b[39m toolkit.get_properties()\n",
      "\u001b[36mFile \u001b[39m\u001b[32mC:\\actions-runner\\_work\\pyaedt-toolkits-common\\pyaedt-toolkits-common\\.venv\\Lib\\site-packages\\pydantic\\main.py:998\u001b[39m, in \u001b[36mBaseModel.__setattr__\u001b[39m\u001b[34m(self, name, value)\u001b[39m\n\u001b[32m    996\u001b[39m \u001b[38;5;66;03m# if None is returned from _setattr_handler, the attribute was set directly\u001b[39;00m\n\u001b[32m    997\u001b[39m \u001b[38;5;28;01melif\u001b[39;00m (setattr_handler := \u001b[38;5;28mself\u001b[39m._setattr_handler(name, value)) \u001b[38;5;129;01mis\u001b[39;00m \u001b[38;5;129;01mnot\u001b[39;00m \u001b[38;5;28;01mNone\u001b[39;00m:\n\u001b[32m--> \u001b[39m\u001b[32m998\u001b[39m     \u001b[43msetattr_handler\u001b[49m\u001b[43m(\u001b[49m\u001b[38;5;28;43mself\u001b[39;49m\u001b[43m,\u001b[49m\u001b[43m \u001b[49m\u001b[43mname\u001b[49m\u001b[43m,\u001b[49m\u001b[43m \u001b[49m\u001b[43mvalue\u001b[49m\u001b[43m)\u001b[49m  \u001b[38;5;66;03m# call here to not memo on possibly unknown fields\u001b[39;00m\n\u001b[32m    999\u001b[39m     \u001b[38;5;28mself\u001b[39m.__pydantic_setattr_handlers__[name] = setattr_handler\n",
      "\u001b[36mFile \u001b[39m\u001b[32mC:\\actions-runner\\_work\\pyaedt-toolkits-common\\pyaedt-toolkits-common\\.venv\\Lib\\site-packages\\pydantic\\main.py:114\u001b[39m, in \u001b[36m<lambda>\u001b[39m\u001b[34m(model, name, val)\u001b[39m\n\u001b[32m    108\u001b[39m         \u001b[38;5;28mobject\u001b[39m.\u001b[34m__setattr__\u001b[39m(model, \u001b[33m'\u001b[39m\u001b[33m__pydantic_private__\u001b[39m\u001b[33m'\u001b[39m, {})\n\u001b[32m    109\u001b[39m     model.__pydantic_private__[name] = val  \u001b[38;5;66;03m# pyright: ignore[reportOptionalSubscript]\u001b[39;00m\n\u001b[32m    112\u001b[39m _SIMPLE_SETATTR_HANDLERS: Mapping[\u001b[38;5;28mstr\u001b[39m, Callable[[BaseModel, \u001b[38;5;28mstr\u001b[39m, Any], \u001b[38;5;28;01mNone\u001b[39;00m]] = {\n\u001b[32m    113\u001b[39m     \u001b[33m'\u001b[39m\u001b[33mmodel_field\u001b[39m\u001b[33m'\u001b[39m: _model_field_setattr_handler,\n\u001b[32m--> \u001b[39m\u001b[32m114\u001b[39m     \u001b[33m'\u001b[39m\u001b[33mvalidate_assignment\u001b[39m\u001b[33m'\u001b[39m: \u001b[38;5;28;01mlambda\u001b[39;00m model, name, val: \u001b[43mmodel\u001b[49m\u001b[43m.\u001b[49m\u001b[43m__pydantic_validator__\u001b[49m\u001b[43m.\u001b[49m\u001b[43mvalidate_assignment\u001b[49m\u001b[43m(\u001b[49m\u001b[43mmodel\u001b[49m\u001b[43m,\u001b[49m\u001b[43m \u001b[49m\u001b[43mname\u001b[49m\u001b[43m,\u001b[49m\u001b[43m \u001b[49m\u001b[43mval\u001b[49m\u001b[43m)\u001b[49m,  \u001b[38;5;66;03m# pyright: ignore[reportAssignmentType]\u001b[39;00m\n\u001b[32m    115\u001b[39m     \u001b[33m'\u001b[39m\u001b[33mprivate\u001b[39m\u001b[33m'\u001b[39m: _private_setattr_handler,\n\u001b[32m    116\u001b[39m     \u001b[33m'\u001b[39m\u001b[33mcached_property\u001b[39m\u001b[33m'\u001b[39m: \u001b[38;5;28;01mlambda\u001b[39;00m model, name, val: model.\u001b[34m__dict__\u001b[39m.\u001b[34m__setitem__\u001b[39m(name, val),\n\u001b[32m    117\u001b[39m     \u001b[33m'\u001b[39m\u001b[33mextra_known\u001b[39m\u001b[33m'\u001b[39m: \u001b[38;5;28;01mlambda\u001b[39;00m model, name, val: _object_setattr(model, name, val),\n\u001b[32m    118\u001b[39m }\n\u001b[32m    121\u001b[39m \u001b[38;5;28;01mclass\u001b[39;00m\u001b[38;5;250m \u001b[39m\u001b[34;01mBaseModel\u001b[39;00m(metaclass=_model_construction.ModelMetaclass):\n\u001b[32m    122\u001b[39m \u001b[38;5;250m    \u001b[39m\u001b[33;03m\"\"\"!!! abstract \"Usage Documentation\"\u001b[39;00m\n\u001b[32m    123\u001b[39m \u001b[33;03m        [Models](../concepts/models.md)\u001b[39;00m\n\u001b[32m    124\u001b[39m \n\u001b[32m   (...)\u001b[39m\u001b[32m    151\u001b[39m \u001b[33;03m        __pydantic_private__: Values of private attributes set on the model instance.\u001b[39;00m\n\u001b[32m    152\u001b[39m \u001b[33;03m    \"\"\"\u001b[39;00m\n",
      "\u001b[31mValidationError\u001b[39m: 1 validation error for Properties\ninvented_property\n  Object has no attribute 'invented_property' [type=no_such_attribute, input_value=[10, 20, 30], input_type=list]\n    For further information visit https://errors.pydantic.dev/2.11/v/no_such_attribute"
     ]
    }
   ],
   "source": [
    "properties.invented_property = [10, 20, 30]\n",
    "toolkit.get_properties()"
   ]
  },
  {
   "cell_type": "markdown",
   "id": "a7b0dcaa",
   "metadata": {},
   "source": [
    "## Set wrong property\n",
    "\n",
    "Set the wrong property. It is not possible to change the property type."
   ]
  },
  {
   "cell_type": "code",
   "execution_count": 7,
   "id": "6a7c85c5",
   "metadata": {
    "execution": {
     "iopub.execute_input": "2025-09-26T14:22:58.717227Z",
     "iopub.status.busy": "2025-09-26T14:22:58.717227Z",
     "iopub.status.idle": "2025-09-26T14:22:58.726771Z",
     "shell.execute_reply": "2025-09-26T14:22:58.726771Z"
    }
   },
   "outputs": [
    {
     "name": "stderr",
     "output_type": "stream",
     "text": [
      "INFO - Updating internal properties.\n"
     ]
    },
    {
     "data": {
      "text/plain": [
       "(True, 'Properties were updated successfully.')"
      ]
     },
     "execution_count": 7,
     "metadata": {},
     "output_type": "execute_result"
    }
   ],
   "source": [
    "set_properties = {\"invented_property\": 1}\n",
    "toolkit.set_properties(set_properties)"
   ]
  }
 ],
 "metadata": {
  "jupytext": {
   "cell_metadata_filter": "-all",
   "main_language": "python",
   "notebook_metadata_filter": "-all",
   "text_representation": {
    "extension": ".py",
    "format_name": "light"
   }
  },
  "language_info": {
   "codemirror_mode": {
    "name": "ipython",
    "version": 3
   },
   "file_extension": ".py",
   "mimetype": "text/x-python",
   "name": "python",
   "nbconvert_exporter": "python",
   "pygments_lexer": "ipython3",
   "version": "3.12.10"
  }
 },
 "nbformat": 4,
 "nbformat_minor": 5
}
